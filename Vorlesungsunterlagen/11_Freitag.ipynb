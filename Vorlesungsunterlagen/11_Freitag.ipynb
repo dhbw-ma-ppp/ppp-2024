{
 "cells": [
  {
   "cell_type": "markdown",
   "id": "c8dfeac2-bee3-49ee-9925-f598ea8b2463",
   "metadata": {},
   "source": [
    "# Machine Learning"
   ]
  },
  {
   "cell_type": "markdown",
   "id": "129dd8a3-341c-4985-83f1-d595af5db27c",
   "metadata": {},
   "source": [
    "## Definition:"
   ]
  },
  {
   "cell_type": "markdown",
   "id": "f49ccbd8-4cfc-4300-967b-9fdf28be2faa",
   "metadata": {},
   "source": [
    "**The field of study that focuses on the development of algorithms and models that allow computers to learn patterns and relationships from data and make predictions or decisions without being explicitly programmed.**\n",
    "\n",
    "This learning process involves the use of statistical techniques, mathematical optimization, and algorithms to enable computers to:\n",
    "- **Recognize Patterns**: Identify and learn patterns or structures within data.\n",
    "- **Make Predictions**: Based on learned patterns, make predictions or decisions about new or unseen data.\n",
    "- **Improve Performance**: Continuously refine and improve predictions or decisions as new data becomes available.\n",
    "\n",
    "The goal of machine learning is to build models that **generalize well to new, unseen data**, allowing for accurate predictions or decisions in various domains and business settings."
   ]
  },
  {
   "cell_type": "markdown",
   "id": "e4926462-b04c-4903-8760-76d90ef1e3ca",
   "metadata": {},
   "source": [
    "## Common Terms"
   ]
  },
  {
   "cell_type": "markdown",
   "id": "9a7e67f6-39a5-4860-9dac-50a8cd217e19",
   "metadata": {},
   "source": [
    "- **Supervised Learning**: A type of machine learning where models learn from labeled data to make predictions or decisions. It involves input-output pairs for training.\n",
    "  - **Classification**: A type of supervised learning where the model predicts categories or classes for new instances based on past observations.\n",
    "  - **Regression**: A type of supervised learning where the model predicts continuous values based on input features.\n",
    "- **Unsupervised Learning**: Learning from data without labeled responses. Algorithms try to uncover hidden patterns or structures within the data.\n",
    "  - **Clustering**: Unsupervised learning technique that groups similar data points together based on certain criteria.\n",
    "- **Semi-Supervised Learning**: A combination of supervised and unsupervised learning where a model learns from both labeled and unlabeled data.\n",
    "- **Reinforcement Learning**: Learning through interaction with an environment to achieve a goal. The model learns by receiving rewards or penalties for its actions.\n",
    "- **Generative AI**: Autonomously generate novel and realistic content, resembling human-created data."
   ]
  },
  {
   "cell_type": "markdown",
   "id": "335b6a5a-f748-4197-b869-09002c3d8c18",
   "metadata": {},
   "source": [
    "- **Training Data**: The data used to train a machine learning model, consisting of input features and corresponding labels/targets.\n",
    "- **Validation Data**: A dataset used to evaluate a model during training to fine-tune parameters or prevent overfitting.\n",
    "- **Test Data**: A separate dataset used to assess the model's performance after it has been trained and validated.\n",
    "- **Feature**: An individual measurable property or characteristic of a phenomenon being observed. Features are used as input variables in machine learning models.\n",
    "- **Label/Target**: The output variable that a supervised learning algorithm aims to predict. It's the value or category being predicted."
   ]
  },
  {
   "cell_type": "markdown",
   "id": "4f86cae1-1903-4462-aa51-5be36495cf29",
   "metadata": {},
   "source": [
    "- **Feature Engineering**: The process of creating new features or transforming existing ones to improve a model's performance.\n",
    "- **Dimensionality Reduction**: Techniques to reduce the number of input features, often using methods like Principal Component Analysis (PCA) or t-SNE."
   ]
  },
  {
   "cell_type": "markdown",
   "id": "cbaf54ce-251c-4b53-a1b1-4bcceb937d9a",
   "metadata": {},
   "source": [
    "- **Algorithm**: Mathematical procedures or techniques used to learn patterns and relationships from data, enabling computers to make predictions or decisions without explicit programming.\n",
    "- **Model**: The result of applying an Algorithm to training data. (Approximate) representation of the patterns learned from the data.\n",
    "- **Hyperparameters**: Parameters of a machine learning model that are set before the training process begins. They control the learning process and affect the model's performance.\n",
    "- **Overfitting**: Occurs when a model learns too much from the training data, capturing noise and irrelevant patterns, leading to poor performance on new data.\n",
    "- **Underfitting**: Occurs when a model is too simple to capture the underlying patterns in the training data, resulting in poor performance on both training and new data.\n",
    "- **Regularization**: Techniques used to prevent overfitting by adding penalties or constraints to the model's parameters.\n",
    "- **Cross-Validation**: A technique used to assess the performance of a model by splitting the data into multiple subsets, training on some and validating on others."
   ]
  },
  {
   "cell_type": "markdown",
   "id": "1d0bf9a1-d986-4c12-b1be-1853089402e1",
   "metadata": {},
   "source": [
    "- **Metric**: Quantifiable measure used to evaluate the performance or quality of a machine learning model.\n",
    "- **Accuracy**: The proportion of correctly classified instances out of the total instances in classification tasks.\n",
    "- **Precision**: In binaryc flassification, the proportion of true positive predictions out of all positive predictions. It measures the accuracy of positive predictions. \n",
    "- **Recall**: The proportion of true positive predictions out of all actual positive instances. It measures the model's ability to identify all positive instances. \n",
    "- **F1 Score**: The harmonic mean of precision and recall, providing a single score that balances both metrics.\n",
    "- **Mean Absolute Error (MAE)**: The average of absolute differences between predicted and actual values, measuring the average magnitude of errors. \n",
    "- **Mean Squared Error (MSE)**: The average of squared differences between predicted and actual values, giving higher weight to larger errors. \n",
    "- **Root Mean Squared Error (RMSE)**: The square root of the mean squared error, providing a measure of the standard deviation of errors."
   ]
  },
  {
   "cell_type": "markdown",
   "id": "0f35f935-4fc1-4313-a141-76b3bcfa8584",
   "metadata": {},
   "source": [
    "- **Bias**: Systematic error introduced by approximations, assumptions, or simplifications in a model.\n",
    "- **Variance**: The variability of model predictions for a given data point, which indicates the model's sensitivity to variations in the training data.\n",
    "- **Bias-Variance Tradeoff**: The tradeoff between a model's ability to capture the complexity of the data (variance) and its ability to generalize to new data (bias)."
   ]
  },
  {
   "cell_type": "markdown",
   "id": "0228646d-997f-4a5a-b6b6-458b3ae56939",
   "metadata": {},
   "source": [
    "- **Gradient Descent**: An optimization algorithm used to minimize the loss function by adjusting the model's parameters iteratively.\n",
    "- **Loss Function**: A measure of how well a model performs on the training data by quantifying the difference between predicted and actual values.\n",
    "- **Optimization**: The process of adjusting the model's parameters to minimize the loss function, often using optimization algorithms like gradient descent.\n"
   ]
  },
  {
   "cell_type": "markdown",
   "id": "9359a532-9810-4580-a057-d08d03b5745e",
   "metadata": {},
   "source": [
    "- **(Training) Pipeline**: Sequence of data processing steps or operations that are chained together in a specific order to automate a workflow. Typically includes data preprocessing, feature engineering, model training, and model evaluation, and possibly more.\n",
    "- **Deployment**: The process of putting a trained machine learning model into operation or making it available for use in real-world applications."
   ]
  },
  {
   "cell_type": "markdown",
   "id": "55901fac-08e8-40e4-8410-480b1c866667",
   "metadata": {},
   "source": [
    "- **Linear Regression**: A linear approach to modeling the relationship between a dependent variable and one or more independent variables by fitting a linear equation to the observed data.\n",
    "- **Coefficients (Weights)**: The values assigned to each independent variable in a linear equation representing the strength and direction of the relationship with the dependent variable.\n",
    "- **Intercept**: The constant term in a linear equation that represents the predicted value when all independent variables are zero.\n",
    "- **Residuals**: The differences between observed and predicted values in a regression model, indicating the model's accuracy.\n",
    "- **R-squared (R²)**: A measure indicating the proportion of variance in the dependent variable explained by the independent variables in the model.\n",
    "- **Adjusted R-squared**: A modified version of R-squared that adjusts for the number of predictors in the model."
   ]
  },
  {
   "cell_type": "markdown",
   "id": "d46189d8-d1e8-4852-90f4-e0cf1be083ff",
   "metadata": {},
   "source": [
    "- **Decision Tree**: A hierarchical tree-like structure consisting of nodes and branches used to make decisions by partitioning the data based on features.\n",
    "- **Node**: Represents a decision point in a decision tree, containing a feature and a threshold used to split the data.\n",
    "- **Root Node**: The top node of a decision tree, representing the initial split.\n",
    "- **Leaf Node (Terminal Node)**: End nodes in a decision tree that do not split further, providing the final decision or prediction.\n",
    "- **Random Forest**: An ensemble learning method that builds multiple decision trees and aggregates their predictions to improve accuracy and reduce overfitting.\n",
    "- **Gradient Boosting**: An ensemble learning technique that builds multiple weak learners (usually decision trees) sequentially, each one correcting the errors of its predecessor.\n",
    "- **Weak Learner**: Individual models that perform slightly better than random guessing; typically, shallow decision trees are used as weak learners in gradient boosting."
   ]
  },
  {
   "cell_type": "markdown",
   "id": "f6e341ed-cbf3-4e62-9365-6f1a1cc7363a",
   "metadata": {},
   "source": [
    "- **Neural Networks**: A set of algorithms designed to recognize patterns, inspired by the human brain's structure, consisting of interconnected nodes (neurons) arranged in layers.\n",
    "- **Deep Learning**: Subset of machine learning using neural networks with multiple layers (deep neural networks) to learn from data.\n",
    "- **Convolutional Neural Networks (CNNs)**: Deep learning models specifically designed for processing structured grid-like data, often used in image recognition.\n",
    "- **Recurrent Neural Networks (RNNs)**: Neural networks designed for sequential data by introducing connections that loop back on themselves, used in natural language processing and time series analysis.\n",
    "- **Transformers**: modern alternative to e.g. RNNs, also for processing sequential data, but better training performance (no recursion).\n"
   ]
  },
  {
   "cell_type": "markdown",
   "id": "519f9827-2606-4f56-a21d-ec018fc8ce07",
   "metadata": {},
   "source": [
    "# sklearn"
   ]
  },
  {
   "cell_type": "code",
   "execution_count": null,
   "id": "f6cb8696-1e73-4176-be4b-e2bbf5ddc530",
   "metadata": {},
   "outputs": [],
   "source": [
    "!/home/atreju/.conda/envs/dhbw/bin/pip install scikit-learn"
   ]
  },
  {
   "cell_type": "code",
   "execution_count": null,
   "id": "a63dcf2f-295b-4ea9-9f85-81de197f90f3",
   "metadata": {},
   "outputs": [],
   "source": [
    "import numpy as np\n",
    "import pandas as pd\n",
    "import sklearn  # usually: import of individual submodules"
   ]
  },
  {
   "cell_type": "markdown",
   "id": "94ebd527-b0b6-4a7f-9f13-5d6262923b36",
   "metadata": {},
   "source": [
    "## A simple classification example"
   ]
  },
  {
   "cell_type": "markdown",
   "id": "6c625bb7-5141-4132-81da-338f774a118f",
   "metadata": {},
   "source": [
    "### Read Data"
   ]
  },
  {
   "cell_type": "code",
   "execution_count": null,
   "id": "b4f84426-c566-49d9-a172-b56b6da20d77",
   "metadata": {},
   "outputs": [],
   "source": [
    "# read the data\n",
    "df = pd.read_csv('../data/iris.csv')\n",
    "df"
   ]
  },
  {
   "cell_type": "markdown",
   "id": "35b0170a-8424-40fa-b4c0-4d81220402d5",
   "metadata": {},
   "source": [
    "### Train-Test-Split"
   ]
  },
  {
   "cell_type": "code",
   "execution_count": null,
   "id": "bb4be1d4-c2c1-4f72-9173-f9578f44910f",
   "metadata": {},
   "outputs": [],
   "source": [
    "from sklearn.model_selection import train_test_split"
   ]
  },
  {
   "cell_type": "code",
   "execution_count": null,
   "id": "311a3859-eac7-4e5d-bfac-4f88e9186d8b",
   "metadata": {},
   "outputs": [],
   "source": [
    "# separate features and target;\n",
    "# encode target as numerical values\n",
    "x = df.iloc[:, :4]\n",
    "y = df[['variety']]"
   ]
  },
  {
   "cell_type": "code",
   "execution_count": null,
   "id": "8079ae54-5ee8-4d0a-a702-d8b9feb74564",
   "metadata": {},
   "outputs": [],
   "source": [
    "# stratified sampling in the train_test_split\n",
    "x_train, x_test, y_train, y_test = train_test_split(x, y, test_size=0.2, stratify=y)"
   ]
  },
  {
   "cell_type": "code",
   "execution_count": null,
   "id": "e9f63d96-4beb-47f8-a946-8a8e357fed2a",
   "metadata": {},
   "outputs": [],
   "source": [
    "x_train.head()"
   ]
  },
  {
   "cell_type": "code",
   "execution_count": null,
   "id": "e7c18479-f429-4da6-ada2-ffe6b4178efd",
   "metadata": {},
   "outputs": [],
   "source": [
    "x_train.shape"
   ]
  },
  {
   "cell_type": "code",
   "execution_count": null,
   "id": "fb67bcb1-4555-4a06-a4e3-cd52d0932b99",
   "metadata": {},
   "outputs": [],
   "source": [
    "x_test.head()"
   ]
  },
  {
   "cell_type": "code",
   "execution_count": null,
   "id": "0857adeb-9a7a-47d0-91ec-2f59555c7478",
   "metadata": {},
   "outputs": [],
   "source": [
    "x_test.shape"
   ]
  },
  {
   "cell_type": "code",
   "execution_count": null,
   "id": "612171c9-5a94-4134-b111-2fee94ba9710",
   "metadata": {},
   "outputs": [],
   "source": [
    "y_train.head()"
   ]
  },
  {
   "cell_type": "code",
   "execution_count": null,
   "id": "070c8337-c3c8-4f2f-a3da-f0971c6dbf5e",
   "metadata": {},
   "outputs": [],
   "source": [
    "y_train.shape"
   ]
  },
  {
   "cell_type": "code",
   "execution_count": null,
   "id": "af577814-c21f-46db-9431-2cd58647be01",
   "metadata": {},
   "outputs": [],
   "source": [
    "y_test.head()"
   ]
  },
  {
   "cell_type": "code",
   "execution_count": null,
   "id": "96c1ad1b-2521-499b-a4ec-ea93a4cb6198",
   "metadata": {},
   "outputs": [],
   "source": [
    "y_test.shape"
   ]
  },
  {
   "cell_type": "code",
   "execution_count": null,
   "id": "89bda6ad-4f09-4c70-a450-6648188a3a83",
   "metadata": {},
   "outputs": [],
   "source": [
    "# verify that the stratify option did what it should\n",
    "np.unique(y_test, return_counts=True)"
   ]
  },
  {
   "cell_type": "markdown",
   "id": "8ff5ae5d-34b8-4221-b249-5fca9ebe38fd",
   "metadata": {},
   "source": [
    "### Train a simple Decision Tree"
   ]
  },
  {
   "cell_type": "code",
   "execution_count": null,
   "id": "f20ab4da-5ca3-460e-b3a1-1aa77bc0da2a",
   "metadata": {},
   "outputs": [],
   "source": [
    "from sklearn import tree"
   ]
  },
  {
   "cell_type": "code",
   "execution_count": null,
   "id": "e43ef4ef-375e-4086-b630-231865ef300a",
   "metadata": {},
   "outputs": [],
   "source": [
    "classifier = tree.DecisionTreeClassifier()"
   ]
  },
  {
   "cell_type": "code",
   "execution_count": null,
   "id": "e5b90940-3070-4920-b929-c5bd197b93d7",
   "metadata": {},
   "outputs": [],
   "source": [
    "# training the classifier\n",
    "classifier.fit(x_train, y_train)"
   ]
  },
  {
   "cell_type": "markdown",
   "id": "a4481b12-5fcc-4f42-ad33-f044050103d9",
   "metadata": {},
   "source": [
    "### Make predictions on the test set"
   ]
  },
  {
   "cell_type": "code",
   "execution_count": null,
   "id": "93166471-d559-445d-bf6f-4559f5eac507",
   "metadata": {},
   "outputs": [],
   "source": [
    "y_pred = classifier.predict(x_test)\n",
    "y_pred"
   ]
  },
  {
   "cell_type": "code",
   "execution_count": null,
   "id": "c1f505c0-90cc-4d8a-8101-459d96ebe38b",
   "metadata": {},
   "outputs": [],
   "source": [
    "y_pred = pd.DataFrame(y_pred, columns=['prediction'], index=y_test.index)"
   ]
  },
  {
   "cell_type": "code",
   "execution_count": null,
   "id": "994af508-91e8-4bdf-bb70-8c37e74ae842",
   "metadata": {},
   "outputs": [],
   "source": [
    "results = pd.concat([y_test, y_pred], axis=1)\n",
    "results['correct'] = results.variety == results.prediction\n",
    "results.head()"
   ]
  },
  {
   "cell_type": "markdown",
   "id": "581363f9-06f7-4710-beab-b0ae8f782249",
   "metadata": {},
   "source": [
    "### Evaluating Predictions"
   ]
  },
  {
   "cell_type": "code",
   "execution_count": null,
   "id": "1b409531-b9c8-4b1f-a9a7-6f8a8a9b44c0",
   "metadata": {},
   "outputs": [],
   "source": [
    "from sklearn.metrics import ConfusionMatrixDisplay"
   ]
  },
  {
   "cell_type": "code",
   "execution_count": null,
   "id": "edbf0257-443c-4982-8746-05d2a097916e",
   "metadata": {},
   "outputs": [],
   "source": [
    "ConfusionMatrixDisplay.from_estimator(classifier, x_test, y_test)"
   ]
  },
  {
   "cell_type": "code",
   "execution_count": null,
   "id": "8cf785c5-0da5-41f7-b025-6b148b81b5a6",
   "metadata": {},
   "outputs": [],
   "source": [
    "from sklearn.metrics import accuracy_score, f1_score, matthews_corrcoef"
   ]
  },
  {
   "cell_type": "code",
   "execution_count": null,
   "id": "7e567347-862e-48a4-ba12-81f4d1caf097",
   "metadata": {},
   "outputs": [],
   "source": [
    "accuracy_score(y_test, y_pred)"
   ]
  },
  {
   "cell_type": "code",
   "execution_count": null,
   "id": "d0bc3bfb-5672-474a-8a25-3f29c7218e6f",
   "metadata": {},
   "outputs": [],
   "source": [
    "f1_score(y_test, y_pred, average='macro')"
   ]
  },
  {
   "cell_type": "code",
   "execution_count": null,
   "id": "535c1cc9-33a6-4d85-943f-0a780a970070",
   "metadata": {},
   "outputs": [],
   "source": [
    "matthews_corrcoef(y_test, y_pred)"
   ]
  },
  {
   "cell_type": "code",
   "execution_count": null,
   "id": "a007ecd9-fd57-485b-b93a-99286748a939",
   "metadata": {},
   "outputs": [],
   "source": [
    "# training set 'memorized', predictions on training are perfect\n",
    "# some (fairly minor here) overfitting -- predictions on test not as good as on train\n",
    "matthews_corrcoef(y_train, classifier.predict(x_train))"
   ]
  },
  {
   "cell_type": "markdown",
   "id": "10fdea50-33ac-4ab1-a82c-d9b71abb3a29",
   "metadata": {},
   "source": [
    "### better understanding my model"
   ]
  },
  {
   "cell_type": "code",
   "execution_count": null,
   "id": "df39e3c6-d4c2-4802-afc7-c74ceb7acc81",
   "metadata": {},
   "outputs": [],
   "source": [
    "from sklearn.inspection import DecisionBoundaryDisplay, permutation_importance"
   ]
  },
  {
   "cell_type": "code",
   "execution_count": null,
   "id": "5496d957-a10f-4929-ada1-f619aed7067e",
   "metadata": {},
   "outputs": [],
   "source": [
    "tree.plot_tree(classifier, feature_names=x_train.columns, class_names=y_train.variety.unique(), filled=True);"
   ]
  },
  {
   "cell_type": "code",
   "execution_count": null,
   "id": "48b1528f-b955-4e14-9e60-e83bc29dc208",
   "metadata": {},
   "outputs": [],
   "source": [
    "_, _, test_importance = permutation_importance(classifier, x_test, y_test, n_repeats=20).values()\n",
    "_, _, train_importance = permutation_importance(classifier, x_train, y_train, n_repeats=20).values()"
   ]
  },
  {
   "cell_type": "code",
   "execution_count": null,
   "id": "4c8adea4-377f-4abe-b194-1910de5a926a",
   "metadata": {},
   "outputs": [],
   "source": [
    "test_importance = pd.DataFrame(test_importance.T, columns=x_test.columns)\n",
    "train_importance = pd.DataFrame(train_importance.T, columns=x_train.columns)"
   ]
  },
  {
   "cell_type": "code",
   "execution_count": null,
   "id": "6dda4f1c-620c-4e86-b55f-4627ae0b95d1",
   "metadata": {},
   "outputs": [],
   "source": [
    "test_importance.head()"
   ]
  },
  {
   "cell_type": "code",
   "execution_count": null,
   "id": "af179734-2ac8-4f6b-bb13-be2ccaa18122",
   "metadata": {},
   "outputs": [],
   "source": [
    "import plotnine as p9"
   ]
  },
  {
   "cell_type": "code",
   "execution_count": null,
   "id": "550d1c69-0855-4c47-bc75-f16719106e88",
   "metadata": {},
   "outputs": [],
   "source": [
    "molten_test_importance = test_importance.melt(var_name='feature', value_name='importance')\n",
    "molten_train_importance = train_importance.melt(var_name='feature', value_name='importance')\n",
    "molten_test_importance['set'] = 'test'\n",
    "molten_train_importance['set'] = 'train'"
   ]
  },
  {
   "cell_type": "code",
   "execution_count": null,
   "id": "5f5b81a5-6abe-4817-a2db-9f0a6f996ef9",
   "metadata": {},
   "outputs": [],
   "source": [
    "combined_importance = pd.concat([molten_test_importance, molten_train_importance])\n",
    "combined_importance"
   ]
  },
  {
   "cell_type": "code",
   "execution_count": null,
   "id": "61a6ad6e-2eba-4873-8a3c-0ca4fe1540af",
   "metadata": {},
   "outputs": [],
   "source": [
    "p9.ggplot(combined_importance, p9.aes(x='feature', y='importance', color='set')) + p9.geom_boxplot()"
   ]
  },
  {
   "cell_type": "markdown",
   "id": "67868f64-cfc9-4f3d-afa5-a048b85917ed",
   "metadata": {},
   "source": [
    "## A simple regression example"
   ]
  },
  {
   "cell_type": "code",
   "execution_count": null,
   "id": "c3db62a4-904d-4034-be4d-013d5c120d9f",
   "metadata": {},
   "outputs": [],
   "source": [
    "from sklearn.datasets import fetch_california_housing"
   ]
  },
  {
   "cell_type": "code",
   "execution_count": null,
   "id": "fbdaa79e-27b7-4c3f-8328-c4f77f4efb9a",
   "metadata": {},
   "outputs": [],
   "source": [
    "housing_data_features, housing_data_price = fetch_california_housing(return_X_y=True, as_frame=True)"
   ]
  },
  {
   "cell_type": "code",
   "execution_count": null,
   "id": "375dc6d0-3b85-4393-845e-c291c2d4881e",
   "metadata": {},
   "outputs": [],
   "source": [
    "housing_data_features"
   ]
  },
  {
   "cell_type": "code",
   "execution_count": null,
   "id": "c8598a5c-9b00-469b-8c29-dbcd4f2650fb",
   "metadata": {},
   "outputs": [],
   "source": [
    "housing_data_price"
   ]
  },
  {
   "cell_type": "markdown",
   "id": "39246ab7-462c-4ce2-90a6-0d6e322ce759",
   "metadata": {},
   "source": [
    "### splitting the data"
   ]
  },
  {
   "cell_type": "code",
   "execution_count": null,
   "id": "91de2b06-fdf6-4ada-94ea-ea0161a255de",
   "metadata": {},
   "outputs": [],
   "source": [
    "x_train, x_test, y_train, y_test = train_test_split(housing_data_features, housing_data_price,test_size=0.1)"
   ]
  },
  {
   "cell_type": "markdown",
   "id": "578c0a80-141c-4b8f-b5ac-d19ffe9debd6",
   "metadata": {},
   "source": [
    "### A **very** simple example"
   ]
  },
  {
   "cell_type": "code",
   "execution_count": null,
   "id": "16385837-cebb-4b7a-afa0-13bb6b117b9f",
   "metadata": {},
   "outputs": [],
   "source": [
    "import matplotlib.pyplot as plt\n",
    "import numpy as np\n",
    "\n",
    "from sklearn import datasets, linear_model\n",
    "from sklearn.metrics import mean_squared_error, r2_score"
   ]
  },
  {
   "cell_type": "code",
   "execution_count": null,
   "id": "4df6bddd-ba7a-4099-86ee-a52d2cd7f7a4",
   "metadata": {},
   "outputs": [],
   "source": [
    "# for the very first example we'll fit to just one feature\n",
    "feature = 'MedInc'"
   ]
  },
  {
   "cell_type": "code",
   "execution_count": null,
   "id": "6ea75360-3cdd-45b3-bc8b-f36aa0b6642e",
   "metadata": {},
   "outputs": [],
   "source": [
    "# Create linear regression object and fit on one feature\n",
    "regressor = linear_model.LinearRegression()\n",
    "regressor.fit(x_train[[feature]], y_train)"
   ]
  },
  {
   "cell_type": "code",
   "execution_count": null,
   "id": "aae59201-a4f7-4e83-9fb9-ba8381962854",
   "metadata": {},
   "outputs": [],
   "source": [
    "# Make predictions using the testing set\n",
    "y_pred = regressor.predict(x_test[[feature]])"
   ]
  },
  {
   "cell_type": "code",
   "execution_count": null,
   "id": "1392a087-1096-40a5-bd65-047d70a166eb",
   "metadata": {},
   "outputs": [],
   "source": [
    "# The coefficients\n",
    "print(\"Coefficients & Intercept: \\n\", regressor.coef_, regressor.intercept_)\n",
    "# The mean squared error\n",
    "print(\"Mean squared error: %.2f\" % mean_squared_error(y_test, y_pred))\n",
    "# The coefficient of determination: 1 is perfect prediction\n",
    "print(\"Coefficient of determination: %.2f\" % r2_score(y_test, y_pred))"
   ]
  },
  {
   "cell_type": "code",
   "execution_count": null,
   "id": "a8e0e21d-790a-4a22-b6dd-157b93e417da",
   "metadata": {},
   "outputs": [],
   "source": [
    "results_train = pd.DataFrame({\n",
    "    feature: x_train[feature],\n",
    "    'true': y_train,\n",
    "    'predicted': regressor.predict(x_train[[feature]]),\n",
    "    'type': 'train'\n",
    "})\n",
    "results_test = pd.DataFrame({\n",
    "    feature: x_test[feature],\n",
    "    'true': y_test,\n",
    "    'predicted': regressor.predict(x_test[[feature]]),\n",
    "    'type': 'test'\n",
    "})\n",
    "results = pd.concat([results_train, results_test])"
   ]
  },
  {
   "cell_type": "code",
   "execution_count": null,
   "id": "38e670e2-7a6a-4120-ae90-8a7e907261f9",
   "metadata": {},
   "outputs": [],
   "source": [
    "import plotnine as p9"
   ]
  },
  {
   "cell_type": "code",
   "execution_count": null,
   "id": "5e8f32ef-e710-4459-8f7f-1456efa7ab68",
   "metadata": {},
   "outputs": [],
   "source": [
    "p9.ggplot(results, p9.aes(x=feature, y='true', color='type')) + p9.geom_point() + p9.geom_line(p9.aes(y='predicted'), color='black')"
   ]
  },
  {
   "cell_type": "code",
   "execution_count": null,
   "id": "41244ba6-ad8f-49ad-a439-1dbc17d54305",
   "metadata": {},
   "outputs": [],
   "source": [
    "p9.ggplot(results, p9.aes(x='true', y='predicted', color='type')) + p9.geom_point() + p9.scale_x_continuous(limits=(0, 6)) + p9.scale_y_continuous(limits=(0, 6))"
   ]
  },
  {
   "cell_type": "markdown",
   "id": "5fdae64a-0a0a-45b1-afb0-9e036f2637fc",
   "metadata": {},
   "source": [
    "### Using all the features"
   ]
  },
  {
   "cell_type": "code",
   "execution_count": null,
   "id": "b9ecb1dd-bd77-4bd8-8533-fa61f5f8a182",
   "metadata": {},
   "outputs": [],
   "source": [
    "from sklearn import linear_model\n",
    "from sklearn import ensemble\n",
    "from sklearn.metrics import mean_squared_error, r2_score"
   ]
  },
  {
   "cell_type": "code",
   "execution_count": null,
   "id": "e4137a7f-6601-43a6-a603-faecbd16e613",
   "metadata": {},
   "outputs": [],
   "source": [
    "housing_data_features, housing_data_price = fetch_california_housing(return_X_y=True, as_frame=True)\n",
    "x_train, x_test, y_train, y_test = train_test_split(housing_data_features, housing_data_price,test_size=0.1)"
   ]
  },
  {
   "cell_type": "code",
   "execution_count": null,
   "id": "43efecf0-df5d-471e-a90d-9e69b2075b27",
   "metadata": {},
   "outputs": [],
   "source": [
    "x_train"
   ]
  },
  {
   "cell_type": "code",
   "execution_count": null,
   "id": "cba22318-a3c8-4924-b6bf-990698f4f5fc",
   "metadata": {},
   "outputs": [],
   "source": [
    "# regressor = tree.DecisionTreeRegressor(max_depth=10)\n",
    "regressor = linear_model.LinearRegression()\n",
    "\n",
    "# Train the model using the training sets\n",
    "regressor.fit(x_train, y_train)"
   ]
  },
  {
   "cell_type": "code",
   "execution_count": null,
   "id": "6850c8fe-1608-4230-a607-ad4d522676d9",
   "metadata": {},
   "outputs": [],
   "source": [
    "y_pred = regressor.predict(x_test)"
   ]
  },
  {
   "cell_type": "code",
   "execution_count": null,
   "id": "403f050c-2854-4106-a381-ab347c27cbb0",
   "metadata": {},
   "outputs": [],
   "source": [
    "# The coefficients\n",
    "print(\"Coefficients & Intercept: \\n\", regressor.coef_, regressor.intercept_)\n",
    "# The mean squared error\n",
    "print(\"Mean squared error: %.2f\" % mean_squared_error(y_test, y_pred))\n",
    "# The coefficient of determination: 1 is perfect prediction\n",
    "print(\"Coefficient of determination: %.2f\" % r2_score(y_test, y_pred))"
   ]
  },
  {
   "cell_type": "code",
   "execution_count": null,
   "id": "00cce56c-11a7-437a-8002-49b885a44df4",
   "metadata": {},
   "outputs": [],
   "source": [
    "results_train = pd.DataFrame({\n",
    "    'true': y_train,\n",
    "    'predicted': regressor.predict(x_train),\n",
    "    'type': 'train'\n",
    "})\n",
    "results_test = pd.DataFrame({\n",
    "    'true': y_test,\n",
    "    'predicted': regressor.predict(x_test),\n",
    "    'type': 'test'\n",
    "})\n",
    "results = pd.concat([results_train, results_test])"
   ]
  },
  {
   "cell_type": "code",
   "execution_count": null,
   "id": "39ecb27e-b178-4459-a7ff-cd0823844850",
   "metadata": {},
   "outputs": [],
   "source": [
    "p9.ggplot(results, p9.aes(x='true', y='predicted', color='type')) + p9.geom_point() + p9.scale_x_continuous(limits=(0, 6)) + p9.scale_y_continuous(limits=(0, 6))"
   ]
  },
  {
   "cell_type": "markdown",
   "id": "5af3a5e1-3554-4508-a8eb-d8da8e3dd466",
   "metadata": {},
   "source": [
    "## Clustering\n",
    "- unsupervised, we're not using the labels now (except for visualisation)\n",
    "- that also makes it hard to evaluate the quality for real settings"
   ]
  },
  {
   "cell_type": "code",
   "execution_count": null,
   "id": "d27b9086-610c-4246-9d76-5e00301738de",
   "metadata": {},
   "outputs": [],
   "source": [
    "from sklearn import datasets, cluster"
   ]
  },
  {
   "cell_type": "code",
   "execution_count": null,
   "id": "ebe62327-6502-47f2-97c2-64c82fe77c77",
   "metadata": {},
   "outputs": [],
   "source": [
    "coords, labels = datasets.make_blobs(n_samples=500, n_features=2, centers=3, cluster_std=3)\n",
    "# coords, labels = datasets.make_moons(n_samples=500)\n",
    "data = pd.DataFrame({\n",
    "    'x': coords[:, 0],\n",
    "    'y': coords[:, 1],\n",
    "    'cluster': labels\n",
    "})"
   ]
  },
  {
   "cell_type": "code",
   "execution_count": null,
   "id": "5b539a90-8a89-4ace-913a-83a3dfb27edc",
   "metadata": {},
   "outputs": [],
   "source": [
    "p9.ggplot(data, p9.aes(x='x', y='y', color='factor(cluster)')) + p9.geom_point()"
   ]
  },
  {
   "cell_type": "code",
   "execution_count": null,
   "id": "3428b4d8-d927-4a10-af74-1b995dc7903a",
   "metadata": {},
   "outputs": [],
   "source": [
    "clusterer = cluster.KMeans(n_clusters=3, n_init='auto')\n",
    "# clusterer = cluster.DBSCAN()"
   ]
  },
  {
   "cell_type": "code",
   "execution_count": null,
   "id": "7b472c84-b2fa-410a-a1cb-98c12297f79c",
   "metadata": {},
   "outputs": [],
   "source": [
    "# not using the labels here!\n",
    "clusterer.fit(coords)"
   ]
  },
  {
   "cell_type": "code",
   "execution_count": null,
   "id": "eaa88622-0a3a-42f2-9853-aab116afe952",
   "metadata": {},
   "outputs": [],
   "source": [
    "data['prediction'] = clusterer.fit_predict(coords)"
   ]
  },
  {
   "cell_type": "code",
   "execution_count": null,
   "id": "3136be2d-8626-4d78-aed3-345a16f07434",
   "metadata": {},
   "outputs": [],
   "source": [
    "p9.ggplot(data, p9.aes(x='x', y='y', color='factor(prediction)')) + p9.geom_point()"
   ]
  },
  {
   "cell_type": "markdown",
   "id": "d0e60ad2-89cf-48b5-9804-119c2affb194",
   "metadata": {},
   "source": [
    "## Dimensionality Reduction\n",
    "- not predictive as such\n",
    "- useful for visualizations and preprocessing\n",
    "- can be used for anomaly detection"
   ]
  },
  {
   "cell_type": "markdown",
   "id": "f6654426-d8ad-4ad8-b442-24d043b7002d",
   "metadata": {},
   "source": [
    "### Principal Component Analysis (PCA)\n",
    "- concentrates variance in first components"
   ]
  },
  {
   "cell_type": "code",
   "execution_count": null,
   "id": "e28e296d-a0ab-470c-ad6a-f6af9db38bc3",
   "metadata": {},
   "outputs": [],
   "source": [
    "from sklearn import decomposition\n",
    "from matplotlib import pyplot as plt"
   ]
  },
  {
   "cell_type": "code",
   "execution_count": null,
   "id": "7d2d9b82-b9d5-46f4-8dd4-82fed3f57c8c",
   "metadata": {},
   "outputs": [],
   "source": [
    "x_normal = np.random.normal(20, 5, 10000)\n",
    "y_normal = 1.2*x_normal + np.random.normal(0, 1, 10000)\n",
    "data_normal = pd.DataFrame({\n",
    "    'x': x_normal,\n",
    "    'y': y_normal,\n",
    "    'type': 'normal'\n",
    "})\n",
    "\n",
    "x_abnormal = np.random.normal(25, 1, 1000)\n",
    "y_abnormal = np.random.normal(20, 1, 1000)\n",
    "data_abnormal = pd.DataFrame({\n",
    "    'x': x_abnormal,\n",
    "    'y': y_abnormal,\n",
    "    'type': 'anomaly'\n",
    "})\n",
    "\n",
    "data = pd.concat([data_normal, data_abnormal])\n"
   ]
  },
  {
   "cell_type": "code",
   "execution_count": null,
   "id": "aacc51d0-3d43-499c-9ba3-64d925275ac6",
   "metadata": {},
   "outputs": [],
   "source": [
    "p9.ggplot(data, p9.aes(x='x', y='y', fill='type')) + p9.geom_point(alpha=0.1)"
   ]
  },
  {
   "cell_type": "code",
   "execution_count": null,
   "id": "16c7d498-b7f3-4da0-b8e4-329ccdd41316",
   "metadata": {},
   "outputs": [],
   "source": [
    "pca = decomposition.PCA()\n",
    "new_coords = pca.fit_transform(data.loc[:, ['x', 'y']])\n",
    "transformed_data = pd.DataFrame(new_coords, columns=['v0', 'v1'])\n",
    "transformed_data['type'] = data.type.values"
   ]
  },
  {
   "cell_type": "code",
   "execution_count": null,
   "id": "740d9e36-6755-4460-82ba-44c5becf7e6f",
   "metadata": {},
   "outputs": [],
   "source": [
    "p9.ggplot(transformed_data, p9.aes(x='v0', y='v1', fill='type')) + p9.geom_point(alpha=0.1)"
   ]
  },
  {
   "cell_type": "markdown",
   "id": "9e92ee6a-83b9-4d3d-a595-0bbca62bdc9f",
   "metadata": {},
   "source": [
    "### t-SNE\n",
    "- converts to a fixed number of dimensions\n",
    "- useful for visualisation"
   ]
  },
  {
   "cell_type": "code",
   "execution_count": null,
   "id": "96b723d9-b6d6-472e-91f6-722c5d8a3704",
   "metadata": {},
   "outputs": [],
   "source": [
    "from sklearn import manifold"
   ]
  },
  {
   "cell_type": "code",
   "execution_count": null,
   "id": "6359c8ec-747b-49c3-9ebe-21678d1b7544",
   "metadata": {},
   "outputs": [],
   "source": [
    "data = pd.read_csv('../data/iris.csv')"
   ]
  },
  {
   "cell_type": "code",
   "execution_count": null,
   "id": "99c5a1f4-0c34-4fee-92da-6541a0be77b1",
   "metadata": {},
   "outputs": [],
   "source": [
    "sne = manifold.TSNE()\n",
    "transformed_coordinates = sne.fit_transform(data.iloc[:, :4])"
   ]
  },
  {
   "cell_type": "code",
   "execution_count": null,
   "id": "b6e90593-a1ac-432e-980f-24a34c7f3d89",
   "metadata": {},
   "outputs": [],
   "source": [
    "transformed_data = pd.DataFrame(transformed_coordinates, columns=['v0', 'v1'])\n",
    "transformed_data['variety'] = data.variety"
   ]
  },
  {
   "cell_type": "code",
   "execution_count": null,
   "id": "06e6bc72-fe52-43a5-815e-9469ec07fcec",
   "metadata": {},
   "outputs": [],
   "source": [
    "p9.ggplot(transformed_data, p9.aes(x='v0', y='v1', color='variety')) + p9.geom_point()"
   ]
  },
  {
   "cell_type": "code",
   "execution_count": null,
   "id": "72c91520-2eff-419d-a0f9-474f2b9cfdd0",
   "metadata": {},
   "outputs": [],
   "source": [
    "images, labels = datasets.load_digits(return_X_y=True, as_frame=True)"
   ]
  },
  {
   "cell_type": "code",
   "execution_count": null,
   "id": "b8c16734-6bf9-4f1b-96cd-95652daab155",
   "metadata": {},
   "outputs": [],
   "source": [
    "from matplotlib import pyplot as plt\n",
    "plt.imshow(images.loc[15].values.reshape(8, 8))"
   ]
  },
  {
   "cell_type": "code",
   "execution_count": null,
   "id": "e9ca13b9-db9b-41d2-a730-2c5ad83a8693",
   "metadata": {},
   "outputs": [],
   "source": [
    "sne = manifold.TSNE()\n",
    "transformed = sne.fit_transform(images)"
   ]
  },
  {
   "cell_type": "code",
   "execution_count": null,
   "id": "3c2121f8-1d9c-44e0-8e81-21d5487291a2",
   "metadata": {},
   "outputs": [],
   "source": [
    "data = pd.DataFrame(transformed, columns=['v0', 'v1'])\n",
    "data['label'] = labels"
   ]
  },
  {
   "cell_type": "code",
   "execution_count": null,
   "id": "75afdd30-8035-46ed-b95c-4ba0b05d82c5",
   "metadata": {},
   "outputs": [],
   "source": [
    "p9.ggplot(data, p9.aes(x='v0', y='v1', color='factor(label)')) + p9.geom_point(alpha=0.3)"
   ]
  }
 ],
 "metadata": {
  "kernelspec": {
   "display_name": "dhbw",
   "language": "python",
   "name": "dhbw"
  },
  "language_info": {
   "codemirror_mode": {
    "name": "ipython",
    "version": 3
   },
   "file_extension": ".py",
   "mimetype": "text/x-python",
   "name": "python",
   "nbconvert_exporter": "python",
   "pygments_lexer": "ipython3",
   "version": "3.11.0"
  }
 },
 "nbformat": 4,
 "nbformat_minor": 5
}
