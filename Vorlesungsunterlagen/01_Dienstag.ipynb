{
 "cells": [
  {
   "cell_type": "markdown",
   "id": "8f504c2f-3e12-4536-a4f4-6265da88057e",
   "metadata": {
    "slideshow": {
     "slide_type": "slide"
    }
   },
   "source": [
    "# Einführung\n",
    "<br><br>\n",
    "### Ueber mich:\n",
    "\n",
    "<br>\n",
    "\n",
    "- **Atreju Tauschinsky**\n",
    "- Studium der Physik in Dresden, Nairobi und Amsterdam\n",
    "- Promotion Quantenphysik Amsterdam 2013\n",
    "- Postdoc Chemische Physik Oxford 2013/2014\n",
    "- Data Scientist @ Optiver, Amsterdam 2015/2016\n",
    "- Data Scientist @ SAP, Walldorf 2016 --\n",
    "- `atreju.tauschinsky@gmx.de`"
   ]
  },
  {
   "attachments": {},
   "cell_type": "markdown",
   "id": "f8c49013-8f12-4142-b7cb-0f8e17261acc",
   "metadata": {
    "slideshow": {
     "slide_type": "slide"
    }
   },
   "source": [
    "<center>\n",
    "<div>\n",
    "<img src=\"./qr.png\" width=\"500\"/>\n",
    "</div>\n",
    "\n",
    "https://tweedback.de/usgc\n",
    "</center>\n"
   ]
  },
  {
   "cell_type": "markdown",
   "id": "06d839bc-f23d-4199-a061-7880ed977048",
   "metadata": {
    "slideshow": {
     "slide_type": "slide"
    }
   },
   "source": [
    "# Was ist Python?\n",
    "\n",
    "- Moderne, interpretierte Hochsprache\n",
    "- Entwickelt von Guido van Rossum, 1989\n",
    "- Benannt nach Month Python's Flying Circus ('short, unique and slightly mysterious')"
   ]
  },
  {
   "cell_type": "markdown",
   "id": "1d4ce11c-ce66-4961-93a8-73e5470a4150",
   "metadata": {
    "slideshow": {
     "slide_type": "slide"
    }
   },
   "source": [
    "# Warum Python?\n",
    "\n",
    "<br><br>\n",
    "\n",
    "<img style=\"float: right; padding-right:10em; margin-top:-7em\" src='https://imgs.xkcd.com/comics/python.png'/>\n",
    "\n",
    "- **Unglaublich beliebt für DataScience/ML/AI**\n",
    "  - Entsprechend reiches Ökosystem an Bibliotheken\n",
    "- Lesbar & einfach zu lernen\n",
    "- FLOSS mit permissiver Lizenz\n",
    "- Umfangreiche Standardbibliothek\n",
    "- Cross-Platform\n",
    "- Schnelle Entwicklungszeiten (aber potentiell langsame Laufzeiten)"
   ]
  },
  {
   "cell_type": "markdown",
   "id": "5217c0f8-64d5-4a22-81f6-f3ff9783977d",
   "metadata": {
    "slideshow": {
     "slide_type": "slide"
    }
   },
   "source": [
    "# Organisatorisches\n",
    "\n",
    "### Vorlesungen und Übungen\n",
    "- Freitag: Vorlesung und neue Übungsaufgaben\n",
    "- Dienstag: Besprechung der Aufgaben von vor 10 Tagen, Hilfe zu Aufgaben des vorhergenden Freitags, Zeit zum Bearbeiten der Uebungsaufgaben\n",
    "- Donnerstag: Abgabe der Aufgaben (bis 18:00) und Beginn der Review-Periode\n",
    "- Review: bis 16:00 Dienstag\n",
    "\n",
    "<center><img src='./vorlesungsplan.png'/></center>"
   ]
  },
  {
   "cell_type": "markdown",
   "id": "bf7d56a0-a35e-4d25-a9a4-b480480b5ead",
   "metadata": {
    "slideshow": {
     "slide_type": "slide"
    }
   },
   "source": [
    "# Organisatorisches\n",
    "\n",
    "### Übungsaufgaben\n",
    "- Werden jeweils Freitags in der Vorlesung kurz vorgestellt\n",
    "- Sind von jedem Teilnehmer zu bearbeiten, Zweier-Teams (Pair Programming) sind moeglich\n",
    "- Bis Donnerstag 18:00 Abgabe in Form eines Pull Requests auf github.com\n",
    "  - Jeweils in einem eigenen Unterordner (voller Name, e.g. `AtrejuTauschinsky`) für jeden Teilnehmer\n",
    "  - Ein einzelnes, direkt ausführbares Python-Script (== eine `.py`-Datei) pro Woche\n",
    "  - Benannt als `Aufgaben_[N]`, N=`01`..`11` (Also `Aufgaben_01` für die erste Woche).\n",
    "- Bis zum darauffolgenden Dienstag 16:00 Code Review durch Kommilitonen'\n",
    "- Besprechung und merge der PRs in der Übung Dienstag 10 Tage nach Vorstellung"
   ]
  },
  {
   "cell_type": "markdown",
   "id": "1c905c4d-df1b-4b7f-b935-8b54df1bb862",
   "metadata": {
    "slideshow": {
     "slide_type": "slide"
    }
   },
   "source": [
    "# Organisatorisches\n",
    "\n",
    "### Bewertung\n",
    "- Übungsaufgaben **und** Code Review sind zwingender Teil des Leistungsnachweises\n",
    "  - Abgabe der Uebungsaufgaben: 30%\n",
    "  - Code Review fuer Uebungsaufgaben anderer: 20%\n",
    "- Zusätzlich 90min Klausur: 50%"
   ]
  },
  {
   "cell_type": "markdown",
   "id": "0f15f20a-dfd0-4bd3-a48e-a37c719845f4",
   "metadata": {
    "slideshow": {
     "slide_type": "slide"
    }
   },
   "source": [
    "# Praktisches Setup (== ToDo Heute!)"
   ]
  },
  {
   "cell_type": "markdown",
   "id": "fe94dfd8-a53e-4bbe-ae8a-b6c5441a438a",
   "metadata": {},
   "source": [
    "**Verpflichtend**\n",
    "- mamba zum managen virtueller umgebungen: `https://mamba.readthedocs.io/en/latest/`\n",
    "- python==3.12.x in eigener venv:\n",
    "  - conda create -n ppp python=3.12\n",
    "  - conda activate ppp\n",
    "- git: `https://git-scm.com/`\n",
    "- account bei github.com\n",
    "  - schreibt mir die email-adresse mit der ihr registriert seid, fuer rechte in unserem gemeinsamen repo\n",
    "  - `git clone https://github.com/dhbw-ma-ppp/ppp-2024.git`\n",
    " \n",
    "**Empfohlen**\n",
    "- Editor: vscode `https://code.visualstudio.com/`\n",
    "\n",
    "**Referenzen**\n",
    "- `https://docs.python.org/3.12/`\n"
   ]
  }
 ],
 "metadata": {
  "kernelspec": {
   "display_name": "dhbw",
   "language": "python",
   "name": "dhbw"
  },
  "language_info": {
   "codemirror_mode": {
    "name": "ipython",
    "version": 3
   },
   "file_extension": ".py",
   "mimetype": "text/x-python",
   "name": "python",
   "nbconvert_exporter": "python",
   "pygments_lexer": "ipython3",
   "version": "3.11.0"
  }
 },
 "nbformat": 4,
 "nbformat_minor": 5
}
