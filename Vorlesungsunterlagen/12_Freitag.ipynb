{
 "cells": [
  {
   "cell_type": "markdown",
   "id": "00436672-2cd7-49f4-99bd-304d808c06c0",
   "metadata": {},
   "source": [
    "# Recap: What did we talk about?"
   ]
  },
  {
   "cell_type": "markdown",
   "id": "d3dbc894-e0b7-47d2-b7d7-e0d7e8f655bd",
   "metadata": {},
   "source": [
    "## Week 1: Datatypes"
   ]
  },
  {
   "cell_type": "markdown",
   "id": "5a88284d-bd7c-49f6-b109-1f524a385bdf",
   "metadata": {},
   "source": [
    "- **Syntax** and **Semantics**\n",
    "- **Python Properties** (multi-paradigm, typing, whitespace)\n",
    "- **Data Types** and their Properties\n",
    "- **Operators**: Arithmetic, (augmented) assignment, comparison, logical, bitwise"
   ]
  },
  {
   "cell_type": "markdown",
   "id": "8283363d-d808-4052-b922-b2e5aadd5756",
   "metadata": {},
   "source": [
    "## Week 2: Control Structures"
   ]
  },
  {
   "cell_type": "markdown",
   "id": "5039a299-ff9a-46f2-a1ab-fbe5444d8fa4",
   "metadata": {},
   "source": [
    "- **compound statements**: clause, header, suite\n",
    "- **conditionals**: if/elif/else\n",
    "- **loops**: while/for, break/continue, else\n",
    "- **comprehensions**: list/dict/set-comprehensions\n",
    "- **pattern matching**: match, case\n",
    "- **exception handling**: try/except/else/finally, raise\n",
    "- **context managers**: with\n",
    "- **functions**: definitions, arguments and returns, varargs, default values, docstrings\n",
    "- **first-class functions**: anonymous functions, assigning functions to variables, functions as argument and return value\n",
    "- **decorators**"
   ]
  },
  {
   "cell_type": "markdown",
   "id": "022135c0-ac4b-44cc-94ab-7d5e4912063a",
   "metadata": {},
   "source": [
    "## Week 3: Classes"
   ]
  },
  {
   "cell_type": "markdown",
   "id": "79da355f-573c-4645-87ef-de781a1a09be",
   "metadata": {},
   "source": [
    "- **codestyle**: PEP-8\n",
    "- **scoping**: local/non-local/global/builtin\n",
    "- **classes**:\n",
    "  - **concepts**: class, instance attribute, method\n",
    "  - **advantages**: modular, reusable, maintainable, encapsulation, real-world modeling\n",
    "  - **construction**: creation, class and instance attributes, protected and private attributes\n",
    "  - **inheritance**\n",
    "  - **dunder methods**"
   ]
  },
  {
   "cell_type": "markdown",
   "id": "87f1db26-b96f-447d-8805-cbd3d055f496",
   "metadata": {},
   "source": [
    "## Week 4: Standard Library"
   ]
  },
  {
   "cell_type": "markdown",
   "id": "394f31de-f0c4-4380-8a4d-d82a7548387d",
   "metadata": {},
   "source": [
    "- **importing packages**\n",
    "- **keywords vs builtins**\n",
    "- **standard library packages**\n",
    "  - file management\n",
    "  - time & date\n",
    "  - dealing with text\n",
    "  - math and random numbers\n",
    "  - file formats\n",
    "  - generic services (os, sys, logging, time)"
   ]
  },
  {
   "cell_type": "markdown",
   "id": "69fa320c-88a4-4e23-96fc-bc97e4a6d62a",
   "metadata": {},
   "source": [
    "## Week 5: Advanced Concepts"
   ]
  },
  {
   "cell_type": "markdown",
   "id": "e867562b-7165-4304-9b65-d8156e8baaa4",
   "metadata": {},
   "source": [
    "- **Iterables and Iterators**: concepts, `__iter__` and `__next__`, generator functions, genexp, yield, coroutines\n",
    "- **Dicts and Sets**: how do they work under the hood\n",
    "- **Type Hints**: optional but useful\n",
    "- **debugging**: command-line and IDE"
   ]
  },
  {
   "cell_type": "markdown",
   "id": "694d94d1-6cd2-48d8-be1f-46f9c14423a6",
   "metadata": {},
   "source": [
    "## Week 6: working with numbers"
   ]
  },
  {
   "cell_type": "markdown",
   "id": "1b732c0b-fa9f-4475-a53f-81ecc4a5e992",
   "metadata": {},
   "source": [
    "- **numpy**: ndarray, shape, indexing, broadcasting\n",
    "- **pandas**: DataFrame, filter, sort, group, aggregate, join, NaNs\n",
    "- **matplotlib**: basic plotting in python, types of plots\n",
    "- **plotnine**: high-level plotting\n",
    "- **seaborn**: plotting for statistics\n",
    "- **scipy**: (very brief indtroduction) advanced math -- linear algebra, statistics, fft, interpo;lation, ..."
   ]
  },
  {
   "cell_type": "markdown",
   "id": "c3fd630e-b846-46d3-9a7a-f61883345251",
   "metadata": {},
   "source": [
    "## Week 7: Webservices\n",
    "- **Concepts**: Building blocks of a webservice\n",
    "- **HTTP**: methods, status codes, header, body\n",
    "- **client**: the `requests` library\n",
    "- **databases**: types of DBMS, Python DBAPI, sqlite3 native and ORM examples\n",
    "- **server**: FastAPI, Flask and streamlit, framework capabilities, alternatives, simple examples"
   ]
  },
  {
   "cell_type": "markdown",
   "id": "3cecd2d3-1d33-4801-8bea-032dfe880812",
   "metadata": {},
   "source": [
    "## Week 8: Machine Learning"
   ]
  },
  {
   "cell_type": "markdown",
   "id": "d8a47de8-9f3d-4e2d-addd-ea4a4273e105",
   "metadata": {},
   "source": [
    "- **nomenclature**: definition of terms and concepts\n",
    "- **sklearn**: simple examples of classification, regression, clustering"
   ]
  },
  {
   "cell_type": "markdown",
   "id": "e0e838b3-9e35-480f-9b13-c3a27800ee96",
   "metadata": {},
   "source": [
    "# Exam: example questions"
   ]
  },
  {
   "cell_type": "markdown",
   "id": "5700140d-bd2b-40fa-90a4-42beace7dfce",
   "metadata": {},
   "source": [
    "\n",
    "> Nennen Sie drei beliebte 3rd-Party Python-Pakete, und beschreiben Sie stichpunkthaft die Funktionalität die diese Pakete jeweils bieten.\n"
   ]
  },
  {
   "cell_type": "markdown",
   "id": "a89d3df5-0edb-4449-b40c-cd4fe1b3b9e2",
   "metadata": {},
   "source": [
    "> Geben sie kurze Definitionen der Begriffe <br>\n",
    ">         a) Train/Validation/Test-Daten <br>\n",
    ">         b) Feature <br>\n",
    ">         c) Machine Learning Model <br>"
   ]
  },
  {
   "cell_type": "markdown",
   "id": "beab578f-cee6-4689-98d7-1baf757efa15",
   "metadata": {},
   "source": [
    "> Finden sie saemtliche Fehler in der folgenden Funktion:"
   ]
  },
  {
   "cell_type": "code",
   "execution_count": null,
   "id": "ff4cee4c-1ebd-462a-aec1-f1de3c076963",
   "metadata": {},
   "outputs": [],
   "source": [
    "def check_even_odd(number):\n",
    "    # print whether the passed number is even\n",
    "    if number % 2 = 0:\n",
    "        print('{number} is even')\n",
    "    else\n",
    "        print('{number} is odd')\n"
   ]
  },
  {
   "cell_type": "markdown",
   "id": "93295122-707a-4135-a36c-10c23bb9dd6b",
   "metadata": {},
   "source": [
    "# Further Reading"
   ]
  },
  {
   "cell_type": "markdown",
   "id": "4f65ae94-be97-487a-b357-9d9115108fdf",
   "metadata": {},
   "source": [
    "## Data Science / ML"
   ]
  },
  {
   "cell_type": "markdown",
   "id": "21cfc987-f343-4e49-b49f-76e1731201fb",
   "metadata": {},
   "source": [
    "- **tensorflow/pytorch**: deep learning\n",
    "- **keras**: simplified interface for tf/pytorch.\n",
    "- **ray**: orchestrate machine learning on clusters\n",
    "- **statsmodels**: statistical modeling and hypothesis testing\n",
    "- **xgboost/catboost/lightgbm**: gradient boosting models, gradient boosted trees\n",
    "- **huggingface/transformers**: website and libraries with datasets, pipelines and pre-trained models focussed on NLP"
   ]
  },
  {
   "cell_type": "markdown",
   "id": "c2f792ce-631e-4830-8ed7-4050db40c147",
   "metadata": {},
   "source": [
    "## Web development"
   ]
  },
  {
   "cell_type": "markdown",
   "id": "74607610-733a-4c7d-9d10-c6426b1aad6c",
   "metadata": {},
   "source": [
    "- **requests**: client side library for REST requests\n",
    "- **aiohttp/httpx**: asynchronous requests\n",
    "- **fastapi**: server side library for REST interfaces\n",
    "- **flask/django**: web frameworks including HTML templating etc.\n",
    "- **beautifulsoup/scrapy**: web scraping\n",
    "- **pyjwt, oauth2**: jwt tokens and authentication\n",
    "- **streamlit/dash/gradio**: quickly build dashboards and ML model interfaces"
   ]
  },
  {
   "cell_type": "markdown",
   "id": "e94cb99a-13d9-4b3f-baef-78236c635b38",
   "metadata": {},
   "source": [
    "## Others"
   ]
  },
  {
   "cell_type": "markdown",
   "id": "5e1d3e59-b167-45be-8c23-38f714b9d58d",
   "metadata": {},
   "source": [
    "- **tkinter**: part of the standard libaray for developing GUI\n",
    "- **pygtk/pyQT**: cross platform interfaces with GTK or QT respectively.\n",
    "- **wxPython**: native UI elements on OSX/Linux/Windows\n",
    "- **pillow**: image manipulation\n",
    "- **pygame**: :)"
   ]
  }
 ],
 "metadata": {
  "kernelspec": {
   "display_name": "dhbw",
   "language": "python",
   "name": "dhbw"
  },
  "language_info": {
   "codemirror_mode": {
    "name": "ipython",
    "version": 3
   },
   "file_extension": ".py",
   "mimetype": "text/x-python",
   "name": "python",
   "nbconvert_exporter": "python",
   "pygments_lexer": "ipython3",
   "version": "3.11.0"
  }
 },
 "nbformat": 4,
 "nbformat_minor": 5
}
