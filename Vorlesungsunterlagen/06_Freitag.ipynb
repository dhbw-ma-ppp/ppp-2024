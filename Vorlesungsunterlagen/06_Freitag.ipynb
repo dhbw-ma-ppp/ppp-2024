{
 "cells": [
  {
   "cell_type": "markdown",
   "id": "808de8d1-1eba-44d2-96df-1f084416f81e",
   "metadata": {},
   "source": [
    "# keywords and builtins\n",
    "- hierarchy of how 'close' something is to the language itself:\n",
    "  - keywords: modify syntax, not replaceable\n",
    "  - builtins: very common functions, no import needed\n",
    "  - standard library: delivered as part of python (no separate installation), but must be imported\n",
    "  - third party library: must be installed first before it can be imported. Not provided by Python core devs."
   ]
  },
  {
   "cell_type": "markdown",
   "id": "751fd5b9-58d7-4452-aa5d-90fb615f461c",
   "metadata": {},
   "source": [
    "- **keywords**: core language constructs that allow 'new syntax'. keywords are reserved and cannot be used as identifiers\n",
    "- **builtins**: preloaded functions, constants, types, and exceptions. Fundamental only in the sense of common usage, but 'normal' language objects\n",
    "- what is `print`\n",
    "- what is `for`\n",
    "- what is `True`"
   ]
  },
  {
   "cell_type": "code",
   "execution_count": null,
   "id": "c7e207db-9865-441b-bb82-d649cebab925",
   "metadata": {},
   "outputs": [],
   "source": [
    "import keyword"
   ]
  },
  {
   "cell_type": "code",
   "execution_count": null,
   "id": "52662d5a-0e62-471c-9ec3-1fdc540ac532",
   "metadata": {},
   "outputs": [],
   "source": [
    "print(keyword.kwlist)"
   ]
  },
  {
   "cell_type": "markdown",
   "id": "2ca570a7-afe2-494d-9356-5ce92244a5b0",
   "metadata": {},
   "source": [
    "- **control structures**: `if`, `elif`, `else`, `for`, `while`, `break`, `continue`, `pass`\n",
    "- **exception handling**: `try`, `except`, `raise`, `finally`, `assert`\n",
    "- **classes and function**: `class`, `def`, `return`, `lambda`, `yield`\n",
    "- **scopes**: `global`, `nonlocal`\n",
    "- **imports**: `import`, `from`, `as`\n",
    "- **logical operators**: `and`, `or`, `not`\n",
    "- **context managers**: `with`, `as`\n",
    "- **coroutines**: `async`, `await`\n",
    "- **others**: `del`, `in`, `is`\n",
    "- **constants**: `True`, `False`, `None`"
   ]
  },
  {
   "cell_type": "code",
   "execution_count": null,
   "id": "0ee6b0cd-442f-4580-8986-83613ecc26fd",
   "metadata": {},
   "outputs": [],
   "source": [
    "# where are `match` and `case`? (soft keywords: to avoid breaking existing code when a new feature is introduced)\n",
    "keyword.softkwlist"
   ]
  },
  {
   "cell_type": "code",
   "execution_count": null,
   "id": "194f849c-8719-4936-b5a8-285c74dee2ba",
   "metadata": {},
   "outputs": [],
   "source": [
    "import builtins"
   ]
  },
  {
   "cell_type": "code",
   "execution_count": null,
   "id": "ce639ff4-dc06-4ae5-bac4-bea3e83bc5bc",
   "metadata": {},
   "outputs": [],
   "source": [
    "print([x for x in dir(builtins) if not x.startswith('_')])"
   ]
  },
  {
   "cell_type": "markdown",
   "id": "478ba6bf-0bbe-49b1-a201-a203bd21c457",
   "metadata": {},
   "source": [
    "- **lots of exceptions and warnings**...\n",
    "- **numeric functions**: `abs`, `divmod`, `pow`, `sum`, `min`, `max`, `round`\n",
    "- **logical reductions**: `all`, `any`\n",
    "- **data types & conversions**: `bool`, `bytearray`, `bytes`, `complex`, `dict`, `int`, `float`, `frozenset`, `list`, `set`, `str`, `tuple`, `memoryview`, `chr`, `ord`\n",
    "- **number representations**: `bin`, `hex`, `oct`\n",
    "- **inspection-functions**: `callable`, `dir`, `id`, `type`\n",
    "- **decorators**: `classmethod`, `staticmethod`, `property`\n",
    "- **inheritance**: `isinstance`, `issubclass`, `super`, `object`\n",
    "- **iterable helpers**: `enumerate`, `zip`, `sorted`, `range`, `len`, `iter`, `next`, `map`, `reversed`, `aiter`, `anext`, `filter`\n",
    "- **scoping**: `locals`, `globals`, `vars`\n",
    "- **attributes**: `getattr`, `hasattr`, `delattr`, `setattr`\n",
    "- **code execution** `exec`, `eval`, `compile`\n",
    "- **slicing**: `Ellipsis`, `slice`\n",
    "- **flow control**: `NotImplemented`, `quit`, `exit`, `breakpoint`\n",
    "- **object representations**: `ascii`, `str`, `repr`, `bytes`, `format`\n",
    "- **I/O**: `input`, `print`, `open`\n",
    "- **other**: `hash`\n",
    "- **actual help**: help"
   ]
  },
  {
   "cell_type": "markdown",
   "id": "384e85da-e6e9-45e5-b72c-b747cd421bf2",
   "metadata": {},
   "source": [
    "# Imports\n",
    "- there's an extensive ecosystem of libraries available around python\n",
    "- you can import these libraries using the `import` statement to make their functionality available in your code\n",
    "- `import <module_name> [as <alias>]` -- import the entire module\n",
    "- `from <module_name> import <object_names> [as <alias>]` -- import individual functions from a module (but lose the module prefix)"
   ]
  },
  {
   "cell_type": "code",
   "execution_count": null,
   "id": "d5e6f9e7-8fa6-481e-bcf8-b06e3e5fdc45",
   "metadata": {},
   "outputs": [],
   "source": [
    "import math\n",
    "math.cos(math.pi)"
   ]
  },
  {
   "cell_type": "code",
   "execution_count": null,
   "id": "62e87c2e-9659-4e46-a2ca-c2dccb47b26b",
   "metadata": {},
   "outputs": [],
   "source": [
    "import math as mth\n",
    "mth.cos(mth.pi)"
   ]
  },
  {
   "cell_type": "code",
   "execution_count": null,
   "id": "a2aed9d2-26c8-49e4-837b-fe234d5aaac9",
   "metadata": {},
   "outputs": [],
   "source": [
    "# same but with intermediate variable `math` assigned\n",
    "import math\n",
    "m = math\n",
    "m.cos(m.pi)"
   ]
  },
  {
   "cell_type": "code",
   "execution_count": null,
   "id": "e90af603-3c36-4245-a8d5-b303ae9ab1ca",
   "metadata": {},
   "outputs": [],
   "source": [
    "from math import cos, pi\n",
    "cos(pi)"
   ]
  },
  {
   "cell_type": "code",
   "execution_count": null,
   "id": "9537663d-0840-469c-a2a6-029ffb950f0a",
   "metadata": {},
   "outputs": [],
   "source": [
    "from math import cos as c, pi as π\n",
    "c(π)"
   ]
  },
  {
   "cell_type": "code",
   "execution_count": null,
   "id": "e57f021d-6eaf-4a43-8a0a-21c0ce911d73",
   "metadata": {},
   "outputs": [],
   "source": [
    "# import from your own files is just as easy\n",
    "import utils\n",
    "utils.say_hello()"
   ]
  },
  {
   "cell_type": "code",
   "execution_count": null,
   "id": "ed801494-156c-49cf-b787-d0b32c912392",
   "metadata": {},
   "outputs": [],
   "source": [
    "# note: never ever do `from <module> import *"
   ]
  },
  {
   "cell_type": "markdown",
   "id": "0cacfa71-7f50-451c-b086-d510d0f47f68",
   "metadata": {},
   "source": [
    "# standard library\n",
    "- a large numer of packages\n",
    "- comes with the python installation, no need to install anything separately\n",
    "- [python docs](https://docs.python.org/3/library/index.html)"
   ]
  },
  {
   "cell_type": "markdown",
   "id": "fa7bd929-8a6c-4662-a321-ccf2de2ceca3",
   "metadata": {},
   "source": [
    "## file and directory access"
   ]
  },
  {
   "cell_type": "markdown",
   "id": "69ccdaaa-936c-42ec-a637-95f83737ca63",
   "metadata": {
    "jp-MarkdownHeadingCollapsed": true
   },
   "source": [
    "### builtins: input, print, open"
   ]
  },
  {
   "cell_type": "markdown",
   "id": "84114885-0236-4430-9cf6-c20b8c6d527f",
   "metadata": {},
   "source": [
    "#### print"
   ]
  },
  {
   "cell_type": "code",
   "execution_count": null,
   "id": "fe9b85bb-c9da-4236-ac3c-aaf14fdc2a6a",
   "metadata": {},
   "outputs": [],
   "source": [
    "print('hello')\n",
    "print('world')"
   ]
  },
  {
   "cell_type": "code",
   "execution_count": null,
   "id": "b519871a-2895-4552-bee3-c6ba042106fb",
   "metadata": {
    "scrolled": true
   },
   "outputs": [],
   "source": [
    "# poor mans progress bar...\n",
    "for _ in range(100):\n",
    "    print('.', end='')"
   ]
  },
  {
   "cell_type": "code",
   "execution_count": null,
   "id": "9bec5cb4-a88b-474b-a46a-000c2c90e37c",
   "metadata": {},
   "outputs": [],
   "source": [
    "help(print)"
   ]
  },
  {
   "cell_type": "markdown",
   "id": "ccd5ead9-44e8-4ce3-b769-b0a492fc40bc",
   "metadata": {},
   "source": [
    "#### input"
   ]
  },
  {
   "cell_type": "code",
   "execution_count": null,
   "id": "1e727ea9-c6bc-491d-9225-e4574929d073",
   "metadata": {},
   "outputs": [],
   "source": [
    "user_input = input('Please enter a number')\n",
    "print(f'You entered \"{user_input}\"')   # what happened to the newline when I pressed enter?"
   ]
  },
  {
   "cell_type": "code",
   "execution_count": null,
   "id": "ee81b97b-b8ea-44d9-8e19-096b758bc83a",
   "metadata": {},
   "outputs": [],
   "source": [
    "help(input)"
   ]
  },
  {
   "cell_type": "markdown",
   "id": "3ed8faa6-e2c8-4921-a54e-913271fb0d4f",
   "metadata": {},
   "source": [
    "#### open\n",
    "- opens file for (binary or text mode) reading and/or writing\n",
    "- can (and usually should) be used as contextmanager"
   ]
  },
  {
   "cell_type": "code",
   "execution_count": null,
   "id": "ef085610-c7e1-4a7a-b5dc-12f31ba3729a",
   "metadata": {},
   "outputs": [],
   "source": [
    "# open files in text-mode for reading\n",
    "with open('utils.py', 'r') as ifile:\n",
    "    content = ifile.readlines()\n",
    "content"
   ]
  },
  {
   "cell_type": "code",
   "execution_count": null,
   "id": "d9bd0bdc-4667-417e-93d6-be269baf7725",
   "metadata": {},
   "outputs": [],
   "source": [
    "# rading in binary mode returns bytes rather than strings\n",
    "with open('utils.py', 'rb') as ifile:\n",
    "    content = ifile.readlines()\n",
    "content"
   ]
  },
  {
   "cell_type": "code",
   "execution_count": null,
   "id": "cd855d98-947e-45fa-a361-7c6419c36a74",
   "metadata": {},
   "outputs": [],
   "source": [
    "# can also iterate over file object, give me one line each\n",
    "with open('utils.py', 'r') as ifile:\n",
    "    for line in ifile:\n",
    "        print(line, end='')"
   ]
  },
  {
   "cell_type": "code",
   "execution_count": null,
   "id": "02760779-87d8-4996-a78b-fe006d1eb092",
   "metadata": {},
   "outputs": [],
   "source": [
    "# writing to a file in text mode\n",
    "with open('demo_file.txt', 'w') as ifile:\n",
    "    ifile.write('Hello')"
   ]
  },
  {
   "cell_type": "code",
   "execution_count": null,
   "id": "fee8680d-ca45-4ff4-8785-ff994b1a623a",
   "metadata": {},
   "outputs": [],
   "source": [
    "# but opening in text mode overwrites the existing file (!)\n",
    "with open('demo_file.txt', 'w') as ifile:\n",
    "    ifile.write('World')"
   ]
  },
  {
   "cell_type": "code",
   "execution_count": null,
   "id": "a171f782-53a8-4c46-865e-80541dc2fdb2",
   "metadata": {},
   "outputs": [],
   "source": [
    "# use append mode instead\n",
    "with open('demo_file.txt', 'w') as ifile:\n",
    "    ifile.write('Hello')\n",
    "with open('demo_file.txt', 'a') as ifile:\n",
    "    ifile.write('World')"
   ]
  },
  {
   "cell_type": "code",
   "execution_count": null,
   "id": "35cfbea7-74f1-4c34-9293-ed63cbd7bbee",
   "metadata": {},
   "outputs": [],
   "source": [
    "# we can also `print` to a file (difference is just the automatic newline)\n",
    "with open('demo_file.txt', 'w') as ifile:\n",
    "    print('Hello', file=ifile)\n",
    "    print('World', file=ifile)"
   ]
  },
  {
   "cell_type": "code",
   "execution_count": null,
   "id": "6c63b25f-e841-4c63-be1b-74c855e45d7b",
   "metadata": {},
   "outputs": [],
   "source": [
    "# if we're writing text (rather than bytes) to a file opened in binary mode we need to convert to bytes first\n",
    "with open('demo_file.txt', 'wb') as ifile:\n",
    "    ifile.write('Hello'.encode())\n",
    "    ifile.write('World'.encode())"
   ]
  },
  {
   "cell_type": "code",
   "execution_count": null,
   "id": "577e9b9a-fb14-4646-b8fc-cd07b9c355fe",
   "metadata": {},
   "outputs": [],
   "source": [
    "# we can of course write other bytes to the file\n",
    "list_as_bytes = bytes([1, 2, 3])\n",
    "list_as_bytes"
   ]
  },
  {
   "cell_type": "code",
   "execution_count": null,
   "id": "3e2407ef-88c4-4b8e-9287-26979b84aeac",
   "metadata": {},
   "outputs": [],
   "source": [
    "with open('demo_file.txt', 'wb') as ifile:\n",
    "    ifile.write(list_as_bytes)"
   ]
  },
  {
   "cell_type": "code",
   "execution_count": null,
   "id": "5b25d044-0c8f-45fb-8df2-161b7d36867e",
   "metadata": {},
   "outputs": [],
   "source": [
    "with open('demo_file.txt', 'rb') as ifile:\n",
    "    read_bytes = ifile.read()\n",
    "read_bytes"
   ]
  },
  {
   "cell_type": "code",
   "execution_count": null,
   "id": "76a112fe-ca11-4b8e-a41a-6e86d6f890d4",
   "metadata": {},
   "outputs": [],
   "source": [
    "list(read_bytes)"
   ]
  },
  {
   "cell_type": "code",
   "execution_count": null,
   "id": "b396265a-126a-42f8-a641-3017e3c46dbf",
   "metadata": {},
   "outputs": [],
   "source": [
    "tuple(read_bytes)"
   ]
  },
  {
   "cell_type": "markdown",
   "id": "85cceade-bee9-46d3-abb7-d44b00b326c5",
   "metadata": {
    "jp-MarkdownHeadingCollapsed": true
   },
   "source": [
    "### pathlib\n",
    "- offers classes representing filesystem paths with semantics appropriate for different operating systems\n",
    "- `Path` -- the only class in the module you'll likely need\n",
    "- objects are immutable and hashable"
   ]
  },
  {
   "cell_type": "code",
   "execution_count": null,
   "id": "d5c77bb6-e975-493e-a484-90d743e06c61",
   "metadata": {},
   "outputs": [],
   "source": [
    "import pathlib"
   ]
  },
  {
   "cell_type": "code",
   "execution_count": null,
   "id": "d55d69da-3f21-44d7-bca4-b7c595d86e63",
   "metadata": {},
   "outputs": [],
   "source": [
    "current_dir = pathlib.Path('.')\n",
    "current_dir"
   ]
  },
  {
   "cell_type": "code",
   "execution_count": null,
   "id": "15c6a977-7e04-424f-8f09-d461b9619f07",
   "metadata": {},
   "outputs": [],
   "source": [
    "current_dir.is_absolute()"
   ]
  },
  {
   "cell_type": "code",
   "execution_count": null,
   "id": "3981887a-56c7-411c-8038-208bbbaf8599",
   "metadata": {},
   "outputs": [],
   "source": [
    "full_current_dir = current_dir.resolve()\n",
    "full_current_dir"
   ]
  },
  {
   "cell_type": "code",
   "execution_count": null,
   "id": "e9755cbf-f043-46b0-86dc-65204e78b9f3",
   "metadata": {},
   "outputs": [],
   "source": [
    "# explicit alternative\n",
    "pathlib.Path.cwd()"
   ]
  },
  {
   "cell_type": "code",
   "execution_count": null,
   "id": "a4c7c2e9-0c74-4bb5-8c56-cf494e026550",
   "metadata": {},
   "outputs": [],
   "source": [
    "# if you wat to access parts (OS-independent)\n",
    "full_current_dir.parts"
   ]
  },
  {
   "cell_type": "code",
   "execution_count": null,
   "id": "67189aef-acc4-4c26-a362-4c4bf0c1a9a2",
   "metadata": {},
   "outputs": [],
   "source": [
    "# funny overwriting `__div__` for navigating paths (on all Operating Systems)\n",
    "parent_dir = full_current_dir / '..'\n",
    "parent_dir"
   ]
  },
  {
   "cell_type": "code",
   "execution_count": null,
   "id": "c0159337-4b0a-4e49-b001-410fb2ee0eec",
   "metadata": {},
   "outputs": [],
   "source": [
    "parent_dir.resolve()"
   ]
  },
  {
   "cell_type": "code",
   "execution_count": null,
   "id": "135a14dc-cbbe-44d4-971f-d20f2079df34",
   "metadata": {},
   "outputs": [],
   "source": [
    "# explicit alternative:\n",
    "full_current_dir.joinpath('..')"
   ]
  },
  {
   "cell_type": "code",
   "execution_count": null,
   "id": "2d17e1ce-f53e-4d0d-9433-e9bb3d2b2f92",
   "metadata": {},
   "outputs": [],
   "source": [
    "# alternative, already resolved\n",
    "full_current_dir.parent"
   ]
  },
  {
   "cell_type": "code",
   "execution_count": null,
   "id": "e63c34f0-8d1c-45d0-9cf4-6124269587cc",
   "metadata": {},
   "outputs": [],
   "source": [
    "# can jump up N levels\n",
    "full_current_dir.parents[3]"
   ]
  },
  {
   "cell_type": "code",
   "execution_count": null,
   "id": "83db3c12-555e-4fba-a5ee-45cba066ffac",
   "metadata": {},
   "outputs": [],
   "source": [
    "# list files and subfolders\n",
    "list(current_dir.iterdir())"
   ]
  },
  {
   "cell_type": "code",
   "execution_count": null,
   "id": "8d020d25-1a8c-4dcf-a722-0b97001ce574",
   "metadata": {},
   "outputs": [],
   "source": [
    "# match specifying filename patterns (similar expansion to your shell)\n",
    "# there's also the `glob` module itself (not discussed in detail)\n",
    "list(current_dir.glob('*.txt'))"
   ]
  },
  {
   "cell_type": "code",
   "execution_count": null,
   "id": "7d1b5f27-54ef-42d1-8039-feb696b19ef3",
   "metadata": {},
   "outputs": [],
   "source": [
    "# is it a file or a directory?\n",
    "current_dir.is_dir()"
   ]
  },
  {
   "cell_type": "code",
   "execution_count": null,
   "id": "c97d916e-a993-4de6-9d68-80292f93c692",
   "metadata": {},
   "outputs": [],
   "source": [
    "demo_file = current_dir / 'demo_file.txt'\n",
    "demo_file.is_dir()"
   ]
  },
  {
   "cell_type": "code",
   "execution_count": null,
   "id": "56b521cf-96b1-41f7-bcee-ddca2a797c1d",
   "metadata": {},
   "outputs": [],
   "source": [
    "# just the file name\n",
    "print(f'{demo_file.name = }\\n{demo_file.stem = }\\n{demo_file.suffix = }')"
   ]
  },
  {
   "cell_type": "code",
   "execution_count": null,
   "id": "50750d55-a482-4528-95e8-8e6d3e8eda95",
   "metadata": {},
   "outputs": [],
   "source": [
    "# open files directly (with context manager)\n",
    "with demo_file.open('rb') as ifile:\n",
    "    print(ifile.read())"
   ]
  },
  {
   "cell_type": "markdown",
   "id": "b89dbf00-69d7-4c95-a0ac-9e95ac10f9a5",
   "metadata": {
    "jp-MarkdownHeadingCollapsed": true
   },
   "source": [
    "### shutil [skip]\n",
    "- high-level file operations\n",
    "- Might not copy all file metadata though!"
   ]
  },
  {
   "cell_type": "markdown",
   "id": "cfade620-e01b-435a-bff7-52e95fa33450",
   "metadata": {},
   "source": [
    "- `shutil.copy` -- copy file from src to dest, where src and dest are path-like objects\n",
    "- `shutil.copy2` -- like `copy`, but tries to preserve all file metadata\n",
    "- `shutil.copytree` -- copies directory structure recursively, uses `copy2` by default for files\n",
    "- `shutil.rmtree` -- deletes directory structure recursively\n",
    "- `shutil.move` -- move file or directory"
   ]
  },
  {
   "cell_type": "code",
   "execution_count": null,
   "id": "8a6b633f-8f56-4e0d-98d6-e360cbb6b282",
   "metadata": {},
   "outputs": [],
   "source": [
    "import pathlib, shutil"
   ]
  },
  {
   "cell_type": "code",
   "execution_count": null,
   "id": "adf4e03b-96e3-4e0f-89f6-fda444a5dab9",
   "metadata": {},
   "outputs": [],
   "source": [
    "src = pathlib.Path.cwd() / 'demo_file.txt'\n",
    "dest = pathlib.Path.cwd() / 'copied_file.txt'\n",
    "shutil.copy(src, dest)"
   ]
  },
  {
   "cell_type": "code",
   "execution_count": null,
   "id": "60618fe2-d6dc-4113-a38b-dab5f25ea783",
   "metadata": {},
   "outputs": [],
   "source": [
    "src.stat().st_mtime  # mtime: modified; atime: accessed; ctime: (metadata) change time"
   ]
  },
  {
   "cell_type": "code",
   "execution_count": null,
   "id": "77626e76-e02a-46bc-9293-7fbe093b0a59",
   "metadata": {},
   "outputs": [],
   "source": [
    "dest.stat().st_mtime"
   ]
  },
  {
   "cell_type": "code",
   "execution_count": null,
   "id": "310d4ec9-25af-4c05-bcfb-bf7b808931f3",
   "metadata": {},
   "outputs": [],
   "source": [
    "src = pathlib.Path.cwd() / 'demo_file.txt'\n",
    "dest = pathlib.Path.cwd() / 'copied_file.txt'\n",
    "shutil.copy2(src, dest)"
   ]
  },
  {
   "cell_type": "code",
   "execution_count": null,
   "id": "e472e90c-1339-44f0-b770-6285c5a1a764",
   "metadata": {},
   "outputs": [],
   "source": [
    "src.stat().st_mtime"
   ]
  },
  {
   "cell_type": "code",
   "execution_count": null,
   "id": "71e0394e-cd66-4dc2-b2eb-96adc9e8f293",
   "metadata": {},
   "outputs": [],
   "source": [
    "dest.stat().st_mtime"
   ]
  },
  {
   "cell_type": "markdown",
   "id": "80d36d2e-b49d-4380-b8dc-dbc0665ae098",
   "metadata": {},
   "source": [
    "## Text"
   ]
  },
  {
   "cell_type": "markdown",
   "id": "d981c87b-c025-4df5-ae15-c10111eca4bb",
   "metadata": {
    "jp-MarkdownHeadingCollapsed": true
   },
   "source": [
    "### string [skip]\n",
    "- useful constants, such as lists of ascii characters\n",
    "- `Formatter` class to customize your own string formatting rules\n",
    "- `Template` class, can be used for i18n\n",
    "- `capwords` helper function"
   ]
  },
  {
   "cell_type": "code",
   "execution_count": null,
   "id": "1f4e3528-0b65-450d-9393-d5f868498660",
   "metadata": {},
   "outputs": [],
   "source": [
    "import string\n",
    "print([x for x in dir(string) if not x.startswith('_')])"
   ]
  },
  {
   "cell_type": "code",
   "execution_count": null,
   "id": "99888169-65be-4a0c-9c22-99afa9425e92",
   "metadata": {},
   "outputs": [],
   "source": [
    "string.ascii_lowercase"
   ]
  },
  {
   "cell_type": "code",
   "execution_count": null,
   "id": "6030a595-b135-4a53-b7eb-379ad19cc073",
   "metadata": {},
   "outputs": [],
   "source": [
    "# could (possibly) have been used in the number parsing exercise, or the number finding exercise\n",
    "string.digits"
   ]
  },
  {
   "cell_type": "code",
   "execution_count": null,
   "id": "d419c496-71f9-471a-9020-9b883e99b11b",
   "metadata": {},
   "outputs": [],
   "source": [
    "string.capwords('   this  here \\tis some sentence')"
   ]
  },
  {
   "cell_type": "markdown",
   "id": "84fe6246-ec60-46ac-9f45-23f48c125ad0",
   "metadata": {},
   "source": [
    "### re\n",
    "- library for regular expressions\n",
    "- regular expressions are an extremely powerful tool for parsing strings\n",
    "- unfortunately, they are also rather hard to read/understand...\n",
    "- since '\\\\' is frequently used in regular expressions `r-strings` (raw strings) are useful for specifying expressions\n",
    "- if you're trying to write regular expressions go use [regex101](https://regex101.com/)\n",
    "- also: [python documentation](https://docs.python.org/3/library/re.html)"
   ]
  },
  {
   "cell_type": "markdown",
   "id": "fbb505bf-4859-4508-adbb-47097bf58444",
   "metadata": {},
   "source": [
    "#### important functions\n",
    "- `re.search`: find and return the first match of the pattern in the string\n",
    "- `re.match`: test if the beginning of a string matches the expression\n",
    "- `re.fullmatch`: test if the entire string matches the expression\n",
    "- `re.findall`: returns a list of all non-overlapping matches of the pattern in the string\n",
    "- `re.sub`: replace all occurences of pattern with a new string\n",
    "- `re.compile`: makes regular expressions more efficient if the same expression is used multiple times"
   ]
  },
  {
   "cell_type": "code",
   "execution_count": null,
   "id": "9687c98e-39b5-460d-a432-2102360cfa57",
   "metadata": {},
   "outputs": [],
   "source": [
    "import re"
   ]
  },
  {
   "cell_type": "code",
   "execution_count": null,
   "id": "9d266bd0-1ca6-4d26-9576-201c95e82b4d",
   "metadata": {},
   "outputs": [],
   "source": [
    "sample_text = 'lorem ipsum, by the way the time is 10:33:47, or maybe it is 17:23:11, and still the sample string goes on...'"
   ]
  },
  {
   "cell_type": "code",
   "execution_count": null,
   "id": "520935ef-4149-4a3d-b35a-36fdb0d1c073",
   "metadata": {},
   "outputs": [],
   "source": [
    "match = re.search(r'\\d\\d:\\d\\d:\\d\\d', sample_text)\n",
    "match"
   ]
  },
  {
   "cell_type": "code",
   "execution_count": null,
   "id": "7e81bcd0-af71-4da9-b625-ce21a9a5f370",
   "metadata": {},
   "outputs": [],
   "source": [
    "sample_text[match.start():match.end()]"
   ]
  },
  {
   "cell_type": "code",
   "execution_count": null,
   "id": "61dbf9c1-0ed5-447d-949c-c5153dba9aff",
   "metadata": {},
   "outputs": [],
   "source": [
    "# if there's no match search returns ``None`\n",
    "nomatch = re.search(r'hello', sample_text)\n",
    "print(nomatch)"
   ]
  },
  {
   "cell_type": "code",
   "execution_count": null,
   "id": "9810816b-17d2-4fd4-89e8-6b03550154a2",
   "metadata": {},
   "outputs": [],
   "source": [
    "# compiling patterns\n",
    "time_pattern = re.compile(r'(\\d{2}):(\\d{2}):(\\d{2})')"
   ]
  },
  {
   "cell_type": "code",
   "execution_count": null,
   "id": "cedbaa02-5a3b-4c00-8162-02860a9768af",
   "metadata": {},
   "outputs": [],
   "source": [
    "# capturing groups: extract parts of the match\n",
    "match = re.search(time_pattern, sample_text)\n",
    "match.groups()"
   ]
  },
  {
   "cell_type": "code",
   "execution_count": null,
   "id": "eedcc4fb-bcb8-4d03-9d3d-36b47b409ca2",
   "metadata": {},
   "outputs": [],
   "source": [
    "matches = re.findall(time_pattern, sample_text)\n",
    "matches"
   ]
  },
  {
   "cell_type": "code",
   "execution_count": null,
   "id": "7deaef1c-229f-48a6-8052-d5b46fc297b7",
   "metadata": {},
   "outputs": [],
   "source": [
    "# all words with at least four characters\n",
    "words = re.findall(r'\\w{4,}', sample_text)\n",
    "print(words)"
   ]
  },
  {
   "cell_type": "code",
   "execution_count": null,
   "id": "6a7ac1d0-c396-4cf8-9506-b193cb2bf2c1",
   "metadata": {},
   "outputs": [],
   "source": [
    "# all words with at at most two characters, separated by whitespace\n",
    "words = re.findall(r' (\\w{,2}) ', sample_text)\n",
    "print(words)"
   ]
  },
  {
   "cell_type": "code",
   "execution_count": null,
   "id": "575223a9-6f11-42d8-aeea-453fa64e3def",
   "metadata": {},
   "outputs": [],
   "source": [
    "print(re.match(r'\\d*?(\\d)\\1\\d*', '123456'))"
   ]
  },
  {
   "cell_type": "code",
   "execution_count": null,
   "id": "423d5ae8-40aa-4b5f-84d2-7be95b51c33e",
   "metadata": {},
   "outputs": [],
   "source": [
    "print(re.match(r'\\d*?(\\d)\\1\\d*', '123356'))"
   ]
  },
  {
   "cell_type": "code",
   "execution_count": null,
   "id": "f963fa98-9bfd-4830-a9b9-5a21908ac421",
   "metadata": {},
   "outputs": [],
   "source": [
    "print(re.match(r'\\d*?(\\d)\\1\\d*', '123336'))  # unfortunately also matches"
   ]
  },
  {
   "cell_type": "code",
   "execution_count": null,
   "id": "cfd978a4-e85c-473c-b417-0f83307afb19",
   "metadata": {},
   "outputs": [],
   "source": [
    "print(re.match(r'((^)|(\\d))((?(3)(?!\\3)\\d|\\d))\\4(?!\\4)', '123456'))"
   ]
  },
  {
   "cell_type": "code",
   "execution_count": null,
   "id": "bae5dd29-857a-425a-bd25-2e7675f970f1",
   "metadata": {},
   "outputs": [],
   "source": [
    "print(re.match(r'((^)|(\\d))((?(3)(?!\\3)\\d|\\d))\\4(?!\\4)', '122345'))"
   ]
  },
  {
   "cell_type": "code",
   "execution_count": null,
   "id": "a4845890-f54d-406c-b543-d7ce91890edc",
   "metadata": {},
   "outputs": [],
   "source": [
    "print(re.match(r'((^)|(\\d))((?(3)(?!\\3)\\d|\\d))\\4(?!\\4)', '123345'))"
   ]
  },
  {
   "cell_type": "markdown",
   "id": "1d8d2c78-9888-450c-bf7c-737ab9c91fcb",
   "metadata": {},
   "source": [
    "### unicodedata\n",
    "- contains everything you didn't want to know about unicode"
   ]
  },
  {
   "cell_type": "code",
   "execution_count": null,
   "id": "5d1c56f8-15bb-4fac-9f9f-7af594a58f7e",
   "metadata": {},
   "outputs": [],
   "source": [
    "import unicodedata"
   ]
  },
  {
   "cell_type": "markdown",
   "id": "a43331dd-ad5a-494a-bf50-8f78cfded770",
   "metadata": {},
   "source": [
    "#### character names"
   ]
  },
  {
   "cell_type": "code",
   "execution_count": null,
   "id": "3a957184-ab13-481a-bddc-77df595eadae",
   "metadata": {},
   "outputs": [],
   "source": [
    "unicodedata.name('{')"
   ]
  },
  {
   "cell_type": "code",
   "execution_count": null,
   "id": "7fff1264-06e0-4915-8307-0023679fba24",
   "metadata": {},
   "outputs": [],
   "source": [
    "unicodedata.lookup('GREEK SMALL LETTER MU')"
   ]
  },
  {
   "cell_type": "code",
   "execution_count": null,
   "id": "cf9673ae-bcb7-42a3-b701-21eb795dc3a5",
   "metadata": {},
   "outputs": [],
   "source": [
    "unicodedata.lookup('MICRO SIGN')"
   ]
  },
  {
   "cell_type": "code",
   "execution_count": null,
   "id": "ab42476f-a60c-4952-a0c3-ca71cdd03e7f",
   "metadata": {},
   "outputs": [],
   "source": [
    "unicodedata.lookup('MICRO SIGN') == unicodedata.lookup('GREEK SMALL LETTER MU')"
   ]
  },
  {
   "cell_type": "code",
   "execution_count": null,
   "id": "5a09309b-ef0d-40f9-afa4-e2e3e213367e",
   "metadata": {},
   "outputs": [],
   "source": [
    "unicodedata.name('µ')"
   ]
  },
  {
   "cell_type": "code",
   "execution_count": null,
   "id": "5f8a193b-43f7-4abe-9125-f060d71f1302",
   "metadata": {},
   "outputs": [],
   "source": [
    "unicodedata.name('μ')"
   ]
  },
  {
   "cell_type": "markdown",
   "id": "4ba0794c-183c-4c7f-a538-5e6c3e850a69",
   "metadata": {},
   "source": [
    "#### character decomposition"
   ]
  },
  {
   "cell_type": "code",
   "execution_count": null,
   "id": "9fc8cd43-5099-4bc0-98b5-31e0b8034b31",
   "metadata": {},
   "outputs": [],
   "source": [
    "cafe_1 = unicodedata.normalize('NFD', 'café')\n",
    "cafe_2 = unicodedata.normalize('NFC', 'café')\n",
    "print(cafe_1)\n",
    "print(cafe_2)"
   ]
  },
  {
   "cell_type": "code",
   "execution_count": null,
   "id": "17868e4c-4dfc-4a20-aaf7-1be4842afcda",
   "metadata": {},
   "outputs": [],
   "source": [
    "print(f'{len(cafe_1)=}\\n{len(cafe_2)=}')"
   ]
  },
  {
   "cell_type": "code",
   "execution_count": null,
   "id": "753bda3f-5c88-4644-8f24-27ca460b49a5",
   "metadata": {},
   "outputs": [],
   "source": [
    "print([unicodedata.name(x) for x in cafe_1])\n",
    "print([unicodedata.name(x) for x in cafe_2])"
   ]
  },
  {
   "cell_type": "code",
   "execution_count": null,
   "id": "f72a35d0-ffb6-4163-a397-2e1f768683d1",
   "metadata": {},
   "outputs": [],
   "source": [
    "print(cafe_1[-1])\n",
    "print(cafe_2[-1])"
   ]
  },
  {
   "cell_type": "code",
   "execution_count": null,
   "id": "5f49ae33-c48b-476c-aa5f-744b2abafe98",
   "metadata": {},
   "outputs": [],
   "source": [
    "# do not assume strings to be only NFC or only NFD. the following is entirely legal unicode:\n",
    "cafe_1[-2:] + cafe_2[-1]"
   ]
  },
  {
   "cell_type": "markdown",
   "id": "3168b45a-1fd9-4332-a7c7-68fa7dc7569a",
   "metadata": {},
   "source": [
    "#### weird numbers"
   ]
  },
  {
   "cell_type": "code",
   "execution_count": null,
   "id": "a3c63e43-a6d7-4fc6-bb04-9d0d728790a4",
   "metadata": {},
   "outputs": [],
   "source": [
    "ethiopian_three = '\\u136b'\n",
    "print(ethiopian_three)"
   ]
  },
  {
   "cell_type": "code",
   "execution_count": null,
   "id": "acb2d229-e05e-454b-b19f-077507390edc",
   "metadata": {},
   "outputs": [],
   "source": [
    "unicodedata.numeric(ethiopian_three)"
   ]
  },
  {
   "cell_type": "code",
   "execution_count": null,
   "id": "98955fdf-69d5-4014-b454-4721311645bb",
   "metadata": {},
   "outputs": [],
   "source": [
    "unicodedata.digit(ethiopian_three)"
   ]
  },
  {
   "cell_type": "code",
   "execution_count": null,
   "id": "46b6c6cc-405d-44bc-99cc-da1f2950d909",
   "metadata": {},
   "outputs": [],
   "source": [
    "ethiopian_three.isdigit()"
   ]
  },
  {
   "cell_type": "code",
   "execution_count": null,
   "id": "f9840b2d-bfeb-4b1b-89c9-33982111fb9a",
   "metadata": {},
   "outputs": [],
   "source": [
    "float(ethiopian_three)"
   ]
  },
  {
   "cell_type": "markdown",
   "id": "b40d6fb1-86ae-4ef5-ba21-49c9b357484c",
   "metadata": {},
   "source": [
    "#### unicode categories"
   ]
  },
  {
   "cell_type": "code",
   "execution_count": null,
   "id": "aa53fd9b-bae7-46c8-9f71-60c2c90f40eb",
   "metadata": {},
   "outputs": [],
   "source": [
    "unicodedata.category('a')  # lowercase letter"
   ]
  },
  {
   "cell_type": "code",
   "execution_count": null,
   "id": "12c060f8-382b-4174-bf09-48e4c6879e47",
   "metadata": {},
   "outputs": [],
   "source": [
    "unicodedata.category('&')  # other punctuation"
   ]
  },
  {
   "cell_type": "code",
   "execution_count": null,
   "id": "95f0bc36-976d-4af5-9a95-c449c6c642c0",
   "metadata": {},
   "outputs": [],
   "source": [
    "unicodedata.category('$')  # currency symbol"
   ]
  },
  {
   "cell_type": "code",
   "execution_count": null,
   "id": "224bba39-0ba3-47c6-87c6-12b140bcb37b",
   "metadata": {},
   "outputs": [],
   "source": [
    "unicodedata.category('3')  # decimal number"
   ]
  },
  {
   "cell_type": "code",
   "execution_count": null,
   "id": "752bbd0a-4461-4dc6-966e-22ecf7b84a9b",
   "metadata": {},
   "outputs": [],
   "source": [
    "unicodedata.category(ethiopian_three)  # other number"
   ]
  },
  {
   "cell_type": "code",
   "execution_count": null,
   "id": "8dc58074-24e6-41d0-8149-15198b2777ee",
   "metadata": {},
   "outputs": [],
   "source": [
    "# remark: also relevant for which symbols are allowed in variable names:\n",
    "https://docs.python.org/3/reference/lexical_analysis.html"
   ]
  },
  {
   "cell_type": "markdown",
   "id": "fb7c9c8d-fda3-4221-ac55-930085c6ce85",
   "metadata": {},
   "source": [
    "## functional programming support"
   ]
  },
  {
   "cell_type": "markdown",
   "id": "eb2e134d-45d5-4537-8d89-14c96a0f661f",
   "metadata": {},
   "source": [
    "### operator\n",
    "- efficient functions corresponding to the built-in operators"
   ]
  },
  {
   "cell_type": "markdown",
   "id": "a2d1a7be-0d44-434d-a1e0-fa9a8b5b2188",
   "metadata": {},
   "source": [
    "- comparison operators: `lt`, `le`, `eq`, `ge`, `gt`, `ne`\n",
    "- logical operators: `and`, `or`, `not`, ...\n",
    "- arithmetic operators: `add`, `sub`, `mul`, `truediv`, `floordiv`, `mod`, `pow`, ...\n",
    "- indexing: `getitem`, `setitem`, `delitem`\n",
    "- bitwise operators: `lshift`, `rshift, `and_`, `or_`, `invert`, ...\n",
    "- ..."
   ]
  },
  {
   "cell_type": "code",
   "execution_count": null,
   "id": "421c09d1-0df1-4f2d-bd19-f1dba6c632d6",
   "metadata": {},
   "outputs": [],
   "source": [
    "import operator"
   ]
  },
  {
   "cell_type": "code",
   "execution_count": null,
   "id": "591f6e40-c471-4a36-8bda-94322d13f601",
   "metadata": {},
   "outputs": [],
   "source": [
    "operator.add(2, 5)"
   ]
  },
  {
   "cell_type": "code",
   "execution_count": null,
   "id": "e6000b16-6b9c-4762-9bb1-d946c9b1e989",
   "metadata": {},
   "outputs": [],
   "source": [
    "opcode_map = {\n",
    "    1: operator.add,\n",
    "    2: operator.mul,\n",
    "}"
   ]
  },
  {
   "cell_type": "code",
   "execution_count": null,
   "id": "9d94629b-c993-42a0-9b42-9575b36f1c1f",
   "metadata": {},
   "outputs": [],
   "source": [
    "opcode, *args = [1, 2, 3]\n",
    "opcode_map[opcode](*args)"
   ]
  },
  {
   "cell_type": "markdown",
   "id": "092e05ff-928c-487f-a241-34745491bc24",
   "metadata": {},
   "source": [
    "### itertools\n",
    "- Functions creating iterators for efficient looping¶\n",
    "- infinite iterators: `count`, `repeat`, `cycle`\n",
    "- combinatorics: `product`, `permutations`, `combinations`, `combinations_with_replacement`\n",
    "- terminating iterators: `accumulate`, `chain`, `compress`, `dropwhile`, `filterfalse`, `groupby`, `islice`, `pairwise`, `starmap`, `takewhile`, `tee`, `zip_longest`"
   ]
  },
  {
   "cell_type": "code",
   "execution_count": null,
   "id": "111c5fa3-a3e5-4f1f-9c87-185a502633d6",
   "metadata": {},
   "outputs": [],
   "source": [
    "import itertools, string"
   ]
  },
  {
   "cell_type": "code",
   "execution_count": null,
   "id": "df607a2f-2322-4e89-8eef-1497f3ad4938",
   "metadata": {},
   "outputs": [],
   "source": [
    "list(itertools.accumulate(range(10), operator.add))"
   ]
  },
  {
   "cell_type": "code",
   "execution_count": null,
   "id": "8fb8009c-5a2c-427f-9037-de9e740407af",
   "metadata": {},
   "outputs": [],
   "source": [
    "list(itertools.chain(range(3), range(3)))"
   ]
  },
  {
   "cell_type": "code",
   "execution_count": null,
   "id": "bbed3914-23f7-455c-95eb-fce42cffa80c",
   "metadata": {},
   "outputs": [],
   "source": [
    "list(itertools.compress(string.ascii_lowercase, [0, 1, 1, 0, 1, 0, 1]))"
   ]
  },
  {
   "cell_type": "code",
   "execution_count": null,
   "id": "fb150146-7b61-4d4a-b0a1-a5f6df037a04",
   "metadata": {},
   "outputs": [],
   "source": [
    "list(itertools.pairwise(string.ascii_lowercase))"
   ]
  },
  {
   "cell_type": "code",
   "execution_count": null,
   "id": "b334f235-dd47-473a-98bf-3c7c450ec83f",
   "metadata": {},
   "outputs": [],
   "source": [
    "list(itertools.product([1, 2, 3], [4, 5, 6]))  # basically a nested for"
   ]
  },
  {
   "cell_type": "code",
   "execution_count": null,
   "id": "3862da64-f909-4784-8cd4-a31ea2120125",
   "metadata": {},
   "outputs": [],
   "source": [
    "list(itertools.permutations('ABC'))"
   ]
  },
  {
   "cell_type": "code",
   "execution_count": null,
   "id": "2ed64821-440d-4e13-8e89-e205f582b429",
   "metadata": {},
   "outputs": [],
   "source": [
    "list(itertools.combinations('ABC', 2))"
   ]
  },
  {
   "cell_type": "code",
   "execution_count": null,
   "id": "684472d9-f0eb-4dfc-a5b4-412a86d88e7e",
   "metadata": {},
   "outputs": [],
   "source": [
    "list(itertools.combinations_with_replacement('ABC', 2))"
   ]
  },
  {
   "cell_type": "markdown",
   "id": "0205d65a-828a-4436-9012-5d6b5a06e2f1",
   "metadata": {
    "jp-MarkdownHeadingCollapsed": true
   },
   "source": [
    "### functools [skip]\n",
    "- higher-order functions: functions that act on or return other functions\n",
    "- caching decorators: `cache`, `cached_property`, `lru_cache` (see week 2)\n",
    "- `partial`: generate a new function from an existing function, with some arguments already set\n",
    "- `reduce`: apply iteratively to elements of iterable from left to right. also compare `all`, `any`, `filter`, `map` (builtins); but: list comprehensions...\n",
    "- `singledispatch`: branch functions depending on argument type\n",
    "- `wraps`: decorator for creating decorators while maintaining name/docstrings etc of the wrapper function"
   ]
  },
  {
   "cell_type": "code",
   "execution_count": null,
   "id": "48b3de28-4df0-453b-b211-df9385a6f730",
   "metadata": {},
   "outputs": [],
   "source": [
    "import functools\n",
    "import operator\n"
   ]
  },
  {
   "cell_type": "code",
   "execution_count": null,
   "id": "39045017-5ccb-4b4f-b8a0-7f332bab7f36",
   "metadata": {},
   "outputs": [],
   "source": [
    "def sum_of_three(a, b, c):\n",
    "    print(a + b + c)\n",
    "\n",
    "sum_with_eight = functools.partial(sum_of_three, 3, 5)\n",
    "sum_with_eight(2)"
   ]
  },
  {
   "cell_type": "code",
   "execution_count": null,
   "id": "9a25f7ae-79a1-405e-9090-5f41984298d3",
   "metadata": {},
   "outputs": [],
   "source": [
    "functools.reduce(operator.add, range(10))"
   ]
  },
  {
   "cell_type": "code",
   "execution_count": null,
   "id": "4d9224bf-0df6-4218-a23e-3053b354e7eb",
   "metadata": {},
   "outputs": [],
   "source": [
    "functools.reduce(operator.xor, range(13))"
   ]
  },
  {
   "cell_type": "code",
   "execution_count": null,
   "id": "ea34cea7-ce07-417d-8024-b8792e799360",
   "metadata": {},
   "outputs": [],
   "source": [
    "@functools.singledispatch\n",
    "def type_dependent_function(obj):\n",
    "    print(\"this is the default...\", obj)\n",
    "\n",
    "@type_dependent_function.register(int)\n",
    "def _(obj):\n",
    "    print(\"integers are nice\", obj)\n",
    "\n",
    "@type_dependent_function.register(float)\n",
    "def _(obj):\n",
    "    print(\"but if this floats your boat...\", obj)"
   ]
  },
  {
   "cell_type": "code",
   "execution_count": null,
   "id": "781d1950-1b0d-4d8d-bbcd-e4188fda851a",
   "metadata": {},
   "outputs": [],
   "source": [
    "type_dependent_function('hello')"
   ]
  },
  {
   "cell_type": "code",
   "execution_count": null,
   "id": "ee12f15e-cde1-4506-9357-f18c537a6ed5",
   "metadata": {},
   "outputs": [],
   "source": [
    "type_dependent_function(1)"
   ]
  },
  {
   "cell_type": "code",
   "execution_count": null,
   "id": "8cdfec93-9e9e-407a-b8e8-0c58dde51aa2",
   "metadata": {},
   "outputs": [],
   "source": [
    "type_dependent_function(3.1415)"
   ]
  },
  {
   "cell_type": "code",
   "execution_count": null,
   "id": "e1612ffa-576e-4420-889b-649d8f47cfdc",
   "metadata": {},
   "outputs": [],
   "source": [
    "def the_decorator(wrapped_function):\n",
    "    @functools.wraps(wrapped_function)\n",
    "    def wrapper(*args, **kwds):\n",
    "        print('Calling decorated function')\n",
    "        return wrapped_function(*args, **kwds)\n",
    "    return wrapper\n",
    "\n",
    "\n",
    "@the_decorator\n",
    "def my_function(*args, **kwargs):\n",
    "    \"\"\"There be some fancy docstring here\"\"\"\n",
    "    print('Called example function')"
   ]
  },
  {
   "cell_type": "code",
   "execution_count": null,
   "id": "ce3b94fc-9f70-420f-a80b-8c4ceaa00d4d",
   "metadata": {},
   "outputs": [],
   "source": [
    "my_function('test')"
   ]
  },
  {
   "cell_type": "code",
   "execution_count": null,
   "id": "1cc693a7-bee6-48eb-8e48-680d3e5779eb",
   "metadata": {},
   "outputs": [],
   "source": [
    "print(my_function)"
   ]
  },
  {
   "cell_type": "code",
   "execution_count": null,
   "id": "d9588d10-6dc7-4820-91be-95cc4753e6ce",
   "metadata": {},
   "outputs": [],
   "source": [
    "help(my_function)"
   ]
  },
  {
   "cell_type": "markdown",
   "id": "303b67fd-69cc-4b68-95ae-cdab947b163c",
   "metadata": {},
   "source": [
    "## data types"
   ]
  },
  {
   "cell_type": "markdown",
   "id": "709dc059-0f7a-4acd-9f6a-1e3d15bc74f7",
   "metadata": {},
   "source": [
    "### datetime & zoneinfo\n",
    "- classes for manipulating dates and times\n",
    "- objects may be timezone 'naive' or timezone 'aware'\n",
    "- naive == no timezone information set, aware == timezone information available\n",
    "- avoid naive objects in production\n",
    "  - store dates/times either as timezone-aware objects (eg timestamp_tz in postgres) or as **explicit** utc times/dates\n",
    "  - convert once on input, and deal with tz-aware objects forever after\n",
    "- ojects in datetime offer microsecond resolution for dates between year 1 and year 9999\n",
    "- objects are immutable and hashable"
   ]
  },
  {
   "cell_type": "markdown",
   "id": "dc82864f-d1d7-410f-adc3-522230e05847",
   "metadata": {},
   "source": [
    "- `datetime.date`: naive date, assuming gregorian calendar\n",
    "- `datetime.time`: idealized time (no leap seconds), with (optional) timezone info\n",
    "- `datetime.datetime`: a real timestamp (date+time), with (optional) timezone info\n",
    "- `datetime.timedelta`: difference between two date/time/datetime objects\n",
    "- `datetime.timezone`: simple timezone class (see zoneinfo)\n",
    "- `zoneinfo.Zoneinfo`: named timezone objects"
   ]
  },
  {
   "attachments": {
    "31aed65e-5074-4649-a8f7-4a06a3fc7176.png": {
     "image/png": "[encoded data removed]"
    }
   },
   "cell_type": "markdown",
   "id": "ce82bd8e-a318-41b4-8cbc-40a788eadcd4",
   "metadata": {},
   "source": [
    "![image.png](attachment:31aed65e-5074-4649-a8f7-4a06a3fc7176.png)"
   ]
  },
  {
   "cell_type": "code",
   "execution_count": null,
   "id": "a79c6e43-f605-45c1-84c3-a8e6152a56c9",
   "metadata": {},
   "outputs": [],
   "source": [
    "import datetime\n",
    "import zoneinfo"
   ]
  },
  {
   "cell_type": "markdown",
   "id": "ec1d92cb-7be9-47a3-a9f1-0a7155359388",
   "metadata": {},
   "source": [
    "#### creating datetime objects"
   ]
  },
  {
   "cell_type": "code",
   "execution_count": null,
   "id": "95381118-fdd8-4780-ba27-749b0eafb0db",
   "metadata": {},
   "outputs": [],
   "source": [
    "date_1 = datetime.datetime(2023, 1, 1, 11, 22, 33)\n",
    "print(date_1)"
   ]
  },
  {
   "cell_type": "code",
   "execution_count": null,
   "id": "b1d36582-17d8-407f-acb0-d1d811cb9621",
   "metadata": {},
   "outputs": [],
   "source": [
    "print(date_1.tzinfo)  # timezone-naive!"
   ]
  },
  {
   "cell_type": "code",
   "execution_count": null,
   "id": "c3e4146e-92bc-4faf-95c4-962a7a814f8a",
   "metadata": {},
   "outputs": [],
   "source": [
    "tz_utc = zoneinfo.ZoneInfo('UTC')"
   ]
  },
  {
   "cell_type": "code",
   "execution_count": null,
   "id": "f296ae69-8e21-4451-bf41-69aeb9c31335",
   "metadata": {},
   "outputs": [],
   "source": [
    "date_1 = datetime.datetime(2023, 1, 1, 21, 22, 33, tzinfo=tz_utc)\n",
    "print(date_1)"
   ]
  },
  {
   "cell_type": "code",
   "execution_count": null,
   "id": "d3dadb69-53dc-4b8d-9939-c18f8b17ab21",
   "metadata": {},
   "outputs": [],
   "source": [
    "# alternative constructor\n",
    "local_now = datetime.datetime.now()\n",
    "print(local_now)\n",
    "print(local_now.tzinfo) # naive!"
   ]
  },
  {
   "cell_type": "code",
   "execution_count": null,
   "id": "3ffb1ca7-99ca-48d2-a9f2-ee5bd6eef286",
   "metadata": {},
   "outputs": [],
   "source": [
    "utc_now = datetime.datetime.utcnow()\n",
    "print(utc_now)\n",
    "print(utc_now.tzinfo) # still naive!"
   ]
  },
  {
   "cell_type": "markdown",
   "id": "b7d88063-b72c-4d61-8896-99912abc8b07",
   "metadata": {},
   "source": [
    "#### timezone conversion"
   ]
  },
  {
   "cell_type": "code",
   "execution_count": null,
   "id": "4e0e0842-38ad-48b8-9edf-d91d1cff4dd0",
   "metadata": {},
   "outputs": [],
   "source": [
    "tz_berlin = zoneinfo.ZoneInfo('Europe/Berlin')\n",
    "tz_tokyo = zoneinfo.ZoneInfo('Asia/Tokyo')"
   ]
  },
  {
   "cell_type": "code",
   "execution_count": null,
   "id": "61bde5a7-eb81-4258-b171-c78958194cf7",
   "metadata": {},
   "outputs": [],
   "source": [
    "date_1 = datetime.datetime(2023, 1, 1, 21, 22, 33, tzinfo=tz_utc)"
   ]
  },
  {
   "cell_type": "code",
   "execution_count": null,
   "id": "bcd4eb76-4ee9-4b37-8a33-7528dd9beef8",
   "metadata": {},
   "outputs": [],
   "source": [
    "date_1_berlin = date_1.astimezone(tz_berlin)\n",
    "print(date_1_berlin)"
   ]
  },
  {
   "cell_type": "code",
   "execution_count": null,
   "id": "2dacc0d8-3f9d-4814-810a-d84ca052e2a6",
   "metadata": {},
   "outputs": [],
   "source": [
    "date_1_tokyo = date_1.astimezone(tz_tokyo)\n",
    "print(date_1_tokyo)"
   ]
  },
  {
   "cell_type": "code",
   "execution_count": null,
   "id": "7b55ce65-3c33-43f0-8749-ca14748b114e",
   "metadata": {},
   "outputs": [],
   "source": [
    "# conversion with naive (assumed local)\n",
    "utc_now = datetime.datetime.utcnow()\n",
    "print(utc_now.astimezone(tz_utc))  # wrong result! "
   ]
  },
  {
   "cell_type": "code",
   "execution_count": null,
   "id": "2a6c274e-680f-4b00-8bc4-2235d868abd1",
   "metadata": {},
   "outputs": [],
   "source": [
    "print(utc_now.replace(tzinfo=tz_utc))  # this is better"
   ]
  },
  {
   "cell_type": "code",
   "execution_count": null,
   "id": "bd65d757-f91d-47b8-877f-cfeb463b4bb6",
   "metadata": {},
   "outputs": [],
   "source": [
    "local_now = datetime.datetime.now()\n",
    "print(local_now.astimezone(tz_utc))  # this also works"
   ]
  },
  {
   "cell_type": "markdown",
   "id": "6020a9f3-d169-4d48-9de9-83173f3c52a2",
   "metadata": {},
   "source": [
    "#### timestamp differences"
   ]
  },
  {
   "cell_type": "code",
   "execution_count": null,
   "id": "d77c3e1d-61ff-4dc3-a59f-78067b28153e",
   "metadata": {},
   "outputs": [],
   "source": [
    "date_1 = datetime.datetime(2023, 1, 1, 21, 22, 33, tzinfo=tz_utc)\n",
    "date_2 = datetime.datetime(2022, 6, 15, 13, 14, 15, tzinfo=tz_utc)\n",
    "timediff = date_1 - date_2\n",
    "print(f'{timediff!s} -- {timediff!r}')"
   ]
  },
  {
   "cell_type": "code",
   "execution_count": null,
   "id": "6702c025-1d3a-4e76-a025-c70d4ed80d0b",
   "metadata": {},
   "outputs": [],
   "source": [
    "timediff = date_2 - date_1\n",
    "print(f'{timediff!s} -- {timediff!r}')"
   ]
  },
  {
   "cell_type": "code",
   "execution_count": null,
   "id": "2f3a73aa-bcc2-44cc-a2c9-05bd7dbf01c7",
   "metadata": {},
   "outputs": [],
   "source": [
    "print(f'{date_1_berlin-date_1_tokyo=} == {date_1_berlin - date_1_tokyo}')"
   ]
  },
  {
   "cell_type": "code",
   "execution_count": null,
   "id": "bbb33d38-7dce-466e-a6b1-3f79121f43a4",
   "metadata": {},
   "outputs": [],
   "source": [
    "# can't calculate difference between naive and aware objects\n",
    "utc_now - date_1"
   ]
  },
  {
   "cell_type": "markdown",
   "id": "e2250100-293c-400e-b6a5-05e044597c35",
   "metadata": {},
   "source": [
    "#### components"
   ]
  },
  {
   "cell_type": "code",
   "execution_count": null,
   "id": "e6d8e748-2962-47e2-99bb-5be3b7e6d588",
   "metadata": {},
   "outputs": [],
   "source": [
    "print(date_1.year, date_1.month, date_1.day)"
   ]
  },
  {
   "cell_type": "code",
   "execution_count": null,
   "id": "b1c9cee1-15f7-4338-8325-bf47c3553145",
   "metadata": {},
   "outputs": [],
   "source": [
    "print(date_1.hour, date_1.minute, date_1.second)"
   ]
  },
  {
   "cell_type": "markdown",
   "id": "0b971fa5-501a-4cbf-8cd0-ffd1a47af75c",
   "metadata": {},
   "source": [
    "#### timestamp strings"
   ]
  },
  {
   "cell_type": "code",
   "execution_count": null,
   "id": "385bc942-6372-4150-a92f-d8b393f74efc",
   "metadata": {},
   "outputs": [],
   "source": [
    "date_1.strftime('%Y-%m-%d')"
   ]
  },
  {
   "cell_type": "code",
   "execution_count": null,
   "id": "897c2814-24cb-4f9a-90cc-3ab03b86b21e",
   "metadata": {},
   "outputs": [],
   "source": [
    "date_1.strftime('%H:%M:%S')"
   ]
  },
  {
   "cell_type": "code",
   "execution_count": null,
   "id": "ffb865a9-f956-45d7-9c0c-9d1fab72ba91",
   "metadata": {},
   "outputs": [],
   "source": [
    "date_1.strftime('%Y-%m-%d %H:%M:%S')"
   ]
  },
  {
   "cell_type": "code",
   "execution_count": null,
   "id": "c26ed643-381a-45f2-a1bc-8994ad3cd0be",
   "metadata": {},
   "outputs": [],
   "source": [
    "print(f'{date_1:%Y-%m-%d}')  # also in f-strings"
   ]
  },
  {
   "cell_type": "code",
   "execution_count": null,
   "id": "c714d406-3a72-4ab5-bd44-87634a586be8",
   "metadata": {},
   "outputs": [],
   "source": [
    "date_1.isoformat()  # for (text) serialization use this format!"
   ]
  },
  {
   "cell_type": "code",
   "execution_count": null,
   "id": "e4efa98f-b400-41a6-a04f-feaaacf93b2d",
   "metadata": {},
   "outputs": [],
   "source": [
    "date_1.astimezone(tz_tokyo).isoformat()"
   ]
  },
  {
   "cell_type": "code",
   "execution_count": null,
   "id": "9f1f9795-bf35-4fa2-9057-2fe05c76a6df",
   "metadata": {},
   "outputs": [],
   "source": [
    "date_string = date_1.astimezone(tz_tokyo).isoformat()\n",
    "datetime_from_iso_string = datetime.datetime.fromisoformat(date_string)  # no memory of tokyo, just the offset\n",
    "print(datetime_from_iso_string)\n",
    "print(datetime_from_iso_string.tzinfo)"
   ]
  },
  {
   "cell_type": "code",
   "execution_count": null,
   "id": "0b8d95b7-44ae-40a5-81b4-52d7d7c87ff1",
   "metadata": {},
   "outputs": [],
   "source": [
    "print(date_1.astimezone(tz_tokyo).tzinfo)"
   ]
  },
  {
   "cell_type": "code",
   "execution_count": null,
   "id": "81ac978c-f0f0-4770-977b-c4dd997ce798",
   "metadata": {},
   "outputs": [],
   "source": [
    "datetime_from_string = datetime.datetime.strptime('2023-11-12 13:14:15', '%Y-%m-%d %H:%M:%S')\n",
    "print(datetime_from_string)\n",
    "print(datetime_from_string.tzinfo)"
   ]
  },
  {
   "cell_type": "code",
   "execution_count": null,
   "id": "6f567885-e3cc-4124-897d-391f1ba19f09",
   "metadata": {},
   "outputs": [],
   "source": [
    "datetime.datetime.strptime('2023-11-12 13:14:15.123', '%Y-%m-%d %H:%M:%S')"
   ]
  },
  {
   "cell_type": "markdown",
   "id": "f4a6499b-b596-45e6-96e4-b839c6abc624",
   "metadata": {},
   "source": [
    "### collections\n",
    "- implements specialized container datatypes providing alternatives to Python’s general purpose built-in containers, `dict`, `list`, `set`, and `tuple`"
   ]
  },
  {
   "cell_type": "markdown",
   "id": "3b1189c8-98d0-4f2b-bdef-9666244be859",
   "metadata": {},
   "source": [
    "- `namedtuple` -- like a tuple, but with named fields\n",
    "- `deque` -- like a list, but appends and pops are fast on both sides (lists are only fast at the end)\n",
    "- `defaultdict` -- dict with default values for all keys\n",
    "- `Counter` -- counts elements in iterables\n",
    "- `UserDict`, `UserList`, `UserString` -- for easier subclassing of  builtin types (see last week)"
   ]
  },
  {
   "cell_type": "code",
   "execution_count": null,
   "id": "9fee50ce-3611-4981-9466-05fb2cf1d678",
   "metadata": {},
   "outputs": [],
   "source": [
    "import collections"
   ]
  },
  {
   "cell_type": "markdown",
   "id": "e313c834-5ead-4fd3-b83b-57a6edb381a1",
   "metadata": {},
   "source": [
    "#### namedtuple"
   ]
  },
  {
   "cell_type": "code",
   "execution_count": null,
   "id": "61c70edd-a981-4456-af45-59a678a908de",
   "metadata": {},
   "outputs": [],
   "source": [
    "Card = collections.namedtuple('Card', ['rank', 'suite'])\n",
    "card = Card('Ace', 'Clubs')\n",
    "print(card)\n",
    "card.suite"
   ]
  },
  {
   "cell_type": "markdown",
   "id": "72546c49-f20d-4b0b-8041-e789c9bd4d01",
   "metadata": {},
   "source": [
    "#### deque"
   ]
  },
  {
   "cell_type": "code",
   "execution_count": null,
   "id": "81e2da5e-4a1f-4881-b8cf-10f33df7d79e",
   "metadata": {},
   "outputs": [],
   "source": [
    "q = collections.deque([1, 2, 3])\n",
    "q.appendleft(0)\n",
    "q.appendleft(-1)\n",
    "print(f'{q} -- after adding two left elements')\n",
    "q.append(4)\n",
    "print(f'{q} -- after adding one right element')\n",
    "q.pop()\n",
    "print(f'{q} -- after pop right')\n",
    "q.popleft()\n",
    "print(f'{q} -- after pop left')"
   ]
  },
  {
   "cell_type": "code",
   "execution_count": null,
   "id": "f36d0507-634c-4d8b-9f05-cc32b1b2db0c",
   "metadata": {},
   "outputs": [],
   "source": [
    "%%timeit\n",
    "q = collections.deque()\n",
    "for i in range(100000):\n",
    "    q.appendleft(i)"
   ]
  },
  {
   "cell_type": "code",
   "execution_count": null,
   "id": "fc917a33-1443-4f4d-b089-fb298b36c37d",
   "metadata": {},
   "outputs": [],
   "source": [
    "%%timeit\n",
    "l = list()\n",
    "for i in range(100000):\n",
    "    l.insert(0, i)"
   ]
  },
  {
   "cell_type": "markdown",
   "id": "cbb406aa-c32f-4371-b722-af1904f26d0e",
   "metadata": {},
   "source": [
    "#### defaultdict"
   ]
  },
  {
   "cell_type": "code",
   "execution_count": null,
   "id": "c8be7942-7319-44dd-a2c0-846c1abc3eb9",
   "metadata": {},
   "outputs": [],
   "source": [
    "normal_dict = {}\n",
    "default_dict = collections.defaultdict(int)"
   ]
  },
  {
   "cell_type": "code",
   "execution_count": null,
   "id": "c6d7cfaa-2e7e-4ac1-b74b-b7ed7bcea50d",
   "metadata": {},
   "outputs": [],
   "source": [
    "normal_dict['key'] = 5\n",
    "default_dict['key'] = 5"
   ]
  },
  {
   "cell_type": "code",
   "execution_count": null,
   "id": "4befffa3-860c-4124-b345-6c7a0ececbd7",
   "metadata": {},
   "outputs": [],
   "source": [
    "print(f\"{normal_dict['key'] = }\")\n",
    "print(f\"{default_dict['key'] = }\")"
   ]
  },
  {
   "cell_type": "code",
   "execution_count": null,
   "id": "1d910b4f-b436-4655-87fb-e6c984842293",
   "metadata": {},
   "outputs": [],
   "source": [
    "normal_dict['no_key_here']"
   ]
  },
  {
   "cell_type": "code",
   "execution_count": null,
   "id": "4edd5e55-f3a7-49a9-9ac0-76932eb8edc2",
   "metadata": {},
   "outputs": [],
   "source": [
    "default_dict['no_key_here']"
   ]
  },
  {
   "cell_type": "code",
   "execution_count": null,
   "id": "7241a414-ca64-4e1c-a72a-891ccd91596c",
   "metadata": {},
   "outputs": [],
   "source": [
    "# can get the same from a normal dict with special method\n",
    "normal_dict.get('no_key_here', 0)"
   ]
  },
  {
   "cell_type": "code",
   "execution_count": null,
   "id": "57005a84-08b7-412d-99ff-1cb28b6b20d6",
   "metadata": {},
   "outputs": [],
   "source": [
    "# doesn't have to be zero, just needs a function that returns the default entry\n",
    "default_five = collections.defaultdict(lambda: 5)\n",
    "default_five['no_key_here']"
   ]
  },
  {
   "cell_type": "code",
   "execution_count": null,
   "id": "2be205f1-f5c9-4178-90f7-660afbe28c2c",
   "metadata": {},
   "outputs": [],
   "source": [
    "default_string = collections.defaultdict(str)\n",
    "default_string['no_key_here']"
   ]
  },
  {
   "cell_type": "code",
   "execution_count": null,
   "id": "f8e76795-daf2-4027-a388-4b84a6babd3a",
   "metadata": {},
   "outputs": [],
   "source": [
    "default_string_2 = collections.defaultdict(lambda: \"there was no entry for this key...\")\n",
    "default_string_2['no_key_here']"
   ]
  },
  {
   "cell_type": "markdown",
   "id": "4ecff100-023f-4a2e-be44-2828dc63ef64",
   "metadata": {},
   "source": [
    "#### Counter"
   ]
  },
  {
   "cell_type": "code",
   "execution_count": null,
   "id": "dc520ee0-37c4-4604-88ca-299a76521ee1",
   "metadata": {},
   "outputs": [],
   "source": [
    "cntr = collections.Counter('this here be some long string')\n",
    "cntr"
   ]
  },
  {
   "cell_type": "code",
   "execution_count": null,
   "id": "44471667-5ed8-4dc5-b649-ef4b6230754f",
   "metadata": {},
   "outputs": [],
   "source": [
    "first_list = ['ybk', 'zcg', 'dhw', 'gua', 'mqh', 'yel', 'fpk', 'imk', 'nkt', 'tpl', 'guc', 'ozk', 'dip', 'thn', 'pxc', 'obk', 'orl', 'rdc', 'vto', 'wen', 'tbw', 'itj', 'qfb', 'ymd', 'txb', 'vgw', 'wgd', 'tcg', 'ezm', 'gnt', 'ehf', 'pfo', 'alf']\n",
    "collections.Counter(''.join(first_list))"
   ]
  },
  {
   "cell_type": "markdown",
   "id": "f5b1e74c-9475-4e00-9c43-32c15e7313c5",
   "metadata": {
    "jp-MarkdownHeadingCollapsed": true
   },
   "source": [
    "### array [skip]\n",
    "- sort of like a list\n",
    "- but for specified, uniform, basic types (numbers, characters)\n",
    "- numbers can range from 1-byte `chars` up to 8-byte `doubles` and `long long`s (but not arbitrary size integers)\n",
    "- integers can be signed or unsigned\n",
    "- arithmetic works like for lists\n",
    "- use 3-rd party library `numpy` for n-dimensional arrays with arithmetic, linear algebra etc..."
   ]
  },
  {
   "cell_type": "code",
   "execution_count": null,
   "id": "0d70112b-3d54-4bc5-aeae-a28439c186d1",
   "metadata": {},
   "outputs": [],
   "source": [
    "import array"
   ]
  },
  {
   "cell_type": "code",
   "execution_count": null,
   "id": "e0d0aa37-d001-4575-9acf-3a6b47d782d1",
   "metadata": {
    "scrolled": true
   },
   "outputs": [],
   "source": [
    "help(array)"
   ]
  },
  {
   "cell_type": "code",
   "execution_count": null,
   "id": "7c28014f-ef58-4885-8108-a186b9f5b87c",
   "metadata": {},
   "outputs": [],
   "source": [
    "unicode_array = array.array('u', 'Hello there! 😀')\n",
    "unicode_array"
   ]
  },
  {
   "cell_type": "code",
   "execution_count": null,
   "id": "43a1f654-2216-4fe2-8a25-5faa6f1a639f",
   "metadata": {},
   "outputs": [],
   "source": [
    "char_array = array.array('b', [1, 2, 3, 4, 5])  # b: signed 1-byte integer\n",
    "char_array"
   ]
  },
  {
   "cell_type": "code",
   "execution_count": null,
   "id": "d2398097-1140-4d73-a9ba-ee90e0bae5eb",
   "metadata": {},
   "outputs": [],
   "source": [
    "char_array.append(2**8)"
   ]
  },
  {
   "cell_type": "code",
   "execution_count": null,
   "id": "8f70eb00-d9fb-449b-ba9f-7294ed5d4f9e",
   "metadata": {},
   "outputs": [],
   "source": [
    "double_array = array.array('d', [3.1415, 2.718, 1e5])\n",
    "double_array"
   ]
  },
  {
   "cell_type": "markdown",
   "id": "d359ef4b-bba9-4d33-b294-84133e71ad2f",
   "metadata": {
    "jp-MarkdownHeadingCollapsed": true
   },
   "source": [
    "### copy [skip]\n",
    "- shallow or deep copy operations on objects"
   ]
  },
  {
   "cell_type": "code",
   "execution_count": null,
   "id": "cf67fbfa-e214-4abd-b43e-59822402e1c7",
   "metadata": {},
   "outputs": [],
   "source": [
    "import copy"
   ]
  },
  {
   "cell_type": "code",
   "execution_count": null,
   "id": "28995ccc-9c61-4ab7-8abc-ebe5e87290ed",
   "metadata": {},
   "outputs": [],
   "source": [
    "def modifying_function(some_dict):\n",
    "    some_dict['new_key'] = 'hey, set by a function'"
   ]
  },
  {
   "cell_type": "code",
   "execution_count": null,
   "id": "97fa3cd9-1b03-4cbc-8393-43e46657ac49",
   "metadata": {},
   "outputs": [],
   "source": [
    "d = dict()\n",
    "modifying_function(d)\n",
    "print(d)"
   ]
  },
  {
   "cell_type": "code",
   "execution_count": null,
   "id": "7011bdd9-a3d5-49ca-804e-185fa113d795",
   "metadata": {},
   "outputs": [],
   "source": [
    "d = dict()\n",
    "modifying_function(copy.copy(d))\n",
    "print(d)"
   ]
  },
  {
   "cell_type": "code",
   "execution_count": null,
   "id": "ed9035ac-e2ea-42c5-815d-069636e7e68a",
   "metadata": {},
   "outputs": [],
   "source": [
    "def deep_modifying_function(some_dict):\n",
    "    some_dict['inner_dict']['new_key'] = 'hey, set by a function'"
   ]
  },
  {
   "cell_type": "code",
   "execution_count": null,
   "id": "9470647e-a838-456f-9d12-856579a7cf95",
   "metadata": {},
   "outputs": [],
   "source": [
    "d = dict()\n",
    "d['inner_dict'] = dict()\n",
    "deep_modifying_function(d)\n",
    "print(d)"
   ]
  },
  {
   "cell_type": "code",
   "execution_count": null,
   "id": "c4b07af3-10d7-4433-953c-45505a995ee1",
   "metadata": {},
   "outputs": [],
   "source": [
    "d = dict()\n",
    "d['inner_dict'] = dict()\n",
    "deep_modifying_function(copy.copy(d))\n",
    "print(d)"
   ]
  },
  {
   "cell_type": "code",
   "execution_count": null,
   "id": "02537e29-9188-4be5-a5ea-acaf720d3d0a",
   "metadata": {},
   "outputs": [],
   "source": [
    "d = dict()\n",
    "d['inner_dict'] = dict()\n",
    "deep_modifying_function(copy.deepcopy(d))\n",
    "print(d)"
   ]
  },
  {
   "cell_type": "markdown",
   "id": "3019e54d-6128-49ad-a2bc-74983582787b",
   "metadata": {
    "jp-MarkdownHeadingCollapsed": true
   },
   "source": [
    "### base64 [skip]\n",
    "- provides functions for encoding binary data to printable ASCII characters and decoding such encodings back to binary data.\n",
    "- mostly for transmitting binary data as part of URLs or in http POST requests\n",
    "- `base64.b64encode` / `base64.b64decode` -- en/de-code using the standard alphabet\n",
    "- `base64.urlsafe_b64encode` / `base64.urlsafe_b64decode` -- en/de-code using the urlencode alphabet"
   ]
  },
  {
   "cell_type": "code",
   "execution_count": null,
   "id": "c1dab0f4-fa7c-407c-b0bb-e5a588a51db3",
   "metadata": {},
   "outputs": [],
   "source": [
    "import base64"
   ]
  },
  {
   "cell_type": "code",
   "execution_count": null,
   "id": "261b4e4b-f2e2-4833-98fd-29f0c14f23cc",
   "metadata": {},
   "outputs": [],
   "source": [
    "list_as_bytes = bytes([1, 2, 3])\n",
    "list_as_bytes"
   ]
  },
  {
   "cell_type": "code",
   "execution_count": null,
   "id": "93f4409e-3bb1-4794-ba08-2f2033a3fb8f",
   "metadata": {},
   "outputs": [],
   "source": [
    "list_as_b64 = base64.b64encode(list_as_bytes)\n",
    "list_as_b64"
   ]
  },
  {
   "cell_type": "code",
   "execution_count": null,
   "id": "f7005849-71f1-46a1-bfa5-54f2930ab4df",
   "metadata": {},
   "outputs": [],
   "source": [
    "decoded_list_as_bytes = base64.b64decode(list_as_b64)\n",
    "decoded_list_as_bytes"
   ]
  },
  {
   "cell_type": "code",
   "execution_count": null,
   "id": "eb140787-723b-4506-993c-e481cc8b4320",
   "metadata": {},
   "outputs": [],
   "source": [
    "list(decoded_list_as_bytes)"
   ]
  },
  {
   "cell_type": "markdown",
   "id": "feb684a4-ba45-4602-a323-c95ef07f11fa",
   "metadata": {},
   "source": [
    "## mathemtical things"
   ]
  },
  {
   "cell_type": "markdown",
   "id": "88e3b6ee-fb45-426b-a01c-4cc4c3af3e7a",
   "metadata": {},
   "source": [
    "### math & cmath\n",
    "- `math` all the mathematical functions defined in C99 for real numbers\n",
    "- `cmath` all the mathematical functions defined in C99 for complex numbers"
   ]
  },
  {
   "cell_type": "markdown",
   "id": "597aea73-a868-44ec-8bfa-3c013bf48cfc",
   "metadata": {},
   "source": [
    "- rounding: `trunc`, `floor`, `ceil`, ...\n",
    "- combinatorics: `comb`, `perm`, ...\n",
    "- integer arithmetics: `factorial`, `gcd`, `lcm`, ...\n",
    "- (float) modulo: `fmod` (watch out, different from `%`)\n",
    "- trigonometry: `sin`, `cos`, `tan`, `asin`, `acos`, `atan`, `sinh`, `cosh`, `tanh`, `asinh`, `acosh`, `atanh`\n",
    "- angles: `degrees`, `radians` for conversion\n",
    "- log and exp: `exp`, `exp2`, `log`, `log2`, `log10`, `pow`, ...\n",
    "- special functions: `erf`, `gamma`, ...\n",
    "- value tests: `isinf`, `isfinite`, `isnan`\n",
    "- constants: `pi`, `e`, `tau`, `nan`, `inf`"
   ]
  },
  {
   "cell_type": "code",
   "execution_count": null,
   "id": "e2e8737c-2445-482c-a601-3190e2a28c50",
   "metadata": {},
   "outputs": [],
   "source": [
    "import math\n",
    "import cmath"
   ]
  },
  {
   "cell_type": "code",
   "execution_count": null,
   "id": "c221f087-58f7-44dc-acaa-038e4edc8f87",
   "metadata": {},
   "outputs": [],
   "source": [
    "math.inf == float('inf')"
   ]
  },
  {
   "cell_type": "code",
   "execution_count": null,
   "id": "9b8b3ed7-364d-435f-9e34-8e3a29b685ab",
   "metadata": {},
   "outputs": [],
   "source": [
    "math.nan == float('nan')"
   ]
  },
  {
   "cell_type": "code",
   "execution_count": null,
   "id": "729e8e67-1592-454f-9060-798cde8da70e",
   "metadata": {},
   "outputs": [],
   "source": [
    "math.comb(7, 3)   # 7 choose 3 without order"
   ]
  },
  {
   "cell_type": "code",
   "execution_count": null,
   "id": "cf27cc32-d00e-420c-88e2-8f951fc13da9",
   "metadata": {},
   "outputs": [],
   "source": [
    "math.perm(7, 3)  # 7 choose 3 with order"
   ]
  },
  {
   "cell_type": "code",
   "execution_count": null,
   "id": "37a3dc09-4deb-4fe5-852e-27462108cc81",
   "metadata": {},
   "outputs": [],
   "source": [
    "math.cos(math.pi)"
   ]
  },
  {
   "cell_type": "code",
   "execution_count": null,
   "id": "a395b175-88ca-42c3-a086-c1223efa63a8",
   "metadata": {},
   "outputs": [],
   "source": [
    "math.acos(-1)"
   ]
  },
  {
   "cell_type": "code",
   "execution_count": null,
   "id": "99315a55-d8d9-43b0-95bc-bc1bb98539f6",
   "metadata": {},
   "outputs": [],
   "source": [
    "math.acos(1)"
   ]
  },
  {
   "cell_type": "code",
   "execution_count": null,
   "id": "d4737389-53bf-4c70-a8c8-13db4642aa3a",
   "metadata": {},
   "outputs": [],
   "source": [
    "math.acos(0)"
   ]
  },
  {
   "cell_type": "code",
   "execution_count": null,
   "id": "e7bacc34-fa69-40f0-b7d9-af20cc31661a",
   "metadata": {},
   "outputs": [],
   "source": [
    "cmath.exp(math.pi*1j)"
   ]
  },
  {
   "cell_type": "markdown",
   "id": "e0fe304a-7611-4507-acc0-cea2b48f71d2",
   "metadata": {},
   "source": [
    "### random\n",
    "- generate pseudorandom numbers from various distributions, and related functions\n",
    "- pseudorandom numbers are **not** suitable for cryptographic applications! take a look at `secrets` or 3rd party libraries\n",
    "- for matrices (or otherwise large arrays) of random numbers and additional distributions look into `numpy` and `scipy`"
   ]
  },
  {
   "cell_type": "markdown",
   "id": "e0543785-63a6-4d53-b2be-afffa0b57d51",
   "metadata": {},
   "source": [
    "- `random.seed`: set the seed for pseudorandom generator (same seed = same sequence will be generated)\n",
    "- `random.randrange` - random element from range\n",
    "- `random.randint` - uniform random int between min and max (both inclusive!)\n",
    "- `random.random` - uniform floating point between 0 (inclusive) and 1 (exclusive)\n",
    "- `random.uniform` - uniform floating point between min and max\n",
    "- `random.gauss` - normal distribution\n",
    "- `random.choice` - return random element from sequence\n",
    "- `random.shuffle` - shuffle sequence in-place\n",
    "- `random.sample` - return k elements from sequence without replacement"
   ]
  },
  {
   "cell_type": "code",
   "execution_count": null,
   "id": "9d27fddd-e8cf-4d2b-be0b-ad06756a3fcf",
   "metadata": {},
   "outputs": [],
   "source": [
    "import random, string"
   ]
  },
  {
   "cell_type": "code",
   "execution_count": null,
   "id": "f628639d-0db8-489a-8834-a75c660e54e1",
   "metadata": {},
   "outputs": [],
   "source": [
    "random.seed(42)"
   ]
  },
  {
   "cell_type": "code",
   "execution_count": null,
   "id": "bef53890-9bfb-43f4-869d-2591e18faca9",
   "metadata": {},
   "outputs": [],
   "source": [
    "random.randint(1, 10)"
   ]
  },
  {
   "cell_type": "code",
   "execution_count": null,
   "id": "75ae3c1e-bbfa-4e30-9c87-6549656f7512",
   "metadata": {},
   "outputs": [],
   "source": [
    "random.choice(string.ascii_lowercase)"
   ]
  },
  {
   "cell_type": "code",
   "execution_count": null,
   "id": "ba667212-84ee-4a13-af62-d2b3bb52e463",
   "metadata": {},
   "outputs": [],
   "source": [
    "random.choice(['abc', 'def', 'ghi'])"
   ]
  },
  {
   "cell_type": "code",
   "execution_count": null,
   "id": "5d6149da-e90a-4762-9690-3152ee022edf",
   "metadata": {},
   "outputs": [],
   "source": [
    "random.sample(string.ascii_lowercase, 5)"
   ]
  },
  {
   "cell_type": "code",
   "execution_count": null,
   "id": "ca9972ef-8340-4966-8ce5-61505c849e41",
   "metadata": {},
   "outputs": [],
   "source": [
    "from matplotlib import pyplot as plt\n",
    "%matplotlib inline"
   ]
  },
  {
   "cell_type": "code",
   "execution_count": null,
   "id": "4bbfab54-0640-44a5-b164-091d13172e36",
   "metadata": {},
   "outputs": [],
   "source": [
    "uniform_data = [random.uniform(-1, 1) for _ in range(100000)]\n",
    "normal_data = [random.gauss() for _ in range(100000)]\n",
    "\n",
    "plt.hist(normal_data, bins=100, range=(-4, 4), alpha=0.5);\n",
    "plt.hist(uniform_data, bins=100, range=(-4, 4), alpha=0.5);"
   ]
  },
  {
   "cell_type": "markdown",
   "id": "fdf33010-fbe5-44d4-8e56-b531013ed55b",
   "metadata": {
    "jp-MarkdownHeadingCollapsed": true
   },
   "source": [
    "### decimal [skip]\n",
    "- decimal numbers with configurable precision\n",
    "- 'exact' within that precision\n",
    "- useful particularly for e.g. accounting"
   ]
  },
  {
   "cell_type": "code",
   "execution_count": null,
   "id": "3b5f53b7-1a2e-433f-8a71-a83704c31eed",
   "metadata": {},
   "outputs": [],
   "source": [
    "import decimal"
   ]
  },
  {
   "cell_type": "code",
   "execution_count": null,
   "id": "6c187b28-7f2a-4c8c-8202-3b58ea1e826a",
   "metadata": {},
   "outputs": [],
   "source": [
    "0.1 + 0.1 + 0.1 - 0.3"
   ]
  },
  {
   "cell_type": "code",
   "execution_count": null,
   "id": "656d415a-3dd9-48ae-b0a1-b7a2c5dc6077",
   "metadata": {},
   "outputs": [],
   "source": [
    "decimal.Decimal(0.1) + decimal.Decimal(0.1) + decimal.Decimal(0.1) - decimal.Decimal(0.3)"
   ]
  },
  {
   "cell_type": "code",
   "execution_count": null,
   "id": "00e148a5-faca-48e3-b655-93452ced17c7",
   "metadata": {},
   "outputs": [],
   "source": [
    "decimal.Decimal('0.1') + decimal.Decimal('0.1') + decimal.Decimal('0.1') - decimal.Decimal('0.3')"
   ]
  },
  {
   "cell_type": "code",
   "execution_count": null,
   "id": "13ab825f-a284-4348-926e-6cac0be03076",
   "metadata": {},
   "outputs": [],
   "source": [
    "with decimal.localcontext(traps=[decimal.FloatOperation]):\n",
    "    decimal.Decimal(0.1)"
   ]
  },
  {
   "cell_type": "code",
   "execution_count": null,
   "id": "288391e5-af4a-40ed-9080-4375379bb358",
   "metadata": {},
   "outputs": [],
   "source": [
    "# significance\n",
    "decimal.Decimal('1.50') + decimal.Decimal('1.50')"
   ]
  },
  {
   "cell_type": "code",
   "execution_count": null,
   "id": "cdcc94f9-ce3e-4166-ac09-339b647b9092",
   "metadata": {},
   "outputs": [],
   "source": [
    "# setting precision\n",
    "with decimal.localcontext(prec=3):\n",
    "    print(decimal.Decimal('1.23456'))\n",
    "    print(decimal.Decimal(1) / decimal.Decimal(7))\n",
    "    print(decimal.Decimal('1.23456') + decimal.Decimal('1.23456'))"
   ]
  },
  {
   "cell_type": "code",
   "execution_count": null,
   "id": "7fba3897-64a5-4ea5-bc0d-4534a8577517",
   "metadata": {},
   "outputs": [],
   "source": [
    "# setting precision\n",
    "with decimal.localcontext(prec=345):\n",
    "    print(decimal.Decimal(1) / decimal.Decimal(7))"
   ]
  },
  {
   "cell_type": "markdown",
   "id": "75956d4d-47e0-4959-b0de-e0178c98eda8",
   "metadata": {},
   "source": [
    "## data persistence"
   ]
  },
  {
   "cell_type": "markdown",
   "id": "d4639f66-aa93-4bd3-abf2-6b96ac23e09b",
   "metadata": {},
   "source": [
    "### csv\n",
    "- csv: 'comma separated values' -- common data interchange format for tabular data\n",
    "- there is a standard ([RFC 4180](https://datatracker.ietf.org/doc/html/rfc4180.html)), but it's often ignored and/or misused\n",
    "- making the parsing of csv files tedious and error-prone\n",
    "- the `csv` module supports various 'dialects' of csv-files"
   ]
  },
  {
   "cell_type": "code",
   "execution_count": null,
   "id": "c2c1d0b9-f6ce-436d-b3d6-9ec8d8bec888",
   "metadata": {},
   "outputs": [],
   "source": [
    "import csv"
   ]
  },
  {
   "cell_type": "code",
   "execution_count": null,
   "id": "dac28738-8ea8-4ecb-81ef-fb2e68f658cc",
   "metadata": {},
   "outputs": [],
   "source": [
    "with open('../data/titanic.csv', 'r') as ifile:\n",
    "    reader = csv.reader(ifile)\n",
    "    data = [line for line in reader]"
   ]
  },
  {
   "cell_type": "code",
   "execution_count": null,
   "id": "23d27ab2-2d96-4e12-9c01-43ba80630bf1",
   "metadata": {},
   "outputs": [],
   "source": [
    "for line in data[:3]:\n",
    "    print(line)"
   ]
  },
  {
   "cell_type": "code",
   "execution_count": null,
   "id": "290bee80-4308-4810-96b2-2c16f406a973",
   "metadata": {},
   "outputs": [],
   "source": [
    "# and writing it again\n",
    "with open('../data/demo_output.csv', 'w') as ifile:\n",
    "    writer = csv.writer(ifile)\n",
    "    writer.writerows(data[:3])"
   ]
  },
  {
   "cell_type": "code",
   "execution_count": null,
   "id": "2487d235-4677-4ecf-933f-f68719632920",
   "metadata": {},
   "outputs": [],
   "source": [
    "# DictReader assumes the first line to be headers and uses the values as keys for dictionaries, each row becoming a dict.\n",
    "with open('../data/titanic.csv', 'r') as ifile:\n",
    "    reader = csv.DictReader(ifile)\n",
    "    data = [line for line in reader]"
   ]
  },
  {
   "cell_type": "code",
   "execution_count": null,
   "id": "59abe310-c217-4542-b921-a23e6cb7c0e5",
   "metadata": {},
   "outputs": [],
   "source": [
    "data[0]"
   ]
  },
  {
   "cell_type": "code",
   "execution_count": null,
   "id": "31784ae4-acce-4a42-9373-8b7fbbf5dcae",
   "metadata": {},
   "outputs": [],
   "source": [
    "# Terrible excel interpretation of what 'csv' means...\n",
    "with open('../data/bad_excel_titanic.csv', 'r') as ifile:\n",
    "    reader = csv.DictReader(ifile)\n",
    "    data = [line for line in reader]"
   ]
  },
  {
   "cell_type": "code",
   "execution_count": null,
   "id": "9d8dc05f-fe28-41b6-a834-1921425b67a9",
   "metadata": {},
   "outputs": [],
   "source": [
    "data[0]"
   ]
  },
  {
   "cell_type": "code",
   "execution_count": null,
   "id": "d46f2434-8501-4b83-bf25-21c87afe1446",
   "metadata": {},
   "outputs": [],
   "source": [
    "# Terrible excel interpretation of what 'csv' means...\n",
    "with open('../data/bad_excel_titanic.csv', 'r') as ifile:\n",
    "    dialect = csv.Sniffer().sniff(ifile.read(2048))\n",
    "    ifile.seek(0)\n",
    "    reader = csv.DictReader(ifile, dialect=dialect)\n",
    "    data = [line for line in reader]\n",
    "data[1]"
   ]
  },
  {
   "cell_type": "markdown",
   "id": "fb147c9d-3c63-4da8-99e7-c96db0b2f2cf",
   "metadata": {},
   "source": [
    "### json\n",
    "- javascript object notation\n",
    "- lightweight, text-based, language-independent data interchange format\n",
    "- but the syntax already maps quite nicely to python as-is, making the content easy to understand\n",
    "- standardized in [RFC7159](https://datatracker.ietf.org/doc/html/rfc7159.html)\n",
    "- some "
   ]
  },
  {
   "cell_type": "markdown",
   "id": "a7e70d7d-c324-4f0f-ad91-0e7685f30fc9",
   "metadata": {},
   "source": [
    "- `load`: parse json data from a file object\n",
    "- `loads`: parse json data from a string\n",
    "- `dump`: encode objects as json data and write to file\n",
    "- `dumps`: encode objects as json strings"
   ]
  },
  {
   "cell_type": "markdown",
   "id": "ff3fadb9-8cf4-415b-b486-5dc3f669e0e2",
   "metadata": {},
   "source": [
    "<div class=\"alert alert-block alert-warning\">\n",
    "<b>Untrusted data:</b> <br>\n",
    "<a>\n",
    "Be cautious when parsing JSON data from untrusted sources. A malicious JSON string may cause the decoder to consume considerable CPU and memory resources. Limiting the size of data to be parsed is recommended.\n",
    "</a>\n",
    "</div>"
   ]
  },
  {
   "cell_type": "code",
   "execution_count": null,
   "id": "a6f3652a-7aa2-4d3d-a692-41d3404105a6",
   "metadata": {},
   "outputs": [],
   "source": [
    "import json"
   ]
  },
  {
   "cell_type": "code",
   "execution_count": null,
   "id": "ef8efe86-a05b-4e46-b554-253a4454520a",
   "metadata": {},
   "outputs": [],
   "source": [
    "encoded_list = json.dumps([1, '2', 3.1415])\n",
    "encoded_list"
   ]
  },
  {
   "cell_type": "code",
   "execution_count": null,
   "id": "4afc1d30-f25e-4f64-8bb2-4568f356b957",
   "metadata": {},
   "outputs": [],
   "source": [
    "decoded_list = json.loads(encoded_list)\n",
    "decoded_list"
   ]
  },
  {
   "cell_type": "code",
   "execution_count": null,
   "id": "e2afc8fb-b213-449e-ad7d-ad85598879b9",
   "metadata": {},
   "outputs": [],
   "source": [
    "for element in decoded_list:\n",
    "    print(f\"{element} is a {type(element)}\")"
   ]
  },
  {
   "cell_type": "code",
   "execution_count": null,
   "id": "10a66f57-c9ff-4192-8085-a74b72d43c0b",
   "metadata": {},
   "outputs": [],
   "source": [
    "encoded_dict = json.dumps({'a': 'foo', 'b': 3.1415})\n",
    "encoded_dict"
   ]
  },
  {
   "cell_type": "code",
   "execution_count": null,
   "id": "5787dff5-3648-4c07-81a0-821f8a43f3c4",
   "metadata": {},
   "outputs": [],
   "source": [
    "decoded_dict = json.loads(encoded_dict)\n",
    "decoded_dict"
   ]
  },
  {
   "cell_type": "code",
   "execution_count": null,
   "id": "54af6732-a064-4bba-a971-48bf0244b2ff",
   "metadata": {},
   "outputs": [],
   "source": [
    "# arbitrary nesting works just fine\n",
    "my_data = {\n",
    "    \"some_key\": \"simple\",\n",
    "    \"mixed_list\": [1, \"2\", 3.1415, {\"inner_dict\": \"also_works\"}],\n",
    "    \"dict\": {\n",
    "        \"my_list\": [1, 2, 3]\n",
    "    }\n",
    "}\n",
    "encoded_data = json.dumps(my_data)\n",
    "encoded_data"
   ]
  },
  {
   "cell_type": "code",
   "execution_count": null,
   "id": "45dce31b-2cde-45ef-a338-43f725de8d8c",
   "metadata": {},
   "outputs": [],
   "source": [
    "restored_data = json.loads(encoded_data)\n",
    "restored_data"
   ]
  },
  {
   "cell_type": "code",
   "execution_count": null,
   "id": "411aa3e0-85e4-46e0-94e8-d6749ff740fe",
   "metadata": {},
   "outputs": [],
   "source": [
    "restored_data == my_data"
   ]
  },
  {
   "cell_type": "markdown",
   "id": "6d3ac040-6b86-40c7-8e92-feb5d47133bf",
   "metadata": {},
   "source": [
    "#### possible issues"
   ]
  },
  {
   "cell_type": "code",
   "execution_count": null,
   "id": "537e3532-23cb-4f32-a771-c699e82f45d9",
   "metadata": {},
   "outputs": [],
   "source": [
    "# json standard only supports strings as keys\n",
    "encoded_dict = json.dumps({17: \"seventeen\"})\n",
    "decoded_dict = json.loads(encoded_dict)\n",
    "decoded_dict"
   ]
  },
  {
   "cell_type": "code",
   "execution_count": null,
   "id": "3e8c2424-6dbf-4115-b50b-1d1d1e59c836",
   "metadata": {},
   "outputs": [],
   "source": [
    "for k, v in decoded_dict.items():\n",
    "    print(f\"{k} is a {type(k)} and {v} is a {type(v)}\")"
   ]
  },
  {
   "cell_type": "code",
   "execution_count": null,
   "id": "dac9f8e9-89ec-45d9-89ad-e1b692ab4706",
   "metadata": {},
   "outputs": [],
   "source": [
    "# and even worse, collisions can occur and are silent\n",
    "encoded_dict = json.dumps({17: \"int_key\", '17': 'str_key'})\n",
    "decoded_dict = json.loads(encoded_dict)\n",
    "decoded_dict"
   ]
  },
  {
   "cell_type": "code",
   "execution_count": null,
   "id": "961e1327-7a68-4f63-adce-2ad99bacf98c",
   "metadata": {},
   "outputs": [],
   "source": [
    "# order matters...\n",
    "encoded_dict = json.dumps({'17': \"str_key\", 17: 'int_key'})\n",
    "decoded_dict = json.loads(encoded_dict)\n",
    "decoded_dict"
   ]
  },
  {
   "cell_type": "code",
   "execution_count": null,
   "id": "adeca771-c06f-44a5-8d7b-9adf2b344c53",
   "metadata": {},
   "outputs": [],
   "source": [
    "# the reverse is also possible\n",
    "weird_json = '{\"x\": 1, \"x\": 2, \"x\": 3}'\n",
    "json.loads(weird_json)"
   ]
  },
  {
   "cell_type": "code",
   "execution_count": null,
   "id": "70db00a9-3438-4aeb-9030-3dbf799080f1",
   "metadata": {},
   "outputs": [],
   "source": [
    "# constants and weird floats\n",
    "funky_json = json.dumps([True, False, None, float('nan'), float('inf')])\n",
    "funky_json"
   ]
  },
  {
   "cell_type": "code",
   "execution_count": null,
   "id": "b1767c85-24e4-4b70-b4f5-31a4b82a4ebf",
   "metadata": {},
   "outputs": [],
   "source": [
    "json.loads(funky_json)"
   ]
  },
  {
   "cell_type": "code",
   "execution_count": null,
   "id": "20e8b46f-5e4c-41f1-97dd-8c0b7779cc5d",
   "metadata": {},
   "outputs": [],
   "source": [
    "# NaNs and Infinity are beyond the standard though\n",
    "json.dumps([float('nan'), float('inf')], allow_nan=False)"
   ]
  },
  {
   "cell_type": "code",
   "execution_count": null,
   "id": "66109a64-cf94-49cf-8ffc-3f6de9d0d5fa",
   "metadata": {},
   "outputs": [],
   "source": [
    "# recursion dosn't work...\n",
    "recursive_list = [1, 2, 3]\n",
    "recursive_list.append(recursive_list)\n",
    "recursive_list"
   ]
  },
  {
   "cell_type": "code",
   "execution_count": null,
   "id": "9adfa1f3-d4a8-46b3-bf53-acc3fccc8c62",
   "metadata": {},
   "outputs": [],
   "source": [
    "recursive_list[-1]"
   ]
  },
  {
   "cell_type": "code",
   "execution_count": null,
   "id": "fdaa7672-8382-4127-ba94-d59f25363540",
   "metadata": {},
   "outputs": [],
   "source": [
    "json.dumps(recursive_list)"
   ]
  },
  {
   "cell_type": "markdown",
   "id": "7c8c9be0-4301-4314-8b75-c7fd5a6c4488",
   "metadata": {},
   "source": [
    "### pickle\n",
    "- serialize and deserialize arbitrary python objects\n",
    "- serialization: converting Python objects into a byte stream that can be easily stored, transmitted, or shared\n",
    "- `pickle.dump` -- serialize a python object and write it to a file object\n",
    "- `pickle.load` -- the reverse, load bytes from file and restore python object\n",
    "- `pickle.dumps` / `pickle.loads` -- the same but to/from just bytes\n",
    "- look at `dill` for a third-party extension allowing to serialize more types of objects"
   ]
  },
  {
   "cell_type": "markdown",
   "id": "c8f93d4f-3cfc-4db8-866c-0d965de3eaa9",
   "metadata": {},
   "source": [
    "#### important considerations"
   ]
  },
  {
   "cell_type": "markdown",
   "id": "f8787bf6-3f45-41bd-88d8-ee3a4415f435",
   "metadata": {},
   "source": [
    "<div class=\"alert alert-block alert-warning\">\n",
    "<b>Untrusted data:</b> <br>\n",
    "<a>\n",
    "    don't every unpickle data from untrusted sources, as unpickling can lead to code execution\n",
    "</a>\n",
    "</div>\n",
    "\n",
    "- not all objects can be pickled (file handles, database connections, ...) and attempting to do so will result in errors\n",
    "- restoring old pickles into updated versions of your code can lead to incompatibilities"
   ]
  },
  {
   "cell_type": "markdown",
   "id": "23c53441-b0a3-4ef9-8009-cb7e3cce183b",
   "metadata": {},
   "source": [
    "#### basic pickling/unpickling"
   ]
  },
  {
   "cell_type": "code",
   "execution_count": null,
   "id": "c1edbc8b-03ce-493a-9295-f619ba60ae47",
   "metadata": {},
   "outputs": [],
   "source": [
    "import pickle"
   ]
  },
  {
   "cell_type": "code",
   "execution_count": null,
   "id": "c062f21c-25fa-4ab7-a02d-8d28bb1b7ed1",
   "metadata": {},
   "outputs": [],
   "source": [
    "list_bytes = bytes([1, 2, 3])\n",
    "list_bytes"
   ]
  },
  {
   "cell_type": "code",
   "execution_count": null,
   "id": "48d3ee39-f81d-40bf-8c30-cf1941a696b7",
   "metadata": {},
   "outputs": [],
   "source": [
    "list(list_bytes)"
   ]
  },
  {
   "cell_type": "code",
   "execution_count": null,
   "id": "5f8dd971-83b6-4e24-8e4a-985621734bf3",
   "metadata": {},
   "outputs": [],
   "source": [
    "tuple(list_bytes)"
   ]
  },
  {
   "cell_type": "code",
   "execution_count": null,
   "id": "a758f02d-69ce-40d1-97db-9e3937485618",
   "metadata": {},
   "outputs": [],
   "source": [
    "pickled_list = pickle.dumps([1, 2, 3])\n",
    "pickled_list"
   ]
  },
  {
   "cell_type": "code",
   "execution_count": null,
   "id": "28f5de9b-c384-43df-8e92-f28e1da2d09f",
   "metadata": {},
   "outputs": [],
   "source": [
    "pickle.loads(pickled_list)"
   ]
  },
  {
   "cell_type": "code",
   "execution_count": null,
   "id": "d2b245d6-bc7d-40d8-bb05-a8ee9f899145",
   "metadata": {},
   "outputs": [],
   "source": [
    "pickle.loads(list_bytes)"
   ]
  },
  {
   "cell_type": "code",
   "execution_count": null,
   "id": "040d79ea-963c-4034-97a0-e9596a17f852",
   "metadata": {},
   "outputs": [],
   "source": [
    "print(list(pickled_list))"
   ]
  },
  {
   "cell_type": "code",
   "execution_count": null,
   "id": "519a7bc7-5b34-49de-914c-207545dbb32b",
   "metadata": {},
   "outputs": [],
   "source": [
    "with open('stored_list.pickle', 'wb') as ifile:\n",
    "    pickle.dump([1, 2, 3], ifile)"
   ]
  },
  {
   "cell_type": "code",
   "execution_count": null,
   "id": "6f5b199c-bfc3-4453-9b45-ccca97d5f356",
   "metadata": {},
   "outputs": [],
   "source": [
    "with open('stored_list.pickle', 'rb') as ifile:\n",
    "    print(ifile.read())"
   ]
  },
  {
   "cell_type": "code",
   "execution_count": null,
   "id": "5eacb6af-a90a-47ff-bc70-d569ee70a8b5",
   "metadata": {},
   "outputs": [],
   "source": [
    "with open('stored_list.pickle', 'rb') as ifile:\n",
    "    print(pickle.load(ifile))"
   ]
  },
  {
   "cell_type": "markdown",
   "id": "2e2a4f73-fe71-4296-9c45-28b143b9a775",
   "metadata": {},
   "source": [
    "#### pickling custom objects/classes"
   ]
  },
  {
   "cell_type": "code",
   "execution_count": null,
   "id": "3e780db0-24af-4959-88c8-d4c3f1e8501b",
   "metadata": {},
   "outputs": [],
   "source": [
    "class PickleDemo:\n",
    "    def say(self):\n",
    "        print(f\"Hey, I'm a pickle demo\")"
   ]
  },
  {
   "cell_type": "code",
   "execution_count": null,
   "id": "06dac140-36f7-436c-8b95-4bee72509423",
   "metadata": {},
   "outputs": [],
   "source": [
    "pd = PickleDemo()\n",
    "pd.say()"
   ]
  },
  {
   "cell_type": "code",
   "execution_count": null,
   "id": "45b9d3b4-81ed-4ea2-bef8-521f6abad2db",
   "metadata": {},
   "outputs": [],
   "source": [
    "pickled_pd = pickle.dumps(pd)\n",
    "pickled_pd"
   ]
  },
  {
   "cell_type": "code",
   "execution_count": null,
   "id": "9d78f4ec-2636-4911-aaae-2b51a7d29c24",
   "metadata": {},
   "outputs": [],
   "source": [
    "restored_pd = pickle.loads(pickled_pd)\n",
    "restored_pd.say()"
   ]
  },
  {
   "cell_type": "code",
   "execution_count": null,
   "id": "38760310-e04d-4d45-98ea-a99084bf709a",
   "metadata": {},
   "outputs": [],
   "source": [
    "# the class still needs to be defined!\n",
    "del PickleDemo"
   ]
  },
  {
   "cell_type": "code",
   "execution_count": null,
   "id": "be02e8b4-66b8-4a30-8e9e-d6c43a7442df",
   "metadata": {},
   "outputs": [],
   "source": [
    "pickle.loads(pickled_pd)"
   ]
  },
  {
   "cell_type": "code",
   "execution_count": null,
   "id": "ef16faf5-04ea-46c4-9fe4-1d1d70794c44",
   "metadata": {},
   "outputs": [],
   "source": [
    "class PickleDemo:\n",
    "    def say(self):\n",
    "        print(f\"hello, I'm new\")"
   ]
  },
  {
   "cell_type": "code",
   "execution_count": null,
   "id": "aa555f55-6b4e-4926-89fa-ed003ed77bef",
   "metadata": {},
   "outputs": [],
   "source": [
    "# the method code is actually taken from the new class, the pickle just tells you to create an instance\n",
    "new_pd = pickle.loads(pickled_pd)"
   ]
  },
  {
   "cell_type": "code",
   "execution_count": null,
   "id": "03e57918-df29-43f8-80e9-410d5ca47a98",
   "metadata": {},
   "outputs": [],
   "source": [
    "new_pd.say()"
   ]
  },
  {
   "cell_type": "code",
   "execution_count": null,
   "id": "5ddcea7a-2482-44c9-b3e4-4c2d95cbc661",
   "metadata": {},
   "outputs": [],
   "source": [
    "# you made some changes to your code and updates your pickle class to have an attribute"
   ]
  },
  {
   "cell_type": "code",
   "execution_count": null,
   "id": "7e35875d-5fd3-471c-a7a7-74254a444dab",
   "metadata": {},
   "outputs": [],
   "source": [
    "class PickleDemo:\n",
    "    def __init__(self, attribute):\n",
    "        self.some_attribute = attribute\n",
    "\n",
    "    def say(self):\n",
    "        print(f\"Hey, I'm a pickle demo, and my attribute is \\\"{self.some_attribute}\\\"\")"
   ]
  },
  {
   "cell_type": "code",
   "execution_count": null,
   "id": "5f380079-f09a-4c75-89df-b4d8be42c0b1",
   "metadata": {},
   "outputs": [],
   "source": [
    "restored_pd = pickle.loads(pickled_pd)\n",
    "restored_pd.say()"
   ]
  },
  {
   "cell_type": "code",
   "execution_count": null,
   "id": "77aa08bc-b674-41a3-ace7-e9fa10071db7",
   "metadata": {},
   "outputs": [],
   "source": [
    "# but the value of the attribute is stored in the pickle\n",
    "pd_with_attribute = PickleDemo(\"attribute_value\")\n",
    "pd_with_attribute.say()"
   ]
  },
  {
   "cell_type": "code",
   "execution_count": null,
   "id": "47ea43f6-9b19-4a23-a747-606fba18e9c6",
   "metadata": {},
   "outputs": [],
   "source": [
    "pickled_pd_with_attribute = pickle.dumps(pd_with_attribute)\n",
    "restored_with_attribute = pickle.loads(pickled_pd_with_attribute)\n",
    "restored_with_attribute.say()"
   ]
  },
  {
   "cell_type": "markdown",
   "id": "b4c722f4-7a17-41a3-8585-da94a7e36e48",
   "metadata": {},
   "source": [
    "#### some un-pickle-able objects"
   ]
  },
  {
   "cell_type": "code",
   "execution_count": null,
   "id": "68290802-913c-4f14-b0c9-29f75dd678cd",
   "metadata": {},
   "outputs": [],
   "source": [
    "# closures\n",
    "def my_function(a, b):\n",
    "    def inner_function():\n",
    "        print(f\"hey there, from function f with arguments {a} and {b}\")\n",
    "    return inner_function"
   ]
  },
  {
   "cell_type": "code",
   "execution_count": null,
   "id": "b9171f8f-5e1b-4457-8ad1-be2ae2f0c5c9",
   "metadata": {},
   "outputs": [],
   "source": [
    "pickled_f = pickle.dumps(my_function(3, 5))\n",
    "pickled_f"
   ]
  },
  {
   "cell_type": "code",
   "execution_count": null,
   "id": "11ca91d9-3f39-4116-adbd-a34a31e5a6d0",
   "metadata": {},
   "outputs": [],
   "source": [
    "try:\n",
    "    fp = open('demo_file.txt', 'rb')\n",
    "    pickle.dumps(fp)\n",
    "finally:\n",
    "    fp.close()"
   ]
  },
  {
   "cell_type": "code",
   "execution_count": null,
   "id": "51b88b2f-1d60-4c24-9eb9-a93344b8b6e8",
   "metadata": {},
   "outputs": [],
   "source": [
    "# unlike json, recursion works just fine though\n",
    "recursive_list = [1, 2, 3]\n",
    "recursive_list.append(recursive_list)\n",
    "recursive_list"
   ]
  },
  {
   "cell_type": "code",
   "execution_count": null,
   "id": "2b68d3e9-3b84-4e6a-8285-c0e052bbd439",
   "metadata": {},
   "outputs": [],
   "source": [
    "encoded_recursive_list = pickle.dumps(recursive_list)\n",
    "encoded_recursive_list"
   ]
  },
  {
   "cell_type": "code",
   "execution_count": null,
   "id": "e57b37b6-88e7-4f6a-9c96-f849d9a422ae",
   "metadata": {},
   "outputs": [],
   "source": [
    "restored_recursive_list = pickle.loads(encoded_recursive_list)\n",
    "restored_recursive_list"
   ]
  },
  {
   "cell_type": "code",
   "execution_count": null,
   "id": "1ab7b1c3-ca8a-4fa1-9504-7d30ca29e4c2",
   "metadata": {},
   "outputs": [],
   "source": [
    "restored_recursive_list[-1]"
   ]
  },
  {
   "cell_type": "markdown",
   "id": "52dca762-bb3e-442a-a786-f10b2d51d857",
   "metadata": {},
   "source": [
    "#### customizing pickling behaviour"
   ]
  },
  {
   "cell_type": "code",
   "execution_count": null,
   "id": "b6d4369c-c833-4af2-af92-9347c3c4f2ea",
   "metadata": {},
   "outputs": [],
   "source": [
    "class MyFileReader:\n",
    "    def __init__(self, filename):\n",
    "        self.fp = open(filename)\n",
    "\n",
    "    def read(self):\n",
    "        return self.fp.read()\n",
    "\n",
    "    def close(self):\n",
    "        self.fp.close()"
   ]
  },
  {
   "cell_type": "code",
   "execution_count": null,
   "id": "66879303-b9f7-4175-ab96-9fac3a744d36",
   "metadata": {},
   "outputs": [],
   "source": [
    "my_reader = MyFileReader('demo_file.txt')\n",
    "my_reader.read()"
   ]
  },
  {
   "cell_type": "code",
   "execution_count": null,
   "id": "2416cbe8-aaa9-4aca-803c-1d4ad4ad2dfc",
   "metadata": {},
   "outputs": [],
   "source": [
    "try:\n",
    "    pickle.dumps(my_reader)\n",
    "finally:\n",
    "    my_reader.close()"
   ]
  },
  {
   "cell_type": "code",
   "execution_count": null,
   "id": "a9eb99ef-6319-45bb-b0bb-2b63c2c724d6",
   "metadata": {},
   "outputs": [],
   "source": [
    "class MyPickleFileReader:\n",
    "    def __init__(self, filename):\n",
    "        self.fp = open(filename)\n",
    "        self.filename = filename\n",
    "\n",
    "    # def open(self):\n",
    "    #     self.fp = open(self.filename)\n",
    "\n",
    "    def __reduce__(self):\n",
    "        return (self.__class__, (self.filename, ))\n",
    "\n",
    "    def read(self):\n",
    "        return self.fp.read()\n",
    "\n",
    "    def close(self):\n",
    "        self.fp.close()"
   ]
  },
  {
   "cell_type": "code",
   "execution_count": null,
   "id": "e1475d37-452c-43d1-9476-b86f42400b3d",
   "metadata": {},
   "outputs": [],
   "source": [
    "my_pickle_reader = MyPickleFileReader('demo_file.txt')\n",
    "# my_pickle_reader.open()\n",
    "my_pickle_reader.read()"
   ]
  },
  {
   "cell_type": "code",
   "execution_count": null,
   "id": "16098222-bb7e-41c5-b29d-75362e27d575",
   "metadata": {},
   "outputs": [],
   "source": [
    "try:\n",
    "    pickled_reader = pickle.dumps(my_pickle_reader)\n",
    "finally:\n",
    "    my_pickle_reader.close()"
   ]
  },
  {
   "cell_type": "code",
   "execution_count": null,
   "id": "6f26f8e6-f22a-4f82-8c86-4ee577401092",
   "metadata": {},
   "outputs": [],
   "source": [
    "pickled_reader"
   ]
  },
  {
   "cell_type": "code",
   "execution_count": null,
   "id": "c30cd6b2-18ac-4209-a256-307c10b38904",
   "metadata": {},
   "outputs": [],
   "source": [
    "restored_reader = pickle.loads(pickled_reader)\n",
    "restored_reader.read()"
   ]
  },
  {
   "cell_type": "code",
   "execution_count": null,
   "id": "63311408-be44-4a3a-ad19-507a2a2e5f72",
   "metadata": {},
   "outputs": [],
   "source": [
    "restored_reader.close()"
   ]
  },
  {
   "cell_type": "markdown",
   "id": "7deaecef-06f0-44d7-af19-80a782c3a9e8",
   "metadata": {},
   "source": [
    "#### BUT: this is dangerous if you get pickles from untrusted sources!"
   ]
  },
  {
   "cell_type": "code",
   "execution_count": null,
   "id": "d8535264-aa6f-4815-bfb5-4d2b09109ae6",
   "metadata": {},
   "outputs": [],
   "source": [
    "class Exploit:\n",
    "    def __reduce__(self):\n",
    "        return (print, (\"You've been pwned!\", ))\n",
    "\n",
    "exploit = Exploit()\n",
    "pickled_exploit = pickle.dumps(exploit)\n",
    "pickled_exploit"
   ]
  },
  {
   "cell_type": "code",
   "execution_count": null,
   "id": "702d77ed-7987-422b-ba88-403a5fa8f269",
   "metadata": {},
   "outputs": [],
   "source": [
    "# sending this pickle to your system, which doesn't know about the `Exploit` class\n",
    "del Exploit"
   ]
  },
  {
   "cell_type": "code",
   "execution_count": null,
   "id": "112f1acf-6156-46d9-99f5-909caea6fd4e",
   "metadata": {},
   "outputs": [],
   "source": [
    "# but still...\n",
    "pickle.loads(pickled_exploit)"
   ]
  },
  {
   "cell_type": "markdown",
   "id": "b29a045a-ce49-4203-b590-6d6ab8c0b3f5",
   "metadata": {},
   "source": [
    "## generic operating system and runtime services"
   ]
  },
  {
   "cell_type": "markdown",
   "id": "eee073f1-1866-40c8-bdcf-1de786765a91",
   "metadata": {
    "jp-MarkdownHeadingCollapsed": true
   },
   "source": [
    "### os [skip]\n",
    "- platform-independent way of interacting with the operating system\n",
    "  - read environment variables\n",
    "  - low-level file access: prefer builtins (`open`) as well as `pathlib` and `shutil`\n",
    "  - process management (running external commands): prefer e.g. `subprocess`\n",
    "  - reading and changing user-ids/groups/..."
   ]
  },
  {
   "cell_type": "code",
   "execution_count": null,
   "id": "2a41d80e-b2ed-4db8-a54d-f01442e5dfd4",
   "metadata": {},
   "outputs": [],
   "source": [
    "os.name"
   ]
  },
  {
   "cell_type": "code",
   "execution_count": null,
   "id": "3acf2f11-89bc-4ae1-8452-296b256fa4ba",
   "metadata": {},
   "outputs": [],
   "source": [
    "os.uname()"
   ]
  },
  {
   "cell_type": "code",
   "execution_count": null,
   "id": "b0c0ba98-2884-4850-92a0-6aca56572df0",
   "metadata": {
    "scrolled": true
   },
   "outputs": [],
   "source": [
    "os.environ"
   ]
  },
  {
   "cell_type": "code",
   "execution_count": null,
   "id": "ef14bf3c-49fe-479f-8f83-c3102bbce465",
   "metadata": {},
   "outputs": [],
   "source": [
    "os.sep  # path separator"
   ]
  },
  {
   "cell_type": "code",
   "execution_count": null,
   "id": "e520787c-16a8-4c9a-8ce0-c7342b904156",
   "metadata": {},
   "outputs": [],
   "source": [
    "os.linesep"
   ]
  },
  {
   "cell_type": "code",
   "execution_count": null,
   "id": "bc6b94c5-c923-4ef2-919c-1213ccdec22f",
   "metadata": {},
   "outputs": [],
   "source": [
    "os.getcwd()"
   ]
  },
  {
   "cell_type": "code",
   "execution_count": null,
   "id": "7af3c976-31f7-4e2a-bdf1-e149c94dc7a7",
   "metadata": {},
   "outputs": [],
   "source": [
    "os.chdir()  # change working directory"
   ]
  },
  {
   "cell_type": "code",
   "execution_count": null,
   "id": "00748c5f-725a-40f0-b073-574c08a6c26b",
   "metadata": {},
   "outputs": [],
   "source": [
    "os.system('ls')"
   ]
  },
  {
   "cell_type": "code",
   "execution_count": null,
   "id": "6d3115d2-5b62-4258-813e-b03264113be4",
   "metadata": {},
   "outputs": [],
   "source": [
    "# loads and loads of stuff for directory/file manipulation\n",
    "# CPU time scheduler, starting/stopping/killing other processes\n",
    "# special devices/mounts/..."
   ]
  },
  {
   "cell_type": "markdown",
   "id": "e5a7ec1d-a5b1-4a53-95b3-49a1f8b2f974",
   "metadata": {
    "jp-MarkdownHeadingCollapsed": true
   },
   "source": [
    "### sys [skip]\n",
    "- provides access to the Python interpreter's variables and functions, allowing us to interact with and control various aspects of the Python runtime.\n",
    "  - search path\n",
    "  - command line arguments\n",
    "  - python version and platform information\n",
    "  - I/O redirection\n",
    "  - recursion limits and other interpreter-specific settings"
   ]
  },
  {
   "cell_type": "code",
   "execution_count": null,
   "id": "bce64d23-cc78-485c-9946-2bd54ebdf754",
   "metadata": {},
   "outputs": [],
   "source": [
    "import sys"
   ]
  },
  {
   "cell_type": "markdown",
   "id": "79e9d3a0-d1e7-41f6-8fe7-0d1d80e4bdf7",
   "metadata": {},
   "source": [
    "#### Interpreter Info"
   ]
  },
  {
   "cell_type": "code",
   "execution_count": null,
   "id": "208da0e8-ccd5-4fcb-93a5-fb2bb4799da5",
   "metadata": {},
   "outputs": [],
   "source": [
    "sys.version"
   ]
  },
  {
   "cell_type": "code",
   "execution_count": null,
   "id": "73150cd9-fb8d-42e2-a2de-51a5fee56983",
   "metadata": {},
   "outputs": [],
   "source": [
    "sys.implementation"
   ]
  },
  {
   "cell_type": "code",
   "execution_count": null,
   "id": "0ba4d23c-3d91-4d0d-bf6f-289e6bd09673",
   "metadata": {},
   "outputs": [],
   "source": [
    "sys.platform"
   ]
  },
  {
   "cell_type": "code",
   "execution_count": null,
   "id": "200b4106-4081-4625-a2cd-873672f7881a",
   "metadata": {},
   "outputs": [],
   "source": [
    "sys.byteorder"
   ]
  },
  {
   "cell_type": "code",
   "execution_count": null,
   "id": "0cfc26b4-55a7-4050-a80b-a2c6047240fe",
   "metadata": {},
   "outputs": [],
   "source": [
    "sys.float_info"
   ]
  },
  {
   "cell_type": "code",
   "execution_count": null,
   "id": "885d6899-821f-4c82-9107-7993509645a9",
   "metadata": {},
   "outputs": [],
   "source": [
    "sys.flags"
   ]
  },
  {
   "cell_type": "code",
   "execution_count": null,
   "id": "420b5411-9754-43fb-ad96-f33613e494b7",
   "metadata": {},
   "outputs": [],
   "source": [
    "print(sys.copyright)"
   ]
  },
  {
   "cell_type": "code",
   "execution_count": null,
   "id": "f2264b41-0a72-41d4-971e-9e1c87b05922",
   "metadata": {},
   "outputs": [],
   "source": [
    "# and many many more..."
   ]
  },
  {
   "cell_type": "markdown",
   "id": "19c5142b-fe91-40be-8127-1e315fd38a87",
   "metadata": {
    "jp-MarkdownHeadingCollapsed": true
   },
   "source": [
    "#### controlling interpreter behaviour"
   ]
  },
  {
   "cell_type": "code",
   "execution_count": null,
   "id": "8e7344b9-ba0c-4882-888c-9b0499eeaf22",
   "metadata": {},
   "outputs": [],
   "source": [
    "sys.getrecursionlimit()\n",
    "sys.setrecursionlimit(200)"
   ]
  },
  {
   "cell_type": "code",
   "execution_count": null,
   "id": "ab9891ea-bde7-4223-96e2-16e867f9517e",
   "metadata": {},
   "outputs": [],
   "source": [
    "i = 0\n",
    "def infitite_recursion():\n",
    "    global i\n",
    "    i += 1\n",
    "    infitite_recursion()\n",
    "infitite_recursion()"
   ]
  },
  {
   "cell_type": "code",
   "execution_count": null,
   "id": "716a75a6-969f-44ad-88b4-75f902a44ab5",
   "metadata": {},
   "outputs": [],
   "source": [
    "print(i)"
   ]
  },
  {
   "cell_type": "code",
   "execution_count": null,
   "id": "e979907e-3611-4d29-98f0-961a8a8a11d1",
   "metadata": {},
   "outputs": [],
   "source": [
    "sys.setrecursionlimit(3000)"
   ]
  },
  {
   "cell_type": "code",
   "execution_count": null,
   "id": "1801312b-5d7b-419a-9424-bbf17e1489cf",
   "metadata": {},
   "outputs": [],
   "source": [
    "sys.get_int_max_str_digits()"
   ]
  },
  {
   "cell_type": "code",
   "execution_count": null,
   "id": "254a29ef-5555-4773-93c0-bd64d1a832e9",
   "metadata": {},
   "outputs": [],
   "source": [
    "sys.set_int_max_str_digits(640)"
   ]
  },
  {
   "cell_type": "code",
   "execution_count": null,
   "id": "e5bcdf43-fafa-4f0c-99b0-e4b446facfe3",
   "metadata": {},
   "outputs": [],
   "source": [
    "value = 2**10000"
   ]
  },
  {
   "cell_type": "code",
   "execution_count": null,
   "id": "ce9e0ca4-7725-4961-92d9-186867022db1",
   "metadata": {},
   "outputs": [],
   "source": [
    "value"
   ]
  },
  {
   "cell_type": "code",
   "execution_count": null,
   "id": "72abf649-045a-4485-9b60-036665bca70d",
   "metadata": {},
   "outputs": [],
   "source": [
    "sys.set_int_max_str_digits(4300)"
   ]
  },
  {
   "cell_type": "markdown",
   "id": "e55390ee-e304-4be3-89b2-503836d07af3",
   "metadata": {},
   "source": [
    "#### command line arguments\n",
    "- `sys.argv` contains command line arguments passed to the interpreter"
   ]
  },
  {
   "cell_type": "code",
   "execution_count": null,
   "id": "27e4fc4c-6f8b-44f7-ac2a-444e1c2fddba",
   "metadata": {},
   "outputs": [],
   "source": [
    "# first element: script name\n",
    "# any other elements: arguments\n",
    "sys.argv"
   ]
  },
  {
   "cell_type": "code",
   "execution_count": null,
   "id": "f0b60a7f-bc35-43d6-804e-be69cb2c1d42",
   "metadata": {},
   "outputs": [],
   "source": [
    "# demo: utils.py\n",
    "# also see package `argparse`"
   ]
  },
  {
   "cell_type": "markdown",
   "id": "87f27f76-3404-42f8-8787-5caaed798740",
   "metadata": {},
   "source": [
    "#### search path\n",
    "- `sys.path` is a list of directories that Python searches for modules when you use the import statement.\n",
    "- this allows you to `import` (e.g. your own) packages/modules from non-standard locations\n",
    "- look into building real packages and installing those (in development mode) for a better alternative"
   ]
  },
  {
   "cell_type": "code",
   "execution_count": null,
   "id": "72b25f94-03c0-4699-b5dd-a4f79450d924",
   "metadata": {},
   "outputs": [],
   "source": [
    "sys.path"
   ]
  },
  {
   "cell_type": "markdown",
   "id": "9faad192-5cc1-482a-8f72-35bf698b3396",
   "metadata": {},
   "source": [
    "#### in/output stream redirection"
   ]
  },
  {
   "cell_type": "code",
   "execution_count": null,
   "id": "43c5395d-8dab-432b-a51b-5bf475cbbadc",
   "metadata": {},
   "outputs": [],
   "source": [
    "with open('stdout.txt', 'w') as ifile:\n",
    "    original_stdout = sys.stdout\n",
    "    sys.stdout = ifile\n",
    "    print('hello')\n",
    "    sys.stdout = original_stdout"
   ]
  },
  {
   "cell_type": "markdown",
   "id": "f0d11edb-5bd9-4ca0-90f0-9bd8fecf5965",
   "metadata": {},
   "source": [
    "### time\n",
    "- provides various time-related functions. see also `datetime`\n",
    "- not all functions are available on all platforms. See [documentation](https://docs.python.org/3/library/time.html) for details.\n",
    "- use `datetime` for conversion from/to strings, timestamps and timestamp differences\n",
    "- use `time` or the `timeit` module for (simple) measuring of the execution time of your code\n",
    "- use `time.sleep` for (blocking) waits for a specified amount of time"
   ]
  },
  {
   "cell_type": "markdown",
   "id": "0febe9df-4e84-4455-b287-b552b29ad157",
   "metadata": {},
   "source": [
    "- `time.sleep`: wait for the specified number of seconds\n",
    "- `time.time` / `time.time_ns`: current time in (fractional) seconds since the epoch (1970-01-01 00:00+00:00)\n",
    "- `time.monotonic` / `time.monotonic_ns`: always increasing time counter with unspecified offset\n",
    "- `time.perf_counter` / `time.perf_counter_ns`: as `time.monotonic` but using the highes possible resolution clock source\n",
    "- `time.process_time` / `time.process_time_ns`: sum of user and system time, unspecified offset, excludes idle time\n",
    "- `time.get_clock_info`: return detailed information on the different time sources above"
   ]
  },
  {
   "cell_type": "code",
   "execution_count": null,
   "id": "c271cdfa-cb54-4fba-80ee-bedf81113565",
   "metadata": {},
   "outputs": [],
   "source": [
    "import time"
   ]
  },
  {
   "cell_type": "code",
   "execution_count": null,
   "id": "d9fba661-0472-4d0c-862b-2a3322368abf",
   "metadata": {},
   "outputs": [],
   "source": [
    "time.time()"
   ]
  },
  {
   "cell_type": "code",
   "execution_count": null,
   "id": "f72692ed-b663-40e1-9e4a-49c9d6bd4516",
   "metadata": {},
   "outputs": [],
   "source": [
    "time.time_ns()"
   ]
  },
  {
   "cell_type": "code",
   "execution_count": null,
   "id": "1d0dc6d8-754c-4f0b-9a7a-cc3918e771f8",
   "metadata": {},
   "outputs": [],
   "source": [
    "for clock in ['time', 'monotonic', 'perf_counter', 'process_time']:\n",
    "    print(time.get_clock_info(clock))"
   ]
  },
  {
   "cell_type": "code",
   "execution_count": null,
   "id": "a1231773-330e-4b08-b206-7c1ca00e8d20",
   "metadata": {},
   "outputs": [],
   "source": [
    "t0 = time.time()\n",
    "time.sleep(1)\n",
    "t1 = time.time()\n",
    "print(f'Elapsed time: {t1 - t0}')"
   ]
  },
  {
   "cell_type": "code",
   "execution_count": null,
   "id": "ef8600d4-8866-4e56-95cf-8c229afb8d25",
   "metadata": {},
   "outputs": [],
   "source": [
    "t0 = time.monotonic()\n",
    "time.sleep(1)\n",
    "t1 = time.monotonic()\n",
    "print(f'Elapsed monotonic time: {t1 - t0}')"
   ]
  },
  {
   "cell_type": "code",
   "execution_count": null,
   "id": "275ccc92-dcd0-4d46-9b2b-d90d54b4c39b",
   "metadata": {},
   "outputs": [],
   "source": [
    "t0 = time.process_time()\n",
    "time.sleep(1)\n",
    "t1 = time.process_time()\n",
    "print(f'Elapsed process time: {t1 - t0}')"
   ]
  },
  {
   "cell_type": "code",
   "execution_count": null,
   "id": "3204d5be-dba9-4267-a275-18bd97fd774a",
   "metadata": {},
   "outputs": [],
   "source": [
    "t0 = time.perf_counter_ns()\n",
    "t1 = time.perf_counter_ns()\n",
    "print(f'Elapsed time (ns): {t1 - t0}')"
   ]
  },
  {
   "cell_type": "markdown",
   "id": "0256dcfc-7c00-43e0-8302-dc501a1f1a9e",
   "metadata": {},
   "source": [
    "### logging\n",
    "- means of tracking events that happen when some software runs.\n",
    "- Add logging calls to your code to indicate that certain events have occurred. An event is described by a descriptive message which can optionally contain variable data (i.e. data that is potentially different for each occurrence of the event).\n",
    "- Events also have an importance which you ascribe to the event; the importance can also be called the level or severity.\n",
    "  - `debug`: very detailed logging of normal events\n",
    "  - `info`: logging of normal events, less verbose than `debug`\n",
    "  - `warning`: abnormal, but does not stop execution\n",
    "  - `error`: replaces an `Exception` in code that should not stop (e.g. long-running server processes)\n",
    "  - `critical`: like `error`, but you want to make everyone even more worried...\n",
    "- users of your code can potentially specify the minimum level of severity they are interested in\n",
    "- log output destination should be configurable"
   ]
  },
  {
   "cell_type": "code",
   "execution_count": null,
   "id": "3afd6194-d1b0-4cb3-a166-fdbb28dd5cc1",
   "metadata": {},
   "outputs": [],
   "source": [
    "import logging"
   ]
  },
  {
   "cell_type": "code",
   "execution_count": null,
   "id": "0367f503-2fd6-4083-9b19-d56677b6d3fc",
   "metadata": {},
   "outputs": [],
   "source": [
    "logging.debug(\"This is fine...\")"
   ]
  },
  {
   "cell_type": "code",
   "execution_count": null,
   "id": "049ccc99-4640-439c-bae6-fd5580cacd2b",
   "metadata": {},
   "outputs": [],
   "source": [
    "logging.info(\"All normal...\")"
   ]
  },
  {
   "cell_type": "code",
   "execution_count": null,
   "id": "d8f30e44-947d-415a-a70d-f7376050a928",
   "metadata": {},
   "outputs": [],
   "source": [
    "logging.warning(\"Hey, watch out!\")"
   ]
  },
  {
   "cell_type": "code",
   "execution_count": null,
   "id": "041f06e3-1adb-4536-b567-846713e464ce",
   "metadata": {},
   "outputs": [],
   "source": [
    "logging.error(\"It's all gone wrong :(\")"
   ]
  },
  {
   "cell_type": "code",
   "execution_count": null,
   "id": "8d80e606-f180-477a-8efc-d390e37fe024",
   "metadata": {},
   "outputs": [],
   "source": [
    "logging.critical(\"Really, really terribly wrong!\")"
   ]
  },
  {
   "cell_type": "code",
   "execution_count": null,
   "id": "680902c1-7801-4fb3-8c7e-4bfe8f399697",
   "metadata": {},
   "outputs": [],
   "source": [
    "logging.basicConfig(filename='demo.log', level=logging.DEBUG, force=True)"
   ]
  },
  {
   "cell_type": "code",
   "execution_count": null,
   "id": "f4b877ae-2575-46ad-87a6-6579c610e3af",
   "metadata": {},
   "outputs": [],
   "source": [
    "logging.warning(\"Hey, watch out!\")\n",
    "logging.error(\"It's all gone wrong :(\")\n",
    "logging.critical(\"Really, really terribly wrong!\")"
   ]
  },
  {
   "cell_type": "code",
   "execution_count": null,
   "id": "d1501dde-86d6-4e0f-b6d6-c17c1eabe8eb",
   "metadata": {},
   "outputs": [],
   "source": [
    "logging.basicConfig(format='%(levelname)s:%(message)s', level=logging.DEBUG, force=True)\n",
    "logging.debug('This message should appear on the console')\n",
    "logging.info('So should this')\n",
    "logging.warning('And this, too')"
   ]
  },
  {
   "cell_type": "code",
   "execution_count": null,
   "id": "80594ff5-5330-446b-bc3a-871ee3c6c1a3",
   "metadata": {},
   "outputs": [],
   "source": [
    "logging.basicConfig(format='%(asctime)s - %(name)s - %(levelname)s - %(message)s', force=True)\n",
    "logging.warning('You still need to watch out!')"
   ]
  },
  {
   "cell_type": "code",
   "execution_count": null,
   "id": "8e067cd2-70a9-482c-b1e2-ada6991404b5",
   "metadata": {},
   "outputs": [],
   "source": [
    "logger = logging.getLogger('my_module_logger')\n",
    "logger.warning('This is a warning from my module')"
   ]
  },
  {
   "cell_type": "markdown",
   "id": "ef8209f7-8102-4628-bc8b-7c79874f0018",
   "metadata": {},
   "source": [
    "## selected other interesting packages:"
   ]
  },
  {
   "cell_type": "markdown",
   "id": "a4b9e08a-9698-4412-b1d9-9455599a0002",
   "metadata": {},
   "source": [
    "- `struct`: Interpret bytes as packed binary data"
   ]
  },
  {
   "cell_type": "markdown",
   "id": "04eaca36-265e-4c09-90bb-29235acadbe0",
   "metadata": {},
   "source": [
    "- `calendar`: Calendar-related functions\n",
    "- `heapq`: Heap queue algorithm (ordered binary tree, each node smaller than any children)\n",
    "- `bisect`: bisection -- manipulating sorted lists\n",
    "- `weakref`: create weak references to objects (primarily for caching)\n",
    "- `types`: dynamic creation of new types / classes\n",
    "- `enum`: support enumerations\n",
    "- `graphlib`: support for graph-like structures"
   ]
  },
  {
   "cell_type": "markdown",
   "id": "da324dac-3c81-468e-96a9-c498318f6382",
   "metadata": {},
   "source": [
    "- `abc`: abstract base classes (inheritance -- 'interfaces' in Python)\n",
    "  - `collections.abc`: abstract base classes for collections\n",
    "  - `numbers`: abstract base classes for numeric types"
   ]
  },
  {
   "cell_type": "markdown",
   "id": "10e9fa00-cd80-4920-9bef-7f788ad963ec",
   "metadata": {},
   "source": [
    "- `statistics`: simple statistics (mean/median/std etc). use `numpy`/`scipy` for more advanced capabilities"
   ]
  },
  {
   "cell_type": "markdown",
   "id": "785e1323-7a9c-4606-91ff-3e1c54470cc5",
   "metadata": {},
   "source": [
    "- `sqlite3`: simple file-based database interface\n",
    "- `shelve`: python object persistence on top of pickle\n",
    "- `zlib`/`gzip`/`bz2`/`lzma`/`zipfile`/`tarfile`: support for various data compression formats"
   ]
  },
  {
   "cell_type": "markdown",
   "id": "b2a73c75-64ba-419e-8bb5-3eb53fd60dbe",
   "metadata": {},
   "source": [
    "- `hashlib`: Secure hashes and message digests\n",
    "- `secrets`: Generate secure random numbers for managing secrets"
   ]
  },
  {
   "cell_type": "markdown",
   "id": "57c55fa5-bbe5-46f9-908b-1b411084588f",
   "metadata": {},
   "source": [
    "- `curses`: build terminal UIs\n",
    "- `tkinter`: built-in UI framework"
   ]
  },
  {
   "cell_type": "markdown",
   "id": "7b87c9aa-74ec-4fc8-beb7-4fc43ed4f44e",
   "metadata": {},
   "source": [
    "- `ctypes`: call C code directly from python"
   ]
  },
  {
   "cell_type": "markdown",
   "id": "8c272518-dd95-4cb6-aec2-2e7f340a5319",
   "metadata": {},
   "source": [
    "- `threading`: Thread-based parallelism\n",
    "- `multiprocessing`: Process-based parallelism\n",
    " - `multiprocessing.shared_memory`: Shared memory for direct access across processes\n",
    "- `subprocess`: Subprocess management\n",
    "- `sched`: Event scheduler\n",
    "- `queue`: A synchronized (thread-safe) queue class\n",
    "- `concurrent.futures`: Launching parallel tasks\n",
    "- `asyncio`: asynchronous i/o for concurrent execution"
   ]
  },
  {
   "cell_type": "markdown",
   "id": "adba659b-dcf7-42c8-b3d2-1190796a1a5d",
   "metadata": {},
   "source": [
    "- `typing`: support for type hints\n",
    "- `unittest`: unit testing framework (prefer third-party `pytest`)\n",
    "- `pdb`: debugger\n",
    "- `timeit`: measure code execution time\n",
    "- `trace`: trace statement execution\n",
    "- `warnings`: control user-visible warnings\n",
    "- `dataclasses`: low-overhead 'passive' classes with just attributes\n",
    "- `gc`: garbage collector interface\n",
    "- `ast`: python abstract syntax tree parsers\n",
    "- `tokenize`: tokenizer for python source code\n",
    "- `dis`: disassemble python code (to bytecode)"
   ]
  },
  {
   "cell_type": "markdown",
   "id": "7976acd7-6022-428d-8f13-c3ff924019b9",
   "metadata": {},
   "source": [
    "- `msvcrt`/`winreg`/`winsound`: windows-specific functionality\n",
    "- `pwd`/`grp`/`tty`/...: unix/linux specific functionality"
   ]
  }
 ],
 "metadata": {
  "kernelspec": {
   "display_name": "dhbw",
   "language": "python",
   "name": "dhbw"
  },
  "language_info": {
   "codemirror_mode": {
    "name": "ipython",
    "version": 3
   },
   "file_extension": ".py",
   "mimetype": "text/x-python",
   "name": "python",
   "nbconvert_exporter": "python",
   "pygments_lexer": "ipython3",
   "version": "3.11.0"
  }
 },
 "nbformat": 4,
 "nbformat_minor": 5
}
