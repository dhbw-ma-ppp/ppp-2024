{
 "cells": [
  {
   "cell_type": "markdown",
   "id": "507860ad-6a69-4f74-988d-1d0c88556d41",
   "metadata": {},
   "source": [
    "# Installing 3rd party libraries"
   ]
  },
  {
   "cell_type": "markdown",
   "id": "aaf8e30b-cef1-412f-b706-ba9d28b948d2",
   "metadata": {
    "jp-MarkdownHeadingCollapsed": true
   },
   "source": [
    "## conda/mamba vs pip\n",
    "### pip:\n",
    "- Python package installer.\n",
    "- Installs packages from the Python Package Index ([PyPI](https://pypi.org/)).\n",
    "- comes with your python installation\n",
    "- you need some other tool for managing virtual environments\n",
    "- most packages are available on PyPI\n",
    "- but sometimes they need compilation, making installation more difficult\n",
    "\n",
    "### conda/mamba:\n",
    "- Cross-language package manager (Python, R, Ruby, Lua, Scala, Java, JavaScript, C/C++, FORTRAN).\n",
    "- Installs packages from the Anaconda repository (or the community `conda-forge` [repository](https://conda-forge.org/))\n",
    "- needs to be installed separately\n",
    "- Environment management built-in\n",
    "- licensing issues using the conda repositories for commercial purposes.\n",
    "  - conda-forge (used by default in mamba) is fine though\n",
    "- some packages that need compilation are available as pre-built binaries from conda, making installation easier in some cases"
   ]
  },
  {
   "cell_type": "markdown",
   "id": "69a47f17-11d9-4817-972c-17bb14000b15",
   "metadata": {},
   "source": [
    "## So what should I do?\n",
    "- use conda/mamba for managing virtual environments\n",
    "  - `conda create -n <NAME> python=<VERSION>`\n",
    "  - `conda activate` / `conda deactivate`\n",
    "  - `conda env list`\n",
    "  - `conda env remove -n <NAME>`"
   ]
  },
  {
   "cell_type": "markdown",
   "id": "6397ab86-76d1-45cc-960f-8aa548d11756",
   "metadata": {},
   "source": [
    "- use pip for installing packages. Will always install into the currently active environment.\n",
    "  - `pip install <PACKAGE_NAME>==<VERSION>` (install into current environment, version spec is optional)\n",
    "  - `pip install --upgrade <PACKAGE_NAME>` (update package to latest available version)\n",
    "  - `pip uninstall <PACKAGE_NAME>` (remove package from current environment)\n",
    "  - `pip install -r requirements.txt` (install all packages listed in requirements file)\n",
    "  - `pip list` (display list of all installed packages)"
   ]
  },
  {
   "cell_type": "markdown",
   "id": "5be10b35-ff3a-42bf-a6b5-3e53f3f80774",
   "metadata": {},
   "source": [
    "- use conda/mamba for installing packages only if you can not install the package using pip\n",
    "- in case of problems (very rare):\n",
    "  - first create a new environment with only python\n",
    "  - then use conda/mamba to install all those packages you can not install via pip\n",
    "  - then use pip to install remaining packages"
   ]
  },
  {
   "cell_type": "markdown",
   "id": "814d06fd-1482-46ce-bfe4-bdd6e57403c5",
   "metadata": {},
   "source": [
    "# numpy"
   ]
  },
  {
   "cell_type": "markdown",
   "id": "f3b657b0-74df-4ae7-88f0-17ae2477ad6b",
   "metadata": {},
   "source": [
    "- **the** most important library for working with numerical data\n",
    "- basis for a whole host of other libraries forming a vast ecosystem around numpy\n",
    "  - **scipy**: mathematical analysis\n",
    "  - **pandas**: tabular data & statistics\n",
    "  - **matplotlib** / **plotnine**: graphic visualizations\n",
    "  - **scikit-learn**: machine learning\n",
    "  - **tensorflow** / **pytorch**: deep learning\n",
    "  - and many more, for statistics, signal processing, simulations, graphs & networks, astronomy, bioinformatics, chemistry, quantum computing, ...\n",
    "- see [the overall website](https://www.numpy.org) and [the user guide](https://numpy.org/doc/stable/user/index.html) for additional information"
   ]
  },
  {
   "cell_type": "markdown",
   "id": "188e80d0-019f-49ae-a8f6-a7b4152defb5",
   "metadata": {},
   "source": [
    "## what do you get in numpy?"
   ]
  },
  {
   "cell_type": "markdown",
   "id": "373c64b0-b826-49dd-8ba3-95730cea535a",
   "metadata": {},
   "source": [
    "> numpy provides a **multidimensional array object**, various derived objects (such as masked arrays and matrices), and an assortment of routines for fast operations on arrays, including mathematical, logical, shape manipulation, sorting, selecting, I/O, discrete Fourier transforms, basic linear algebra, basic statistical operations, random simulation and much more."
   ]
  },
  {
   "cell_type": "markdown",
   "id": "aed21445-ded6-4833-9397-371c138ce69c",
   "metadata": {},
   "source": [
    "### What’s the difference between a Python list and a NumPy array?\n",
    "\n",
    "> NumPy gives you an enormous range of fast and efficient ways of creating arrays and manipulating numerical data inside them. While a Python list can contain different data types within a single list, all of the elements in a NumPy array should be homogeneous. The mathematical operations that are meant to be performed on arrays would be extremely inefficient if the arrays weren’t homogeneous.\n",
    "\n",
    "### Why use NumPy?\n",
    "\n",
    "> NumPy arrays are faster and more compact than Python lists. An array consumes less memory and is convenient to use. NumPy uses much less memory to store data and it provides a mechanism of specifying the data types. This allows the code to be optimized even further.\n",
    "\n",
    "\n",
    "### And what are these magical arrays?\n",
    "> An array is a central data structure of the NumPy library. An array is a grid of values and it contains information about the raw data, how to locate an element, and how to interpret an element. It has a grid of elements that can be indexed in various ways. The elements are all of the same type, referred to as the array dtype.\n",
    "\n",
    "> An array can be indexed by a tuple of nonnegative integers, by booleans, by another array, or by integers. The rank of the array is the number of dimensions. The shape of the array is a tuple of integers giving the size of the array along each dimension.\n",
    "\n",
    "> One way we can initialize NumPy arrays is from Python lists, using nested lists for two- or higher-dimensional data.\n",
    "\n",
    "(everything above from the numpy documentation)"
   ]
  },
  {
   "cell_type": "markdown",
   "id": "9491de08-69a4-4eb5-b61d-a2312fd54171",
   "metadata": {},
   "source": [
    "## Installation and Import"
   ]
  },
  {
   "cell_type": "code",
   "execution_count": null,
   "id": "c08bb109-ff7d-4914-a843-d7e3fbc13085",
   "metadata": {},
   "outputs": [],
   "source": [
    "!/home/atreju/.conda/envs/dhbw/bin/pip install numpy  # the exclamation mark just passes the command to a shell"
   ]
  },
  {
   "cell_type": "code",
   "execution_count": null,
   "id": "2a355b81-55e9-4563-8245-9e826a92ee5f",
   "metadata": {},
   "outputs": [],
   "source": [
    "import numpy as np  # convention! numpy is very, very often imported as `np`"
   ]
  },
  {
   "cell_type": "markdown",
   "id": "e2df6723-c5d5-490b-9d9b-c2a00b08cd30",
   "metadata": {},
   "source": [
    "that's it. nothing more to be done"
   ]
  },
  {
   "cell_type": "markdown",
   "id": "3bcbbc57-4c2c-4e0f-b8a8-3ce74b4b923e",
   "metadata": {},
   "source": [
    "## Numpy Arrays\n",
    "- `np.array` class\n",
    "- strongly and statically typed. The type is referred to as the arrays' `dtype`\n",
    "- multidimensional. your array can have any number of dimensions\n",
    "- sized: has a fixed (pre-allocated) size along each dimension"
   ]
  },
  {
   "cell_type": "markdown",
   "id": "c8bd7f01-e584-405d-bc5d-f51c6e61d00a",
   "metadata": {},
   "source": [
    "<div class=\"alert alert-block alert-info\">\n",
    "<b>Nomenclature:</b> <br>\n",
    "<a>\n",
    "    A numpy array can have any number of dimensions. It is always an instance of `np.array`, no matter how many dimensions it has.<br>\n",
    "    People (mathematicans) sometimes talk about vectors, matrices or tensors. It don't matter to us, all of these are `np.array`s.<br>\n",
    "    People (computer scientists) sometimes talk about 1D-, 2D-, or ndarrays.  It don't matter to us, all of these are `np.array`s.\n",
    "</a>\n",
    "</div>"
   ]
  },
  {
   "cell_type": "code",
   "execution_count": null,
   "id": "ba5237f6-c178-4193-9186-cd281bfaeeaa",
   "metadata": {},
   "outputs": [],
   "source": [
    "import numpy as np  # convention! numpy is very, very often imported as `np`\n",
    "import string"
   ]
  },
  {
   "cell_type": "markdown",
   "id": "cc500a47-d5b1-4242-928e-09127560c9bf",
   "metadata": {},
   "source": [
    "### arrays and their contents"
   ]
  },
  {
   "cell_type": "code",
   "execution_count": null,
   "id": "a8f426db-4666-48f9-b33b-2b47e8c23024",
   "metadata": {},
   "outputs": [],
   "source": [
    "arr = np.array([1, 2, 3, 4, 5, 6])\n",
    "arr"
   ]
  },
  {
   "cell_type": "code",
   "execution_count": null,
   "id": "905ba389-09a6-4ccd-896b-1c4539b59dab",
   "metadata": {},
   "outputs": [],
   "source": [
    "# arrays have a type:\n",
    "arr.dtype"
   ]
  },
  {
   "cell_type": "code",
   "execution_count": null,
   "id": "c11bb814-98ca-431e-8809-e7f7324b5721",
   "metadata": {},
   "outputs": [],
   "source": [
    "# and we can convert it to an array of a different type\n",
    "float_array = arr.astype(float)\n",
    "float_array"
   ]
  },
  {
   "cell_type": "code",
   "execution_count": null,
   "id": "93f5fe35-de37-4e6d-aa31-2d8ab13bb055",
   "metadata": {},
   "outputs": [],
   "source": [
    "float_array.dtype"
   ]
  },
  {
   "cell_type": "code",
   "execution_count": null,
   "id": "8f180713-a33b-4718-9c77-3c1a75afa5b5",
   "metadata": {},
   "outputs": [],
   "source": [
    "# we can use python types in the conversion\n",
    "arr.astype(str)"
   ]
  },
  {
   "cell_type": "code",
   "execution_count": null,
   "id": "99d27343-ffff-4fc9-84c8-c02300d8d959",
   "metadata": {},
   "outputs": [],
   "source": [
    "arr.astype(bool)"
   ]
  },
  {
   "cell_type": "code",
   "execution_count": null,
   "id": "466b20ac-65fb-40aa-b054-c309e799f7ac",
   "metadata": {},
   "outputs": [],
   "source": [
    "arr.astype(complex)"
   ]
  },
  {
   "cell_type": "code",
   "execution_count": null,
   "id": "1c1ce642-a1dd-4922-aaf7-d2225127985f",
   "metadata": {},
   "outputs": [],
   "source": [
    "# but the `dtype` attribute might look not so familiar -- in particular it's not just 'int' here...\n",
    "arr.dtype"
   ]
  },
  {
   "cell_type": "code",
   "execution_count": null,
   "id": "88c9b96f-a261-40a2-9135-9c8f62e552d0",
   "metadata": {},
   "outputs": [],
   "source": [
    "# numpy dtype contains more explicit information on type of data, size of data, byte order etc.\n",
    "# but the types are really also /different/ from the python types (regardless of using the python types in 'astype')\n",
    "# for example this also means values in numpy integer arrays are **not** unlimited size (unlike regular python integers)\n",
    "print(f'{arr.dtype.itemsize=}, {arr.dtype.byteorder=}, {arr.dtype.name=}')"
   ]
  },
  {
   "cell_type": "code",
   "execution_count": null,
   "id": "9af5ecb7-bce0-4d68-8369-6ae1d465b257",
   "metadata": {},
   "outputs": [],
   "source": [
    "arr[0] = 10**100"
   ]
  },
  {
   "cell_type": "code",
   "execution_count": null,
   "id": "1de5dd59-e81b-4f23-9a49-6bb98c03048c",
   "metadata": {},
   "outputs": [],
   "source": [
    "object_array = arr.astype('object')"
   ]
  },
  {
   "cell_type": "code",
   "execution_count": null,
   "id": "b03db301-3b4d-4edc-9329-016f8ea601c0",
   "metadata": {},
   "outputs": [],
   "source": [
    "object_array"
   ]
  },
  {
   "cell_type": "code",
   "execution_count": null,
   "id": "56238aad-8e2d-4010-9755-c45942a57b3e",
   "metadata": {},
   "outputs": [],
   "source": [
    "object_array[0] = 10**100"
   ]
  },
  {
   "cell_type": "code",
   "execution_count": null,
   "id": "63631334-8781-40b3-9f53-e1d730612a34",
   "metadata": {},
   "outputs": [],
   "source": [
    "object_array"
   ]
  },
  {
   "cell_type": "code",
   "execution_count": null,
   "id": "6bff7f4c-23d3-4287-9ab7-c34e3a363718",
   "metadata": {},
   "outputs": [],
   "source": [
    "# so: you **can** use the 'object' dtype, where the array just contains pointers to python objects\n",
    "# but only do that if you really, really must. array operations on native numeric types are /much/ faster \n",
    "# than on 'object'"
   ]
  },
  {
   "cell_type": "code",
   "execution_count": null,
   "id": "fdd47e86-deb6-46d0-9903-0fcd2312012e",
   "metadata": {},
   "outputs": [],
   "source": [
    "# watch out when using string, those are limited in size!\n",
    "string_array = np.array(['a', 'b', 'c'])\n",
    "string_array"
   ]
  },
  {
   "cell_type": "code",
   "execution_count": null,
   "id": "3c478c4d-fe8f-45c9-9e06-318524ae5737",
   "metadata": {},
   "outputs": [],
   "source": [
    "string_array[0] = 'xyz'"
   ]
  },
  {
   "cell_type": "code",
   "execution_count": null,
   "id": "63af04fe-c617-46d8-a615-3c151dd0df83",
   "metadata": {},
   "outputs": [],
   "source": [
    "# whoopsie, only room for one character... (and no error message during the assignment)\n",
    "string_array"
   ]
  },
  {
   "cell_type": "code",
   "execution_count": null,
   "id": "89da31c2-bfdc-437b-a5f1-845789c63d14",
   "metadata": {},
   "outputs": [],
   "source": [
    "# at least it's enough room for a full unicode code point :)\n",
    "string_array[0] =  '\\U0001F622'\n",
    "string_array"
   ]
  },
  {
   "cell_type": "code",
   "execution_count": null,
   "id": "a08455a8-b9c0-466f-bd05-54b879df85ce",
   "metadata": {},
   "outputs": [],
   "source": [
    "string_array = string_array.astype('U256')  # you can make the size explicit!\n",
    "string_array[0] = 'xyz'\n",
    "string_array"
   ]
  },
  {
   "cell_type": "code",
   "execution_count": null,
   "id": "427476fc-0a36-4e31-b576-efc4f301b569",
   "metadata": {},
   "outputs": [],
   "source": [
    "string_array.astype('object')  # or use the object type (ok-ish for string)"
   ]
  },
  {
   "cell_type": "markdown",
   "id": "d46a6641-005e-465e-97cc-47192223b7de",
   "metadata": {},
   "source": [
    "### creating more arrays"
   ]
  },
  {
   "cell_type": "code",
   "execution_count": null,
   "id": "bb8c7de8-739b-44ae-aa48-23972a5a1e12",
   "metadata": {},
   "outputs": [],
   "source": [
    "# creating arrays from (nested) lists\n",
    "arr = np.array(\n",
    "    [[1, 2, 3, 4],\n",
    "     [5, 6, 7, 8],\n",
    "     [9, 10, 11, 12]]\n",
    ")"
   ]
  },
  {
   "cell_type": "code",
   "execution_count": null,
   "id": "0686e304-b2d9-4494-8603-3f6c0cedf0e1",
   "metadata": {},
   "outputs": [],
   "source": [
    "arr"
   ]
  },
  {
   "cell_type": "code",
   "execution_count": null,
   "id": "03e85eef-985a-4cda-84d3-5b2f4a8d28fc",
   "metadata": {},
   "outputs": [],
   "source": [
    "# you can also create pre-initialized arrays of any size\n",
    "np.zeros((3, 5), dtype=int)"
   ]
  },
  {
   "cell_type": "code",
   "execution_count": null,
   "id": "6f73d221-fa0b-4576-ab95-d34e7e889be4",
   "metadata": {},
   "outputs": [],
   "source": [
    "# you can also create pre-initialized arrays of any size\n",
    "np.ones((3, 5), dtype=int)"
   ]
  },
  {
   "cell_type": "code",
   "execution_count": null,
   "id": "a4a25558-0026-4ff4-9930-546fc9b31406",
   "metadata": {},
   "outputs": [],
   "source": [
    "# or non-initialized arrays (slightly faster)\n",
    "np.empty((3, 5), dtype=int)"
   ]
  },
  {
   "cell_type": "code",
   "execution_count": null,
   "id": "ecf52ca3-71af-4fad-8535-b63b0b989875",
   "metadata": {},
   "outputs": [],
   "source": [
    "# you can also create ranges -- very similar to the built-in `range`\n",
    "np.arange(10)"
   ]
  },
  {
   "cell_type": "code",
   "execution_count": null,
   "id": "cf2c9e79-cf6b-4ed7-be07-457a84e17b04",
   "metadata": {},
   "outputs": [],
   "source": [
    "# and, often useful, a fixed number regularly spaced elements in a certain range (including bounds)\n",
    "np.linspace(1, 2, 21)"
   ]
  },
  {
   "cell_type": "code",
   "execution_count": null,
   "id": "626d4dd2-c8c3-4bd1-a534-642c78e3570a",
   "metadata": {},
   "outputs": [],
   "source": [
    "# two special methods for two-dimensional arrays, often useful in linear algebra"
   ]
  },
  {
   "cell_type": "code",
   "execution_count": null,
   "id": "fb38b003-af58-47da-9792-839ca782a408",
   "metadata": {},
   "outputs": [],
   "source": [
    "# creating unit matrices\n",
    "np.eye(3)"
   ]
  },
  {
   "cell_type": "code",
   "execution_count": null,
   "id": "77d43553-fc57-4bba-be82-7ce27cd31924",
   "metadata": {},
   "outputs": [],
   "source": [
    "# creating diagonal matrices, specifying elemens on the diagonal\n",
    "np.diag([97, 98, 99])"
   ]
  },
  {
   "cell_type": "markdown",
   "id": "ce9bef4a-917d-493c-9bf2-ed12ff0e4feb",
   "metadata": {},
   "source": [
    "### multi-dimensional arrays"
   ]
  },
  {
   "cell_type": "code",
   "execution_count": null,
   "id": "676e7cde-8505-4627-a85c-a69d4fb3d563",
   "metadata": {},
   "outputs": [],
   "source": [
    "# create a matrix, aka 2D-array\n",
    "arr = np.zeros((3, 5), dtype=int)"
   ]
  },
  {
   "cell_type": "code",
   "execution_count": null,
   "id": "3970cd10-ebc8-4a69-9b55-083001a38512",
   "metadata": {},
   "outputs": [],
   "source": [
    "arr"
   ]
  },
  {
   "cell_type": "code",
   "execution_count": null,
   "id": "54d5fe7e-9269-4372-b6e8-47dbb94e646e",
   "metadata": {},
   "outputs": [],
   "source": [
    "# figuring out the number of dimensions\n",
    "arr.ndim"
   ]
  },
  {
   "cell_type": "code",
   "execution_count": null,
   "id": "ecb30519-0c9e-40f3-8ae7-9e68370827eb",
   "metadata": {},
   "outputs": [],
   "source": [
    "# and the number of entries along each dimension\n",
    "arr.shape  # two axes, length 3 and 5 respectively"
   ]
  },
  {
   "cell_type": "code",
   "execution_count": null,
   "id": "e51145f0-4918-4ffe-aa70-4fd684f73570",
   "metadata": {},
   "outputs": [],
   "source": [
    "# total number of elements (product of all elements of arr.shape)\n",
    "arr.size"
   ]
  },
  {
   "cell_type": "code",
   "execution_count": null,
   "id": "777d52f1-7f6c-4b00-9910-9effe23644ff",
   "metadata": {},
   "outputs": [],
   "source": [
    "# you can index into elements in multi-dimensional arrays within a single []\n",
    "arr[1, 2] = 1\n",
    "arr"
   ]
  },
  {
   "cell_type": "code",
   "execution_count": null,
   "id": "f51fe838-ea9f-49fb-a0b5-1bf170dc5974",
   "metadata": {},
   "outputs": [],
   "source": [
    "# using multiple `[]`-pairs also works, but is less inefficient, as a separate intermediate view is created this way\n",
    "arr[0, 2] == arr[0][2] "
   ]
  },
  {
   "cell_type": "code",
   "execution_count": null,
   "id": "a581e3ab-ac27-4c81-b673-750be8cccf07",
   "metadata": {},
   "outputs": [],
   "source": [
    "# and you can use multi-dimensional slicing as well\n",
    "# in many arithmetic operations the arguments are automatically 'broadcast' to the correct shape -- more later\n",
    "arr[1, :] += 2\n",
    "arr[:, 2] += 2\n",
    "arr"
   ]
  },
  {
   "cell_type": "code",
   "execution_count": null,
   "id": "0f6ced19-74fb-4466-9afd-bd2d194d9c9b",
   "metadata": {},
   "outputs": [],
   "source": [
    "# just leaving out a dimension is the same as `:` for any following dimensions\n",
    "arr[1]"
   ]
  },
  {
   "cell_type": "code",
   "execution_count": null,
   "id": "7b7d9738-92fe-492c-9db7-3981bbfd8315",
   "metadata": {},
   "outputs": [],
   "source": [
    "arr[1, :]"
   ]
  },
  {
   "cell_type": "code",
   "execution_count": null,
   "id": "889a2b6c-f06b-4b44-a8a3-d1320b24e487",
   "metadata": {},
   "outputs": [],
   "source": [
    "# and no-one said we're limited to two dimensions\n",
    "five_d_array = np.ones((1, 2, 3, 4, 5), dtype=int)\n",
    "five_d_array"
   ]
  },
  {
   "cell_type": "code",
   "execution_count": null,
   "id": "f2af5697-335a-4700-9cf3-98630c39255a",
   "metadata": {},
   "outputs": [],
   "source": [
    "five_d_array[0, 0, 0]  # indexing the first the axes out leaves me with the last two (4x5)"
   ]
  },
  {
   "cell_type": "code",
   "execution_count": null,
   "id": "a0ee9920-3775-4a97-a866-4a86d0d866b8",
   "metadata": {},
   "outputs": [],
   "source": [
    "# of course I get a different (4x5)-section if I use different indices in the first dimensions\n",
    "# (broadcasting again, btw)\n",
    "five_d_array[0, 0, 0] = 0\n",
    "five_d_array[0, 0, 1] = 1\n",
    "five_d_array[0, 0, 2] = 2\n",
    "five_d_array[0, 1, 0] = 5\n",
    "five_d_array[0, 1, 1] = 6\n",
    "five_d_array[0, 1, 2] = 7\n",
    "five_d_array"
   ]
  },
  {
   "cell_type": "markdown",
   "id": "5b705389-b331-4033-9d9d-441679320c2d",
   "metadata": {},
   "source": [
    "<div class=\"alert alert-block alert-warning\">\n",
    "<b>Slicing creates views:</b> <br>\n",
    "<a>\n",
    "<p>Whenever you use indexing/slicing to access parts of an array what you get is a `view` in numpy language. A reference, effectively. It points to the area of memory, so changing the view also changes the original. </p>\n",
    "use `np.copy` as necessary\n",
    "</a>\n",
    "</div>"
   ]
  },
  {
   "cell_type": "markdown",
   "id": "26895692-69c6-4eba-b3a9-a4b0deb2c09f",
   "metadata": {},
   "source": [
    "### reshaping arrays"
   ]
  },
  {
   "cell_type": "code",
   "execution_count": null,
   "id": "bd30af56-4094-4ce7-bb8e-25e70400d32e",
   "metadata": {},
   "outputs": [],
   "source": [
    "# I can change shape (and dimensionality) of an array\n",
    "np.arange(100).reshape((10, 10))"
   ]
  },
  {
   "cell_type": "code",
   "execution_count": null,
   "id": "6b5ec1b7-dabe-4f54-80bd-5c59f2130c29",
   "metadata": {},
   "outputs": [],
   "source": [
    "np.arange(100).reshape((2, 5, 10))"
   ]
  },
  {
   "cell_type": "code",
   "execution_count": null,
   "id": "3ca52c6f-fc93-4200-afc6-f82f3b991110",
   "metadata": {},
   "outputs": [],
   "source": [
    "# or I can `flatten` (= remove dimensions)\n",
    "five_d_array.flatten()"
   ]
  },
  {
   "cell_type": "code",
   "execution_count": null,
   "id": "f9fb9911-4b5c-454c-ad53-a7c78a4d0278",
   "metadata": {},
   "outputs": [],
   "source": [
    "# there's also `ravel` which looks the same\n",
    "# `flatten` creates a new object, while `ravel` gives you a reference to the original object, it just looks different to you\n",
    "five_d_array.ravel()"
   ]
  },
  {
   "cell_type": "code",
   "execution_count": null,
   "id": "a1f713a9-9fac-428f-8e5a-2635c4cdac0e",
   "metadata": {},
   "outputs": [],
   "source": [
    "arr = np.arange(4).reshape(2, 2)\n",
    "arr"
   ]
  },
  {
   "cell_type": "code",
   "execution_count": null,
   "id": "3fa720e3-3855-4889-b257-d9e2eeaa1dc3",
   "metadata": {},
   "outputs": [],
   "source": [
    "raveled_arr = arr.ravel()\n",
    "flattened_arr = arr.flatten()"
   ]
  },
  {
   "cell_type": "code",
   "execution_count": null,
   "id": "3f65d53a-af24-45dc-a73a-cd312ffb9a59",
   "metadata": {},
   "outputs": [],
   "source": [
    "flattened_arr"
   ]
  },
  {
   "cell_type": "code",
   "execution_count": null,
   "id": "978eeebd-1200-40ab-b13d-83c5e25cd969",
   "metadata": {},
   "outputs": [],
   "source": [
    "flattened_arr[1] = 4\n",
    "flattened_arr"
   ]
  },
  {
   "cell_type": "code",
   "execution_count": null,
   "id": "275edb7b-9960-46ac-b641-df1af41741f6",
   "metadata": {},
   "outputs": [],
   "source": [
    "arr"
   ]
  },
  {
   "cell_type": "code",
   "execution_count": null,
   "id": "497b054c-b59a-4efe-9d9f-ad3297d3f4ee",
   "metadata": {},
   "outputs": [],
   "source": [
    "raveled_arr"
   ]
  },
  {
   "cell_type": "code",
   "execution_count": null,
   "id": "30e5d27e-0b6b-4cb4-b890-c8eaa72bee88",
   "metadata": {},
   "outputs": [],
   "source": [
    "raveled_arr[1] = 4\n",
    "raveled_arr"
   ]
  },
  {
   "cell_type": "code",
   "execution_count": null,
   "id": "8693e1b9-ac6a-4039-9069-775ff86b321e",
   "metadata": {},
   "outputs": [],
   "source": [
    "arr"
   ]
  },
  {
   "cell_type": "code",
   "execution_count": null,
   "id": "a41da2f6-aa8d-44b5-9255-b8b56923df53",
   "metadata": {},
   "outputs": [],
   "source": [
    "# reshaping can add extra dimensions (as long as the total number of entries stays the same)\n",
    "np.arange(10).reshape(1, 1, 1, 2, 5, 1)"
   ]
  },
  {
   "cell_type": "markdown",
   "id": "27d9487f-c76a-4cbf-bcd9-ee3d389acd01",
   "metadata": {},
   "source": [
    "### logical indexing"
   ]
  },
  {
   "cell_type": "code",
   "execution_count": null,
   "id": "b0586d59-d276-4fce-92c4-708ec28334d6",
   "metadata": {},
   "outputs": [],
   "source": [
    "arr = np.arange(9)"
   ]
  },
  {
   "cell_type": "code",
   "execution_count": null,
   "id": "0db4d37d-2685-4b11-ac7f-2e47ab90f762",
   "metadata": {},
   "outputs": [],
   "source": [
    "arr"
   ]
  },
  {
   "cell_type": "code",
   "execution_count": null,
   "id": "6bde2c08-c388-41bd-bd83-5940d94ad0d4",
   "metadata": {},
   "outputs": [],
   "source": [
    "arr > 5"
   ]
  },
  {
   "cell_type": "code",
   "execution_count": null,
   "id": "486b8ba4-75e8-46eb-b723-1ef817b3474a",
   "metadata": {},
   "outputs": [],
   "source": [
    "# logical indexing\n",
    "# use an array the same shape as your original array, with boolean values\n",
    "arr[arr > 5]"
   ]
  },
  {
   "cell_type": "code",
   "execution_count": null,
   "id": "f4a6d50e-5b42-47ec-94bf-e5c756f0f2af",
   "metadata": {},
   "outputs": [],
   "source": [
    "# of course you can have anything that gives you boolean values with the right shape\n",
    "arr[arr % 2 == 0]"
   ]
  },
  {
   "cell_type": "code",
   "execution_count": null,
   "id": "dca721a4-a100-4253-96f5-65c4d868f831",
   "metadata": {},
   "outputs": [],
   "source": [
    "# and you can combine conditions with a single (!) `&`, `|` or `^`\n",
    "# (requires brackets due to operator precedence...)\n",
    "arr[(arr > 5) & (arr % 2 == 0)]"
   ]
  },
  {
   "cell_type": "code",
   "execution_count": null,
   "id": "1eef9534-3f9b-40e6-a6fd-30ad14bb7a70",
   "metadata": {},
   "outputs": [],
   "source": [
    "arr[(arr > 5) ^ (arr % 2 == 0)]"
   ]
  },
  {
   "cell_type": "code",
   "execution_count": null,
   "id": "a6e72758-7cde-4f4d-8cdf-f9247cb3025d",
   "metadata": {},
   "outputs": [],
   "source": [
    "# you can also get the indexes meeting some condition\n",
    "np.where(arr > 5)"
   ]
  },
  {
   "cell_type": "code",
   "execution_count": null,
   "id": "49879a9c-bee0-4d03-975b-41e273b66ee8",
   "metadata": {},
   "outputs": [],
   "source": [
    "# and you can also index with those if you like\n",
    "arr[np.where(arr > 5)]"
   ]
  },
  {
   "cell_type": "code",
   "execution_count": null,
   "id": "ba1905be-8e47-4705-a483-bc3db091eabe",
   "metadata": {},
   "outputs": [],
   "source": [
    "# of course that's also possible in higher dimensions\n",
    "arr = arr.reshape(3, 3)"
   ]
  },
  {
   "cell_type": "code",
   "execution_count": null,
   "id": "6de87e89-75d7-4f69-a9df-b28eb5271a8e",
   "metadata": {},
   "outputs": [],
   "source": [
    "arr"
   ]
  },
  {
   "cell_type": "code",
   "execution_count": null,
   "id": "b8691e27-01e4-4df2-b93b-6e6c37d15c21",
   "metadata": {},
   "outputs": [],
   "source": [
    "# logical indexing collapsed the dimensions\n",
    "arr[arr % 2 == 0]"
   ]
  },
  {
   "cell_type": "code",
   "execution_count": null,
   "id": "91666a07-4a01-45ab-8daf-cc5e7af627e5",
   "metadata": {},
   "outputs": [],
   "source": [
    "# in multi-dimensional arrays `where ` returns a tuple with one array for each axis\n",
    "np.where(arr % 2 == 0)"
   ]
  },
  {
   "cell_type": "code",
   "execution_count": null,
   "id": "a7902f58-165c-42b8-b3ca-296f98d1c67e",
   "metadata": {},
   "outputs": [],
   "source": [
    "# and you can use these tuples for indexing still\n",
    "arr[np.where(arr % 2 == 0)]"
   ]
  },
  {
   "cell_type": "code",
   "execution_count": null,
   "id": "bcb86dba-7eca-4b50-b103-9e426326ee7e",
   "metadata": {},
   "outputs": [],
   "source": [
    "# but if you'd rather have 'coordinates' instead:\n",
    "even_indices = np.where(arr % 2 == 0)\n",
    "list(zip(*even_indices))"
   ]
  },
  {
   "cell_type": "markdown",
   "id": "d7884b28-c055-473b-bc5e-7cdbacc12af6",
   "metadata": {},
   "source": [
    "### combining and splitting arrays"
   ]
  },
  {
   "cell_type": "code",
   "execution_count": null,
   "id": "0edb5cd7-da2b-4ee4-8521-9d67eb3ac088",
   "metadata": {},
   "outputs": [],
   "source": [
    "arr1 = np.array([[1, 1], [2, 2]])\n",
    "arr1"
   ]
  },
  {
   "cell_type": "code",
   "execution_count": null,
   "id": "04bf123d-4e4e-4d19-91dc-796ad6e4e4f2",
   "metadata": {},
   "outputs": [],
   "source": [
    "arr2 = np.array([[3, 3], [4, 4]])\n",
    "arr2"
   ]
  },
  {
   "cell_type": "code",
   "execution_count": null,
   "id": "e0390ef0-02ee-4367-8966-fe81c9010a9c",
   "metadata": {},
   "outputs": [],
   "source": [
    "# stack them 'horizontally' (inner-most dimension)\n",
    "h_stacked = np.hstack([arr1, arr2])\n",
    "h_stacked"
   ]
  },
  {
   "cell_type": "code",
   "execution_count": null,
   "id": "b2fbc936-1200-473b-9934-3a607d9d3cb1",
   "metadata": {},
   "outputs": [],
   "source": [
    "h_stacked.shape"
   ]
  },
  {
   "cell_type": "code",
   "execution_count": null,
   "id": "c80c3739-cba7-4a97-95d2-f3c0ac68df80",
   "metadata": {},
   "outputs": [],
   "source": [
    "# stack them 'vertically' (outer-most dimension)\n",
    "v_stacked = np.vstack([arr1, arr2])\n",
    "v_stacked"
   ]
  },
  {
   "cell_type": "code",
   "execution_count": null,
   "id": "4d716f23-ff02-46b1-bfe0-bea65b3509a2",
   "metadata": {},
   "outputs": [],
   "source": [
    "v_stacked.shape"
   ]
  },
  {
   "cell_type": "code",
   "execution_count": null,
   "id": "60581e2e-6fd4-4b77-b406-d6550ccb29cb",
   "metadata": {},
   "outputs": [],
   "source": [
    "# obviously the dimensions need to match\n",
    "np.hstack([np.ones((2, 2)), np.ones((3, 2))])"
   ]
  },
  {
   "cell_type": "code",
   "execution_count": null,
   "id": "1e3826b2-ea17-471f-8fc5-1fa8426bf57f",
   "metadata": {},
   "outputs": [],
   "source": [
    "# you can also split arrays\n",
    "# you can specify into how many segments to split\n",
    "split_arr1, split_arr2 = np.hsplit(h_stacked, 2)"
   ]
  },
  {
   "cell_type": "code",
   "execution_count": null,
   "id": "14518ab9-8608-49cd-9f20-249dc8234f3b",
   "metadata": {},
   "outputs": [],
   "source": [
    "split_arr1"
   ]
  },
  {
   "cell_type": "code",
   "execution_count": null,
   "id": "64ee306f-2662-4441-97aa-fce9657bd674",
   "metadata": {},
   "outputs": [],
   "source": [
    "split_arr2"
   ]
  },
  {
   "cell_type": "code",
   "execution_count": null,
   "id": "d3a35f68-452b-4987-8ecb-dd8e2aeeac74",
   "metadata": {},
   "outputs": [],
   "source": [
    "# of course you could also split the other way around\n",
    "np.vsplit(h_stacked, 2)"
   ]
  },
  {
   "cell_type": "code",
   "execution_count": null,
   "id": "c2f5f14e-ac48-470a-a319-0b9691ff042e",
   "metadata": {},
   "outputs": [],
   "source": [
    "# splits specified this way need to divide the dimension length\n",
    "np.split(h_stacked, 3)"
   ]
  },
  {
   "cell_type": "code",
   "execution_count": null,
   "id": "4c055f18-1728-4e66-aa35-1100af5af277",
   "metadata": {},
   "outputs": [],
   "source": [
    "# but if you specify split points rathern than #splits you're free to create unequal parts\n",
    "# if you want to specify one (or multiple) splitting points, pass a tuple\n",
    "np.hsplit(h_stacked, (1, 3))"
   ]
  },
  {
   "cell_type": "code",
   "execution_count": null,
   "id": "96c38ec6-a3ac-40db-b2be-1196174dffe3",
   "metadata": {},
   "outputs": [],
   "source": [
    "# for higher-dimensional arrays, use `np.split` and specify the axis\n",
    "cube_array = np.arange(27).reshape((3, 3, 3))\n",
    "cube_array"
   ]
  },
  {
   "cell_type": "code",
   "execution_count": null,
   "id": "df9e7058-7955-415c-8cd2-e0835b26b012",
   "metadata": {},
   "outputs": [],
   "source": [
    "np.split(cube_array, (1, ), axis=0)"
   ]
  },
  {
   "cell_type": "code",
   "execution_count": null,
   "id": "488cb1bb-64ee-46ba-a9e7-c61d2dc6996e",
   "metadata": {},
   "outputs": [],
   "source": [
    "np.split(cube_array, (1, ), axis=1)"
   ]
  },
  {
   "cell_type": "code",
   "execution_count": null,
   "id": "2dcce080-3579-4533-832f-f87024f5bed6",
   "metadata": {},
   "outputs": [],
   "source": [
    "np.split(cube_array, (1, ), axis=2)"
   ]
  },
  {
   "cell_type": "markdown",
   "id": "d98a34be-c4fc-49a9-888b-6eaacf77068a",
   "metadata": {},
   "source": [
    "### Broadcasting"
   ]
  },
  {
   "cell_type": "markdown",
   "id": "07b5824f-edb0-4e95-a72c-d18ed39ddc70",
   "metadata": {},
   "source": [
    "> The term broadcasting describes how NumPy treats arrays with different shapes during arithmetic operations. Subject to certain constraints, the smaller array is “broadcast” across the larger array so that they have compatible shapes. Broadcasting provides a means of vectorizing array operations so that looping occurs in C instead of Python. It does this without making needless copies of data and usually leads to efficient algorithm implementations. There are, however, cases where broadcasting is a bad idea because it leads to inefficient use of memory that slows computation."
   ]
  },
  {
   "cell_type": "code",
   "execution_count": null,
   "id": "e582e0b6-07ff-4453-b522-814da2d1822c",
   "metadata": {},
   "outputs": [],
   "source": [
    "arr_1 = np.arange(1, 4)\n",
    "arr_2 = np.ones(3)"
   ]
  },
  {
   "cell_type": "code",
   "execution_count": null,
   "id": "9040c90c-9d90-43a2-94d9-f213fa0e5662",
   "metadata": {},
   "outputs": [],
   "source": [
    "arr_1 + arr_2"
   ]
  },
  {
   "cell_type": "code",
   "execution_count": null,
   "id": "b07ed931-e91f-4d2f-b23a-73406c485e87",
   "metadata": {},
   "outputs": [],
   "source": [
    "# but just adding a (scalar) 1 works just as well...?\n",
    "arr_1 + 1."
   ]
  },
  {
   "cell_type": "code",
   "execution_count": null,
   "id": "bc72f7b4-9931-413b-96c8-4cc6d8cebc9b",
   "metadata": {},
   "outputs": [],
   "source": [
    "# same for division (or any other math operation\n",
    "arr_2 / arr_1"
   ]
  },
  {
   "cell_type": "code",
   "execution_count": null,
   "id": "020e7599-1d98-442e-a474-fc2a0f644f97",
   "metadata": {},
   "outputs": [],
   "source": [
    "1 / arr_1"
   ]
  },
  {
   "cell_type": "markdown",
   "id": "03db38cd-62c5-4092-8dba-3485e49c3a1d",
   "metadata": {},
   "source": [
    "> NumPy operations are usually done on pairs of arrays on an element-by-element basis. In the simplest case, the two arrays must have exactly the same shape. <br>\n",
    "> NumPy’s broadcasting rule relaxes this constraint when the arrays’ shapes meet certain constraints. The simplest broadcasting example occurs when an array and a scalar value are combined in an operation, as above.<br>\n",
    "> General rules: When operating on two arrays, NumPy compares their shapes element-wise. It starts with the trailing (i.e. rightmost) dimension and works its way left. Two dimensions are compatible when **they are equal**, or **one of them is 1**.<br>\n",
    "> Input arrays do not need to have the same number of dimensions. The resulting array will have the same number of dimensions as the input array with the greatest number of dimensions"
   ]
  },
  {
   "cell_type": "code",
   "execution_count": null,
   "id": "a9584ce0-a375-404b-974d-9a0c8750ce8e",
   "metadata": {},
   "outputs": [],
   "source": [
    "# example: let's create a 4x4x3 array (imagine: 4x4 pixels, 3 color channels for example\n",
    "arr = np.zeros((4, 4, 3))\n",
    "# the first row is all red\n",
    "arr[0, :, 0] = 1\n",
    "# the second row is all green\n",
    "arr[1, :, 1] = 1\n",
    "# the third row is all blue\n",
    "arr[2, :, 2] = 1\n",
    "# and the last row is white\n",
    "arr[3, :, :] = 1\n",
    "arr"
   ]
  },
  {
   "cell_type": "code",
   "execution_count": null,
   "id": "4b2e8419-93fa-4d1d-ac35-e66f3b8d53ed",
   "metadata": {},
   "outputs": [],
   "source": [
    "# another way to look at this:\n",
    "# here's the red contributions on the screen\n",
    "arr[..., 0]"
   ]
  },
  {
   "cell_type": "code",
   "execution_count": null,
   "id": "e9444824-4914-49d6-bc82-323115945051",
   "metadata": {},
   "outputs": [],
   "source": [
    "# let's make everything less blue. we half the blues:\n",
    "# broadcasting takes care of giving us the right shape\n",
    "arr / np.array([1, 1, 2])"
   ]
  },
  {
   "cell_type": "markdown",
   "id": "e1249b77-f8c0-42f7-87d1-a917b8f1b776",
   "metadata": {},
   "source": [
    "<div class=\"alert alert-block alert-info\">\n",
    "<b>another curse of dimensionality:</b> <br>\n",
    "<p>\n",
    "    These broadcasting rules are incredibly useful.<br>\n",
    "    They are also nice and easy to understand if one side is a scalar.<br>\n",
    "    If both sides are arrays, and one (or both) of these arrays are very high-dimensional they can become pretty unwieldy....</p>\n",
    "</div>"
   ]
  },
  {
   "cell_type": "markdown",
   "id": "33c6636e-1dfe-493d-8f51-554e52f35ac0",
   "metadata": {},
   "source": [
    "## Advanced Topics:\n",
    "- `numpy.linalg` -- Linear Algebra: just leave it to scipy\n",
    "- `numpy.matlib` -- matrices: just use plain arrays and make the (scipy) calls explicit\n",
    "- `ufunc`s: vectorized element-wise functions on arrays. You're using those already, there's more (technical) details though...\n",
    "- `numpy.ctypeslib`, `numpy.datetime`, `numpy.fft`, masked arrays, various utility functions, ..."
   ]
  },
  {
   "cell_type": "markdown",
   "id": "2b4d3d52-9cb1-4760-8963-7498f9444a1d",
   "metadata": {},
   "source": [
    "# pandas\n",
    "- 'fast, powerful, flexible and easy to use open source data analysis and manipulation tool'\n",
    "- functionality looks a bit like execel sheets / relational tables\n",
    "- built on top of numpy\n",
    "- two main datastructures:\n",
    "  - `Series`: 1D Data -- typically single column, multiple rows\n",
    "  - `DataFrame`: 2D Data -- multiple rows, multiple columns\n",
    "- generally: avoid looping over rows of `DataFrames`: you can almost always achieve your goal using vectorized operations, joins etc."
   ]
  },
  {
   "cell_type": "markdown",
   "id": "fabc652f-cf1d-4798-bd2a-5dfb487f6a36",
   "metadata": {},
   "source": [
    "## Installation and Import"
   ]
  },
  {
   "cell_type": "code",
   "execution_count": null,
   "id": "25160f20-f91b-4453-90e3-2738457ec7d0",
   "metadata": {},
   "outputs": [],
   "source": [
    "!/home/atreju/.conda/envs/dhbw/bin/pip install pandas"
   ]
  },
  {
   "cell_type": "code",
   "execution_count": null,
   "id": "7629188b-d41e-44e7-833c-e7fda55f15b2",
   "metadata": {},
   "outputs": [],
   "source": [
    "import numpy as np\n",
    "import pandas as pd  # convention, as usual"
   ]
  },
  {
   "cell_type": "markdown",
   "id": "5ae7c399-3eac-4d30-a39d-093f686f3456",
   "metadata": {},
   "source": [
    "## pd.Series Basics\n",
    "- one-dimensional labeled array capable of holding any data type (integers, strings, floating point numbers, Python objects, etc.).\n",
    "- The axis labels are collectively referred to as the index. "
   ]
  },
  {
   "cell_type": "markdown",
   "id": "6006cbe4-b3db-4d1f-92fe-5c1dc4c4a025",
   "metadata": {},
   "source": [
    "### creating a Series\n",
    "- can be easily created from lists/numpy arrays/dicts/scalars"
   ]
  },
  {
   "cell_type": "code",
   "execution_count": null,
   "id": "547baea5-1b01-4ec1-9187-f62302c0504b",
   "metadata": {},
   "outputs": [],
   "source": [
    "# create a Series from a list/numpy array\n",
    "pd.Series([3, 4, 5])"
   ]
  },
  {
   "cell_type": "code",
   "execution_count": null,
   "id": "fdc3b340-aa9c-4cba-bb85-81bd82eb6700",
   "metadata": {},
   "outputs": [],
   "source": [
    "# and specify an index while you're at it\n",
    "pd.Series([3, 4, 5], index=['a', 'b', 'c'])"
   ]
  },
  {
   "cell_type": "code",
   "execution_count": null,
   "id": "0a009b3b-b5d9-4e1e-8b1f-69201034190a",
   "metadata": {},
   "outputs": [],
   "source": [
    "# or you can create it from a dictionary\n",
    "pd.Series({'a': 3, 'b': 4, 'c': 5})"
   ]
  },
  {
   "cell_type": "code",
   "execution_count": null,
   "id": "e8c0d553-0be9-443f-a3d2-02d08e75de2b",
   "metadata": {},
   "outputs": [],
   "source": [
    "# or from constants, basically like broadcasting. \n",
    "pd.Series(3, index=['a', 'b', 'c'])"
   ]
  },
  {
   "cell_type": "markdown",
   "id": "589499cb-3042-4ac3-b600-eb9e8eae3365",
   "metadata": {},
   "source": [
    "### Series properties\n",
    "- dtypes, math + broadcasting, names, ..."
   ]
  },
  {
   "cell_type": "code",
   "execution_count": null,
   "id": "e8b6e5dd-a2a7-4954-860f-aff657307856",
   "metadata": {},
   "outputs": [],
   "source": [
    "# you can get out the index again\n",
    "s = pd.Series({'a': 3, 'b': 4, 'c': 5})\n",
    "s.index"
   ]
  },
  {
   "cell_type": "code",
   "execution_count": null,
   "id": "1313a809-79c0-4356-a8e9-1e451dceb2e1",
   "metadata": {},
   "outputs": [],
   "source": [
    "# and there's a single datatype for a Series, usually one of the numpy types\n",
    "s.dtype"
   ]
  },
  {
   "cell_type": "code",
   "execution_count": null,
   "id": "7c656ea7-ca12-4f8e-b4b5-1bd6fcf856f4",
   "metadata": {},
   "outputs": [],
   "source": [
    "# just like numpy you can do vectorized math according to numpy broadcasting rules\n",
    "s + 2"
   ]
  },
  {
   "cell_type": "code",
   "execution_count": null,
   "id": "bc8d3dac-d8b1-4b1f-bba1-deb0e2420c36",
   "metadata": {},
   "outputs": [],
   "source": [
    "# and a `pd.Series` can be used in many numpy functions directly (preserving, but not modifying the index)\n",
    "np.sqrt(s)"
   ]
  },
  {
   "cell_type": "code",
   "execution_count": null,
   "id": "b8a221d1-698c-4bce-aeb5-23df70c197e1",
   "metadata": {},
   "outputs": [],
   "source": [
    "# and you can get a real numpy array out of it if you need to\n",
    "arr = s.to_numpy()\n",
    "arr"
   ]
  },
  {
   "cell_type": "code",
   "execution_count": null,
   "id": "d678b105-863b-4fd6-85f3-89f31c8f8700",
   "metadata": {},
   "outputs": [],
   "source": [
    "type(arr)"
   ]
  },
  {
   "cell_type": "code",
   "execution_count": null,
   "id": "4e53f551-1521-4ee0-a826-6c2f8ebd990d",
   "metadata": {},
   "outputs": [],
   "source": [
    "arr.dtype"
   ]
  },
  {
   "cell_type": "code",
   "execution_count": null,
   "id": "8476f534-29ec-4321-b7f6-29e6ae8d8c35",
   "metadata": {},
   "outputs": [],
   "source": [
    "# a Series can also have a `name`, behaving sort of like a column label\n",
    "s = pd.Series({'a': 3, 'b': 4, 'c': 5}, name='series_name')\n",
    "s"
   ]
  },
  {
   "cell_type": "code",
   "execution_count": null,
   "id": "24b661df-43ee-4047-a8d1-2b048c1d97c5",
   "metadata": {},
   "outputs": [],
   "source": [
    "# and you can change the name, of course\n",
    "s.rename('new_name')"
   ]
  },
  {
   "cell_type": "markdown",
   "id": "eefe5bcc-0b74-497e-a5b4-2b6fe71e9d6c",
   "metadata": {},
   "source": [
    "### Indexing\n",
    "- indexing of rows by index value simply using []\n",
    "- indexing of rows by numerical row-number using `.iloc`\n",
    "- logical indexing like in numpy also works\n",
    "- no indexing of columns, since there's only one :)"
   ]
  },
  {
   "cell_type": "code",
   "execution_count": null,
   "id": "77cf2410-23c9-4656-b6bd-22be0f26603c",
   "metadata": {},
   "outputs": [],
   "source": [
    "s = pd.Series({'a': 3, 'b': 4, 'c': 5})\n",
    "s"
   ]
  },
  {
   "cell_type": "code",
   "execution_count": null,
   "id": "a5420308-de2a-4a63-8ea3-dacf893fd4b5",
   "metadata": {},
   "outputs": [],
   "source": [
    "# square bracket indexing returns the row with matching index\n",
    "s['a']"
   ]
  },
  {
   "cell_type": "code",
   "execution_count": null,
   "id": "ae07e0b2-565f-41dd-aeb2-b0097bb076a4",
   "metadata": {},
   "outputs": [],
   "source": [
    "# you can slice with non-numeric indices\n",
    "s['a':'c':2] *= 2\n",
    "s"
   ]
  },
  {
   "cell_type": "code",
   "execution_count": null,
   "id": "9877df03-2fb6-4839-8ebb-a95e50f41b2d",
   "metadata": {},
   "outputs": [],
   "source": [
    "# alternatively, use `Series.loc (more interesting for DataFrames)\n",
    "s.loc['a':'b']"
   ]
  },
  {
   "cell_type": "code",
   "execution_count": null,
   "id": "cb45b442-0e1c-43bb-8fb5-4cc66c803172",
   "metadata": {},
   "outputs": [],
   "source": [
    "# and iff the row name is a valid python variable name you can also access it as an attribute (but no slicing here)\n",
    "s.a"
   ]
  },
  {
   "cell_type": "code",
   "execution_count": null,
   "id": "010dde6c-8ab9-4607-8dae-9e985e54b126",
   "metadata": {},
   "outputs": [],
   "source": [
    "# you can also use numerical indices -- row number, effectively\n",
    "s.iloc[1]"
   ]
  },
  {
   "cell_type": "code",
   "execution_count": null,
   "id": "93a80671-3666-4017-8552-1b7265b202bd",
   "metadata": {},
   "outputs": [],
   "source": [
    "# and you can use logical indexing\n",
    "s[s > 4]"
   ]
  },
  {
   "cell_type": "code",
   "execution_count": null,
   "id": "5d43892e-ca66-496b-83da-7e5de2eecaf7",
   "metadata": {},
   "outputs": [],
   "source": [
    "# you can create new rows simply by indexing and assignment\n",
    "# (but this is rather slow)\n",
    "s['foo'] = 5\n",
    "s"
   ]
  },
  {
   "cell_type": "code",
   "execution_count": null,
   "id": "38261c36-d638-4bb9-aaf8-2c116fc67496",
   "metadata": {},
   "outputs": [],
   "source": [
    "# and rows can be removed again using `del`\n",
    "# (again, rather slow)\n",
    "del s['foo']\n",
    "s"
   ]
  },
  {
   "cell_type": "markdown",
   "id": "f4ae51d3-6fd8-4449-b495-2163e4df7ac4",
   "metadata": {},
   "source": [
    "### Automatic alignment\n",
    "- operations combining two Series objects automatically consider the index in all element-wise operations"
   ]
  },
  {
   "cell_type": "code",
   "execution_count": null,
   "id": "8ea8cf62-44f8-4b88-b5c8-f247f76dd88a",
   "metadata": {},
   "outputs": [],
   "source": [
    "s1 = pd.Series({'a': 3, 'b': 4, 'c': 5           })\n",
    "s2 = pd.Series({        'b': 14, 'c': 15, 'd': 16})"
   ]
  },
  {
   "cell_type": "code",
   "execution_count": null,
   "id": "4bd0de6d-b914-4b57-abfb-078939e1fd49",
   "metadata": {},
   "outputs": [],
   "source": [
    "s1 + s2"
   ]
  },
  {
   "cell_type": "markdown",
   "id": "c02822a9-d56a-4cc6-b72e-1d85728274c0",
   "metadata": {},
   "source": [
    "## pd.DataFrame Basics\n",
    "- 2-dimensional labeled data structure with columns of **potentially different** types\n",
    "- pretty much like a spreadsheet or SQL table\n",
    "- index for both rows and columns (and indices can be hierarchical)\n",
    "- most commonly used and most important pandas object"
   ]
  },
  {
   "cell_type": "markdown",
   "id": "2e5081e2-71c9-4f0f-8061-6a1cd0cc0b03",
   "metadata": {},
   "source": [
    "### creating a DataFrame\n",
    "- can easily be created from dicts of lists, lists of dicts, Series, ...\n",
    "- or (commonly) read from files"
   ]
  },
  {
   "cell_type": "code",
   "execution_count": null,
   "id": "b244a66b-d172-4505-8c02-1a2d8d2d1be1",
   "metadata": {},
   "outputs": [],
   "source": [
    "data = {\n",
    "    'first_column': [1, 2, 3, 4, 5],\n",
    "    'second_column': [1, 2, 3.1415, 4, 5]\n",
    "}\n",
    "df = pd.DataFrame(data)\n",
    "df"
   ]
  },
  {
   "cell_type": "code",
   "execution_count": null,
   "id": "d77d2163-31a8-4aef-b51a-0da7f2ce001e",
   "metadata": {},
   "outputs": [],
   "source": [
    "# or with more interesting row index\n",
    "data = {\n",
    "    'first_column': [1, 2, 3, 4, 5],\n",
    "    'second_column': [1, 2, 3.1415, 4, 5]\n",
    "}\n",
    "df = pd.DataFrame(data, index = ['a', 'b', 'c', 'd', 'e'])\n",
    "df"
   ]
  },
  {
   "cell_type": "code",
   "execution_count": null,
   "id": "5f5dd947-a7d4-4ea4-87bf-c59f71a79e5d",
   "metadata": {},
   "outputs": [],
   "source": [
    "# or read from a large variety of file formats\n",
    "pd.read_csv('../data/iris.csv')"
   ]
  },
  {
   "cell_type": "code",
   "execution_count": null,
   "id": "6a07d54a-b81e-4a94-af58-f36efd293e2b",
   "metadata": {},
   "outputs": [],
   "source": [
    "pd.read_"
   ]
  },
  {
   "cell_type": "markdown",
   "id": "12c4f12f-e611-4b1c-a8e1-11aa821ed12b",
   "metadata": {},
   "source": [
    "### DataFrame properties"
   ]
  },
  {
   "cell_type": "code",
   "execution_count": null,
   "id": "e1d5024a-2715-4010-95aa-bc17ffb10fa0",
   "metadata": {},
   "outputs": [],
   "source": [
    "data = {\n",
    "    'first_column': [1, 2, 3, 4, 5],\n",
    "    'second_column': [1, 2, 3.1415, 4, 5]\n",
    "}\n",
    "df = pd.DataFrame(data, index = ['a', 'b', 'c', 'd', 'e'])\n",
    "df"
   ]
  },
  {
   "cell_type": "code",
   "execution_count": null,
   "id": "c119f21b-7079-4738-86a9-efae239903b1",
   "metadata": {},
   "outputs": [],
   "source": [
    "# you can get out the index again\n",
    "df.index"
   ]
  },
  {
   "cell_type": "code",
   "execution_count": null,
   "id": "e54591c9-4e65-49a4-ac1a-15cfa339816f",
   "metadata": {},
   "outputs": [],
   "source": [
    "# but now there's also an index for the columns\n",
    "df.columns"
   ]
  },
  {
   "cell_type": "code",
   "execution_count": null,
   "id": "f6adf642-ba54-400c-b1de-cf43cdd62447",
   "metadata": {},
   "outputs": [],
   "source": [
    "# and the dtype is now column-specific\n",
    "df.dtypes"
   ]
  },
  {
   "cell_type": "code",
   "execution_count": null,
   "id": "167f538a-6f5b-4b74-b2bc-d8d56905405b",
   "metadata": {},
   "outputs": [],
   "source": [
    "# you also have a shape, same as in numpy\n",
    "df.shape"
   ]
  },
  {
   "cell_type": "code",
   "execution_count": null,
   "id": "e9e05be1-41c4-4132-a7d7-aba26bbec6cf",
   "metadata": {},
   "outputs": [],
   "source": [
    "# just like numpy you can do vectorized math according to numpy broadcasting rules\n",
    "df + 2"
   ]
  },
  {
   "cell_type": "code",
   "execution_count": null,
   "id": "683602fe-d62f-4b9e-8fb2-96b6cf8fcf2e",
   "metadata": {},
   "outputs": [],
   "source": [
    "# or pass it to numpy functions (if the datatypes of all columns are compatible of course)\n",
    "# this will automatically upcast column dtypes as necessary\n",
    "np.sqrt(df)"
   ]
  },
  {
   "cell_type": "code",
   "execution_count": null,
   "id": "2f9acf5e-b741-4464-8945-7bbe7ca4c57e",
   "metadata": {},
   "outputs": [],
   "source": [
    "np.sqrt(df).dtypes"
   ]
  },
  {
   "cell_type": "code",
   "execution_count": null,
   "id": "c857bcfe-8733-427c-a3c9-5db01a46d1cb",
   "metadata": {},
   "outputs": [],
   "source": [
    "# you can still convert it to a single numpy array\n",
    "df_arr = df.to_numpy()\n",
    "df_arr"
   ]
  },
  {
   "cell_type": "code",
   "execution_count": null,
   "id": "88797f29-7016-4da1-81e5-40de4671eec3",
   "metadata": {},
   "outputs": [],
   "source": [
    "# but that needs to bring all columns to a common type by upcasting\n",
    "df_arr.dtype"
   ]
  },
  {
   "cell_type": "code",
   "execution_count": null,
   "id": "0c6a0f26-55af-4b0b-9f02-503f4da429d2",
   "metadata": {},
   "outputs": [],
   "source": [
    "# more interestin type mixing\n",
    "data = {\n",
    "    'first_column': [1, 2, 3, 4, 5],\n",
    "    'second_column': ['foo', 'bar', 'bazz', 'here', 'there']\n",
    "}\n",
    "df = pd.DataFrame(data, index = ['a', 'b', 'c', 'd', 'e'])\n",
    "df"
   ]
  },
  {
   "cell_type": "code",
   "execution_count": null,
   "id": "22e5b795-45b7-4113-a8bb-fca1a1abbb49",
   "metadata": {},
   "outputs": [],
   "source": [
    "df.dtypes"
   ]
  },
  {
   "cell_type": "code",
   "execution_count": null,
   "id": "5450ba22-e79d-4477-8f17-792114aa8068",
   "metadata": {
    "scrolled": true
   },
   "outputs": [],
   "source": [
    "# obviously these kinds of operations only work on compatible column types\n",
    "df + 2"
   ]
  },
  {
   "cell_type": "code",
   "execution_count": null,
   "id": "8edf8916-679d-424a-ba07-239b5d7691c5",
   "metadata": {},
   "outputs": [],
   "source": [
    "# and the last resort for upcasting mixed types is `object`\n",
    "df.to_numpy()"
   ]
  },
  {
   "cell_type": "markdown",
   "id": "f146f947-1918-4417-b7bd-c62d6e955d99",
   "metadata": {},
   "source": [
    "### indexing\n",
    "- square brackets now index columns, not rows\n",
    "- `.loc` allows indexing of both rows and column\n",
    "- `.iloc` allows numerical row/column-indices\n",
    "- logical indexing now doesn't reduce the size, but just replaces unselected values by `NaN`. Use `.dropna` to actually remove rows"
   ]
  },
  {
   "cell_type": "code",
   "execution_count": null,
   "id": "146b4f79-a789-4cb8-b1df-946c9de6d43d",
   "metadata": {},
   "outputs": [],
   "source": [
    "data = {\n",
    "    'first_column': [1, 2, 3, 4, 5],\n",
    "    'second_column': [1, 2, 3.1415, 4, 5]\n",
    "}\n",
    "df = pd.DataFrame(data, index = ['a', 'b', 'c', 'd', 'e'])\n",
    "df"
   ]
  },
  {
   "cell_type": "code",
   "execution_count": null,
   "id": "7c9fdc63-d0ef-4ae9-bed9-be68b3fe832c",
   "metadata": {},
   "outputs": [],
   "source": [
    "# normal indexing gives me a column\n",
    "df['first_column']"
   ]
  },
  {
   "cell_type": "code",
   "execution_count": null,
   "id": "75ad74e1-93e9-4b28-a926-04d9e743d20f",
   "metadata": {},
   "outputs": [],
   "source": [
    "# but (watch out!) a slice in the same position will be applied to rows, not columns\n",
    "df['a'::2]"
   ]
  },
  {
   "cell_type": "code",
   "execution_count": null,
   "id": "f9f9df95-9532-4d10-bb50-7b27b9748c65",
   "metadata": {},
   "outputs": [],
   "source": [
    "# you can also access the column as an attribute if it's a valid python variable name\n",
    "df.second_column"
   ]
  },
  {
   "cell_type": "code",
   "execution_count": null,
   "id": "df2afaf3-a8d5-4cba-ba9d-5357332bc476",
   "metadata": {},
   "outputs": [],
   "source": [
    "# `.loc` by default will be a row-index still\n",
    "df.loc['a']"
   ]
  },
  {
   "cell_type": "code",
   "execution_count": null,
   "id": "e43c69ce-6e49-4a95-bd46-a76bbf8f9574",
   "metadata": {},
   "outputs": [],
   "source": [
    "# but I can pass the column as second argument\n",
    "df.loc['c', 'first_column']"
   ]
  },
  {
   "cell_type": "code",
   "execution_count": null,
   "id": "10a5fc25-9d2e-4043-ab51-79dd6cdf8d1a",
   "metadata": {},
   "outputs": [],
   "source": [
    "# slicing still works also in `.loc`\n",
    "# and also, I can select multiple rows (or columns) by indexing with a list/tuple\n",
    "df.loc['a':'d':2, ('first_column', 'second_column')]"
   ]
  },
  {
   "cell_type": "code",
   "execution_count": null,
   "id": "a5c00751-6532-4cd9-9a5b-b03899ca8e5b",
   "metadata": {},
   "outputs": [],
   "source": [
    "# and even re-order the index that way\n",
    "df.loc[('a', 'c', 'b'), 'first_column'::2]"
   ]
  },
  {
   "cell_type": "code",
   "execution_count": null,
   "id": "8392385f-f326-4bce-af10-e86663ad05cc",
   "metadata": {},
   "outputs": [],
   "source": [
    "# `.iloc` for numerical indicies into both rows and columns, otherwise working like `.loc`\n",
    "df.iloc[-1, :]"
   ]
  },
  {
   "cell_type": "code",
   "execution_count": null,
   "id": "424fd495-c1b0-4501-9f00-80054c22ed8d",
   "metadata": {},
   "outputs": [],
   "source": [
    "# logical indexing will simply set all non-selected values to NaN\n",
    "df[df > 3]"
   ]
  },
  {
   "cell_type": "code",
   "execution_count": null,
   "id": "4ee420a7-809e-4b1e-8693-00f3307a5249",
   "metadata": {},
   "outputs": [],
   "source": [
    "# use dropna to actuall git rid of extra rows/columns\n",
    "df[df > 3].dropna(how='any')"
   ]
  },
  {
   "cell_type": "code",
   "execution_count": null,
   "id": "ac851c99-e166-4ac1-a1a0-5af76187bf7a",
   "metadata": {},
   "outputs": [],
   "source": [
    "# decide on dropping rows where any value is NaN, or all values are NaN\n",
    "df[df > 3].dropna(how='all')"
   ]
  },
  {
   "cell_type": "code",
   "execution_count": null,
   "id": "8faecc23-226c-44d3-8c0c-e431ebe717c9",
   "metadata": {},
   "outputs": [],
   "source": [
    "# you can again add columns (or rows) using indexing + assignment\n",
    "df['new_column'] = [11, 12, 13, 14, 15]\n",
    "df"
   ]
  },
  {
   "cell_type": "code",
   "execution_count": null,
   "id": "2f749e92-7142-45c8-928c-a7649db0af36",
   "metadata": {},
   "outputs": [],
   "source": [
    "# obviously the length needs to be broadcastable\n",
    "df['new_column'] = [11, 12, 13]"
   ]
  },
  {
   "cell_type": "code",
   "execution_count": null,
   "id": "a22623ca-d20b-4bd9-8e90-759eef097278",
   "metadata": {},
   "outputs": [],
   "source": [
    "# broadcasting works just fine here\n",
    "df['new_column'] = 5\n",
    "df"
   ]
  },
  {
   "cell_type": "code",
   "execution_count": null,
   "id": "ba05eb4b-ab7c-451e-835c-a090ff71a5d8",
   "metadata": {},
   "outputs": [],
   "source": [
    "# same for rows, using loc\n",
    "df.loc['f', :] = [6, 6., 5]\n",
    "df"
   ]
  },
  {
   "cell_type": "code",
   "execution_count": null,
   "id": "3b77a8b7-5155-4ead-be40-4cda2cac6c61",
   "metadata": {},
   "outputs": [],
   "source": [
    "# or both could be new\n",
    "df.loc['g', 'some_column'] = 42\n",
    "df"
   ]
  },
  {
   "cell_type": "markdown",
   "id": "5ac6dbad-6109-474d-829d-942caff7922f",
   "metadata": {},
   "source": [
    "### Automatic Alignment\n",
    "- for `DataFrame`s alignment happens on both rows and columns"
   ]
  },
  {
   "cell_type": "code",
   "execution_count": null,
   "id": "ba1231fd-a862-4ca0-bbb0-56934d3d93ea",
   "metadata": {},
   "outputs": [],
   "source": [
    "df1 = pd.DataFrame(np.ones((6, 4)), columns=['A', 'B', 'C', 'D'], index=['a', 'b', 'c', 'd', 'e', 'f'])\n",
    "df2 = pd.DataFrame(np.ones((3, 3)), columns=['A', 'C', 'D'], index=['b', 'd', 'f'])\n",
    "df1 + df2\n"
   ]
  },
  {
   "cell_type": "code",
   "execution_count": null,
   "id": "7f85800b-7aca-47d3-bae9-bda4c0bf42f6",
   "metadata": {},
   "outputs": [],
   "source": [
    "# but you can manually specify a 'fill value' to use if one of the DataFrames is NaN\n",
    "df1.add(df2, fill_value=0)"
   ]
  },
  {
   "cell_type": "code",
   "execution_count": null,
   "id": "347b6711-09af-4d27-be3b-648ed994975a",
   "metadata": {},
   "outputs": [],
   "source": [
    "df = pd.DataFrame(np.arange(15).reshape(5, 3), columns=['A', 'B', 'C'])\n",
    "df"
   ]
  },
  {
   "cell_type": "code",
   "execution_count": null,
   "id": "76162946-d171-4f81-a738-bfdea14ba2b5",
   "metadata": {},
   "outputs": [],
   "source": [
    "# operations between DataFrames and Series are broadcast row-wise\n",
    "s = pd.Series([1, 1, 1], index=['A', 'B', 'C'])\n",
    "df - s"
   ]
  },
  {
   "cell_type": "code",
   "execution_count": null,
   "id": "8e62793b-7715-4146-ac6e-c710c0ffa80b",
   "metadata": {},
   "outputs": [],
   "source": [
    "# but only if the indices match will the result make much sense (automatic alignment again)\n",
    "s = pd.Series([1, 1, 1], index=['X', 'B', 'Z'])\n",
    "df - s"
   ]
  },
  {
   "cell_type": "code",
   "execution_count": null,
   "id": "368fb83b-4bfa-4922-8fbf-fb929f85f173",
   "metadata": {},
   "outputs": [],
   "source": [
    "# so subtracting eg one columns from the rest doesn't work the way you think:\n",
    "df - df.C"
   ]
  },
  {
   "cell_type": "code",
   "execution_count": null,
   "id": "cbd98748-0770-4e83-a474-c1345628adb2",
   "metadata": {},
   "outputs": [],
   "source": [
    "# you can use explicit dataframe methods if you want to apply arithmetic column-wise, specifying an axis\n",
    "df.sub(df.C, axis=0)"
   ]
  },
  {
   "cell_type": "markdown",
   "id": "b1747b8d-3467-411c-8ff1-e2ad0108c71e",
   "metadata": {},
   "source": [
    "## Truthiness and comparison of DataFrames"
   ]
  },
  {
   "cell_type": "code",
   "execution_count": null,
   "id": "96284206-eb7d-4e9f-baf5-22cbb52ecfb6",
   "metadata": {},
   "outputs": [],
   "source": [
    "data = {\n",
    "    'first_column': [1, 2, 3, 4, 5],\n",
    "    'second_column': [1, 2, 3.1415, 4, 5]\n",
    "}\n",
    "df = pd.DataFrame(data, index = ['a', 'b', 'c', 'd', 'e'])\n",
    "df"
   ]
  },
  {
   "cell_type": "code",
   "execution_count": null,
   "id": "c83443ce-859e-45a3-b4d2-3ef124a9b14e",
   "metadata": {},
   "outputs": [],
   "source": [
    "if df > 0:\n",
    "    print('It is indeed greater than 0')"
   ]
  },
  {
   "cell_type": "code",
   "execution_count": null,
   "id": "c3efe7d9-8e48-47b0-9904-663d3bbbf88f",
   "metadata": {},
   "outputs": [],
   "source": [
    "boolean_df = df > 0\n",
    "boolean_df"
   ]
  },
  {
   "cell_type": "code",
   "execution_count": null,
   "id": "a0fe3401-f606-433d-af42-b9848d808004",
   "metadata": {},
   "outputs": [],
   "source": [
    "boolean_df.all()"
   ]
  },
  {
   "cell_type": "code",
   "execution_count": null,
   "id": "2f7deb72-ba9a-4a6c-bb19-64115f33b1b6",
   "metadata": {},
   "outputs": [],
   "source": [
    "boolean_df.all(axis=1)"
   ]
  },
  {
   "cell_type": "code",
   "execution_count": null,
   "id": "f6be9920-76c8-4828-8c74-ae1156809e5e",
   "metadata": {},
   "outputs": [],
   "source": [
    "boolean_df.all().all()"
   ]
  },
  {
   "cell_type": "code",
   "execution_count": null,
   "id": "6937012a-dc2a-4fa5-a897-82f7f283c911",
   "metadata": {},
   "outputs": [],
   "source": [
    "if boolean_df.all().all():\n",
    "    print('Actually, all the elements are True')"
   ]
  },
  {
   "cell_type": "code",
   "execution_count": null,
   "id": "5a7c41a8-631d-4429-a704-10b9109c77c1",
   "metadata": {},
   "outputs": [],
   "source": [
    "df.loc['a', 'first_column'] = np.NaN\n",
    "df"
   ]
  },
  {
   "cell_type": "code",
   "execution_count": null,
   "id": "99122f06-e6e7-42d9-8528-fa380f6716ed",
   "metadata": {},
   "outputs": [],
   "source": [
    "# NaNs hiding in a DataFrame can make some things suprisingly false\n",
    "df + df == 2*df"
   ]
  },
  {
   "cell_type": "code",
   "execution_count": null,
   "id": "09f6713f-a1a9-4719-9ceb-fe5f09f3e9e5",
   "metadata": {},
   "outputs": [],
   "source": [
    "(df + df == 2*df).all().all()"
   ]
  },
  {
   "cell_type": "code",
   "execution_count": null,
   "id": "f9ce9165-8b45-4d76-90b7-2ce57b87ad28",
   "metadata": {},
   "outputs": [],
   "source": [
    "# use `equals` to compare dataframes for equality instead\n",
    "(df + df).equals(2*df)"
   ]
  },
  {
   "cell_type": "markdown",
   "id": "e5b9c53a-c96e-4f06-8cf3-3e7cecc77b97",
   "metadata": {},
   "source": [
    "## Summarizing DataFrames"
   ]
  },
  {
   "cell_type": "code",
   "execution_count": null,
   "id": "724a9ffd-afe2-4bb6-b86b-01d098d8c84e",
   "metadata": {},
   "outputs": [],
   "source": [
    "df = pd.read_csv('../data/iris.csv')"
   ]
  },
  {
   "cell_type": "code",
   "execution_count": null,
   "id": "f03064a9-1c4f-4572-973f-06f58092aa2a",
   "metadata": {},
   "outputs": [],
   "source": [
    "# by default a limited number of rows (and columns) is printed\n",
    "df"
   ]
  },
  {
   "cell_type": "code",
   "execution_count": null,
   "id": "4886c833-f3c8-4c59-9ffb-d405cdc88ab4",
   "metadata": {},
   "outputs": [],
   "source": [
    "# look only at the first N rows\n",
    "df.head(5)"
   ]
  },
  {
   "cell_type": "code",
   "execution_count": null,
   "id": "2d57a39f-4e5b-4750-89bb-dea8ef07aa46",
   "metadata": {},
   "outputs": [],
   "source": [
    "# or the last N rows\n",
    "df.tail(3)"
   ]
  },
  {
   "cell_type": "code",
   "execution_count": null,
   "id": "78270603-199a-4370-9bc0-2fa1ef6a843a",
   "metadata": {},
   "outputs": [],
   "source": [
    "# get some overview of datatypes and NULL/NaN values\n",
    "df.info()"
   ]
  },
  {
   "cell_type": "code",
   "execution_count": null,
   "id": "1c928532-79d8-4529-a81f-e4d9c162ff6f",
   "metadata": {},
   "outputs": [],
   "source": [
    "# or some descriptive statistics (leaving out non-numeric columns)\n",
    "# (you can specify your own percentiles, too)\n",
    "df.describe()"
   ]
  },
  {
   "cell_type": "code",
   "execution_count": null,
   "id": "cfec4d32-b347-4136-9856-ba997c9698d7",
   "metadata": {},
   "outputs": [],
   "source": [
    "# describe also works on some non-numeric columns, just not in combination with numerical columns)\n",
    "df.variety.describe()"
   ]
  },
  {
   "cell_type": "code",
   "execution_count": null,
   "id": "5a03429f-4212-4885-ad11-8950fa3779ff",
   "metadata": {},
   "outputs": [],
   "source": [
    "# unless you force it\n",
    "df.describe(include='all')"
   ]
  },
  {
   "cell_type": "markdown",
   "id": "610a71d8-9193-493c-ab54-3a7e3e01d9a1",
   "metadata": {},
   "source": [
    "## sorting DataFrames"
   ]
  },
  {
   "cell_type": "code",
   "execution_count": null,
   "id": "435f2763-026b-41f6-9b8f-f74a01db4775",
   "metadata": {},
   "outputs": [],
   "source": [
    "df = pd.DataFrame(\n",
    "    np.random.randint(low=3, high=17, size=(5, 3)),\n",
    "    columns=['col_1', 'col_2', 'col_3'],\n",
    "    index=['e', 'a', 'x', 'y', 'b']\n",
    ")\n",
    "df"
   ]
  },
  {
   "cell_type": "code",
   "execution_count": null,
   "id": "9ec7a2ea-9fc5-450f-a91d-08c40fcf5f2a",
   "metadata": {},
   "outputs": [],
   "source": [
    "# sort by index\n",
    "df.sort_index()"
   ]
  },
  {
   "cell_type": "code",
   "execution_count": null,
   "id": "11b02429-3855-4c3d-a56c-631bec93b5cd",
   "metadata": {},
   "outputs": [],
   "source": [
    "# sort by the values in one column\n",
    "df.sort_values(['col_1'])"
   ]
  },
  {
   "cell_type": "code",
   "execution_count": null,
   "id": "e0cd2583-8ad2-4221-a379-b9a997f3d25a",
   "metadata": {},
   "outputs": [],
   "source": [
    "# or by multiple columns (if there are ties in the first column)\n",
    "df.sort_values(['col_1', 'col_3'])"
   ]
  },
  {
   "cell_type": "markdown",
   "id": "f8c01c4c-609e-41c1-8a87-48bb0939e184",
   "metadata": {},
   "source": [
    "## `query` for convenient filtering"
   ]
  },
  {
   "cell_type": "code",
   "execution_count": null,
   "id": "067a6ed3-4911-4d31-865b-0f1704f25077",
   "metadata": {},
   "outputs": [],
   "source": [
    "df = pd.read_csv('../data/iris.csv')"
   ]
  },
  {
   "cell_type": "code",
   "execution_count": null,
   "id": "7bb01449-6c81-4936-a66d-450154c054fb",
   "metadata": {},
   "outputs": [],
   "source": [
    "# not so super convenient to read\n",
    "df[((df.variety == 'Setosa') & (df['petal_width'] > 0.4)) | ((df.variety == 'Virginica') & (df['sepal_width'] > 3.5))]"
   ]
  },
  {
   "cell_type": "code",
   "execution_count": null,
   "id": "383486d7-4d80-4e8e-81bd-20eba634182b",
   "metadata": {},
   "outputs": [],
   "source": [
    "# use a query string instead\n",
    "\n",
    "df.query('(variety == \"Setosa\" and petal_width > 0.4) or (variety == \"Virginica\" and sepal_width > 3.5)')"
   ]
  },
  {
   "cell_type": "code",
   "execution_count": null,
   "id": "c605f3ae-3007-456b-81f2-43dbffacbec1",
   "metadata": {},
   "outputs": [],
   "source": [
    "# of course you can just refer to column values in both sides of the comparison, and you can do math in the query...\n",
    "df.query('sepal_length < 1.1*petal_length')"
   ]
  },
  {
   "cell_type": "code",
   "execution_count": null,
   "id": "1eab9e5f-4df0-49cc-8341-b99cb8c45dd0",
   "metadata": {},
   "outputs": [],
   "source": [
    "# sometimes column names are not valid python identifiers:\n",
    "renamed_df = df.rename(columns={'sepal_length': 'sepal length'})\n",
    "renamed_df.head(3)"
   ]
  },
  {
   "cell_type": "code",
   "execution_count": null,
   "id": "a1408fec-5608-4da5-832f-de43e2192b29",
   "metadata": {},
   "outputs": [],
   "source": [
    "# query doesn't work out of the box then\n",
    "renamed_df.query('sepal length > 7')"
   ]
  },
  {
   "cell_type": "code",
   "execution_count": null,
   "id": "647232f6-9028-4cd1-b0a5-7b1cad5ea2f0",
   "metadata": {},
   "outputs": [],
   "source": [
    "# but you can use backticks to escape such variable names\n",
    "renamed_df.query('`sepal length` > 7')"
   ]
  },
  {
   "cell_type": "code",
   "execution_count": null,
   "id": "0d9cf655-e5d3-4072-bc2a-7e259d4a954f",
   "metadata": {},
   "outputs": [],
   "source": [
    "# you can refer to external variables by pre-fixing them with an @-sign\n",
    "min_sepal_length = 7\n",
    "df.query('sepal_length > @min_sepal_length')"
   ]
  },
  {
   "cell_type": "markdown",
   "id": "0b6404d1-01ba-40b7-a148-75e9116fe96f",
   "metadata": {},
   "source": [
    "## aggregations\n",
    "- return a single value for a series\n",
    "- usually applied per-column (but could also be applied per-row)\n",
    "- easy methods for aggregating multiple columns with multiple aggregation functions\n",
    "- revisit later with windowing/grouping"
   ]
  },
  {
   "cell_type": "markdown",
   "id": "19bbce76-bdff-41ec-a934-78de567931a1",
   "metadata": {},
   "source": [
    "**there are a large number of such functions we could apply**\n",
    "- count: Number of non-NA observations\n",
    "- sum: Sum of values\n",
    "- prod: Product of values\n",
    "- mean: Mean of values\n",
    "- std: Sample standard deviation\n",
    "- sem: Standard error of the mean\n",
    "- var: Unbiased variance\n",
    "- skew: Sample skewness (3rd moment)\n",
    "- kurt: Sample kurtosis (4th moment)\n",
    "- median: Arithmetic median of values\n",
    "- quantile: Sample quantile (value at %)\n",
    "- min/max: Smalles/Largest value\n",
    "- idxmin/idxmax: Index of smallest/largest value\n",
    "- mode: Most frequent value\n",
    "- nunique: number of unique values\n",
    "- cumsum/comprod: Cumulative sum/product\n",
    "- cummax/cummin: Cumulative maximum/minimum\n",
    "- ... probably more that I forgot"
   ]
  },
  {
   "cell_type": "code",
   "execution_count": null,
   "id": "b1644d6d-fb4c-4566-a973-3d05c8e19fcf",
   "metadata": {},
   "outputs": [],
   "source": [
    "df = pd.read_csv('../data/iris.csv')"
   ]
  },
  {
   "cell_type": "code",
   "execution_count": null,
   "id": "7da16e2f-62c6-42e9-9554-7d1ca08387f2",
   "metadata": {},
   "outputs": [],
   "source": [
    "# applying an aggregation function to a dataframe applies the function column-wise\n",
    "df.drop(columns='variety').mean()"
   ]
  },
  {
   "cell_type": "code",
   "execution_count": null,
   "id": "ccec0df3-82f6-4401-8b02-d1bab9e94d71",
   "metadata": {},
   "outputs": [],
   "source": [
    "# I can apply it row-wise using the `axis` parameter\n",
    "df.drop(columns='variety').mean(axis=1)"
   ]
  },
  {
   "cell_type": "code",
   "execution_count": null,
   "id": "f1aba383-7865-4c5e-96a4-6034ac0f0029",
   "metadata": {},
   "outputs": [],
   "source": [
    "# sometimes we want to apply multiple aggregations, there's a convenient helper `aggregate`\n",
    "df.drop(columns='variety').aggregate(['sum', 'mean', 'median', 'nunique'])"
   ]
  },
  {
   "cell_type": "code",
   "execution_count": null,
   "id": "7d515101-377c-41e4-b49d-d78e5ff4f03d",
   "metadata": {},
   "outputs": [],
   "source": [
    "# you can use your own functions -- the argument will be a series\n",
    "# but the name is not very nice now...\n",
    "df.drop(columns='variety').aggregate([lambda x: sum(x), lambda x: x.median()])"
   ]
  },
  {
   "cell_type": "code",
   "execution_count": null,
   "id": "6c4ddb56-21f6-4860-847a-54b20c336db2",
   "metadata": {},
   "outputs": [],
   "source": [
    "def my_mean(s: pd.Series) -> float | str:\n",
    "    if s.dtype.name != 'object':\n",
    "        return sum(s) / len(s)\n",
    "    return '<CAN NOT AGGREGATE OBJECTS>'"
   ]
  },
  {
   "cell_type": "code",
   "execution_count": null,
   "id": "30a9c1be-3651-4856-b3df-2073476b4ffc",
   "metadata": {},
   "outputs": [],
   "source": [
    "# if I used named functions rather than lambdas, the name of the function is assigned\n",
    "df.aggregate([my_mean])"
   ]
  },
  {
   "cell_type": "code",
   "execution_count": null,
   "id": "30b15198-2475-4688-bfb8-f14bcfc7ad68",
   "metadata": {},
   "outputs": [],
   "source": [
    "# I can also use aggregate with dictionary arguments, allowing me to apply separate functions for each column\n",
    "df.aggregate(\n",
    "    {\n",
    "        'sepal_length': 'mean',\n",
    "        'sepal_width': ['min', 'max']\n",
    "    }\n",
    ")"
   ]
  },
  {
   "cell_type": "code",
   "execution_count": null,
   "id": "8f04a959-0458-48e6-896a-3c85ad75667e",
   "metadata": {},
   "outputs": [],
   "source": [
    "# finally, you can use named arguments to select columns /and/ rename the output label\n",
    "df.aggregate(\n",
    "    sepal_length_mean=('sepal_length', lambda x: x.mean()),\n",
    "    sepal_width_max=('sepal_width', lambda x: x.max()),\n",
    ")"
   ]
  },
  {
   "cell_type": "code",
   "execution_count": null,
   "id": "e9aabaf3-ffbb-4873-933c-6e502b0b1779",
   "metadata": {},
   "outputs": [],
   "source": [
    "# `agg` is an alias for `aggregate`\n",
    "# documentation actually recommends using the `agg` alias\n",
    "df.agg == df.aggregate"
   ]
  },
  {
   "cell_type": "markdown",
   "id": "24cb4e8a-1574-423f-8ef5-fb188181b0d8",
   "metadata": {},
   "source": [
    "## Special Accessors\n",
    "- `.str` for string columns\n",
    "- `.dt` for timestamp columns"
   ]
  },
  {
   "cell_type": "markdown",
   "id": "f1ad78e0-1462-4047-98f6-d47bce9fcfba",
   "metadata": {},
   "source": [
    "### `str` accessor\n",
    "- makes string functions (eg `upper`, `lower`, indexing, ...) available as vectorized methods on a Series"
   ]
  },
  {
   "cell_type": "code",
   "execution_count": null,
   "id": "4d31accb-b0b1-4869-9800-05ac906ba09a",
   "metadata": {},
   "outputs": [],
   "source": [
    "df = pd.DataFrame(\n",
    "    {\n",
    "        'numeric': [1, 2, 3.1415, 4, 5],\n",
    "        'text': ['hello', 'world', 'aint', 'this', 'fun']\n",
    "    })\n",
    "df"
   ]
  },
  {
   "cell_type": "code",
   "execution_count": null,
   "id": "dd8a73f6-ed3d-4700-89a7-a9ee4fed5d3c",
   "metadata": {},
   "outputs": [],
   "source": [
    "# just a normal row index\n",
    "df.text[0]"
   ]
  },
  {
   "cell_type": "code",
   "execution_count": null,
   "id": "aacf5ff9-b97b-47bc-a473-c1c59171bad2",
   "metadata": {},
   "outputs": [],
   "source": [
    "# vectorized, returning the first character of each element\n",
    "df['first_character'] = df.text.str[0]\n",
    "df"
   ]
  },
  {
   "cell_type": "code",
   "execution_count": null,
   "id": "a3029149-67e7-42cd-8a7b-f1c4bfed8167",
   "metadata": {},
   "outputs": [],
   "source": [
    "df['has_a'] = df.text.str.contains('a')\n",
    "df"
   ]
  },
  {
   "cell_type": "markdown",
   "id": "29136867-8aef-4166-8d69-560cefe3c373",
   "metadata": {},
   "source": [
    "### `.dt`-accessor\n",
    "- just like the string accessor, but for datetime objects"
   ]
  },
  {
   "cell_type": "code",
   "execution_count": null,
   "id": "0cdd8013-1c7e-4c4c-8773-f6575dca0745",
   "metadata": {},
   "outputs": [],
   "source": [
    "df = pd.DataFrame({'ts': pd.date_range(\"20221201 09:10:12\", periods=4, freq='M', tz='utc'), 'value': np.arange(4)})\n",
    "df"
   ]
  },
  {
   "cell_type": "code",
   "execution_count": null,
   "id": "43e09647-6c72-4bc3-9ec4-f67751dedbf1",
   "metadata": {},
   "outputs": [],
   "source": [
    "df.ts.dt.month_name()"
   ]
  },
  {
   "cell_type": "code",
   "execution_count": null,
   "id": "2ec5dfea-f6af-4bec-92f1-907b12ede0cb",
   "metadata": {},
   "outputs": [],
   "source": [
    "df.ts.dt.month"
   ]
  },
  {
   "cell_type": "markdown",
   "id": "2e2e963d-eeb5-4542-9e84-cc4fd05ca836",
   "metadata": {},
   "source": [
    "## apply functions to DataFrames\n",
    "- apply functions to a whole table: `pipe`\n",
    "- apply functions to rows/columns: `apply`\n",
    "- apply functions to each element: `map`\n",
    "- apply multiple functions to each element: `transform`"
   ]
  },
  {
   "cell_type": "markdown",
   "id": "d1f516c9-16d9-4f2c-8f2f-64c66b5fe1a0",
   "metadata": {},
   "source": [
    "### pipe\n",
    "- function argument is a dataframe\n",
    "- function return is a dataframe"
   ]
  },
  {
   "cell_type": "code",
   "execution_count": null,
   "id": "5c71137a-1f48-4d13-b9b2-0654713faf2a",
   "metadata": {},
   "outputs": [],
   "source": [
    "address_df = pd.DataFrame(dict(address = ['Frau Dr. Ute Herzog,  Esplanade 89,  31759 Teugn', 'Gaby Maier, Landsberger Allee 59, 31759 München']))\n",
    "address_df"
   ]
  },
  {
   "cell_type": "code",
   "execution_count": null,
   "id": "44f3335b-e518-4c7b-80c0-e72ba1e990a1",
   "metadata": {},
   "outputs": [],
   "source": [
    "def extract_postcode_city(df):\n",
    "    df['postcode_city'] = df['address'].str.split(',').str.get(-1).str.strip()\n",
    "    return df\n",
    "\n",
    "def extract_postcode(df):\n",
    "    df['postcode'] = df['postcode_city'].str.split(' ').str.get(0).str.strip()\n",
    "    return df\n",
    "\n",
    "def extract_name(df):\n",
    "    df['name'] = df['address'].str.split(',').str.get(0).str.strip()\n",
    "    return df\n",
    "\n",
    "def add_country_name(df, country):\n",
    "    df['country'] = country\n",
    "    return df"
   ]
  },
  {
   "cell_type": "code",
   "execution_count": null,
   "id": "ecc7b6ed-dd24-4a1b-8dce-740e23b9b85f",
   "metadata": {},
   "outputs": [],
   "source": [
    "# applying all three is not very nice to read\n",
    "extract_name(add_country_name(extract_postcode(extract_postcode_city(address_df)), ' DE'))"
   ]
  },
  {
   "cell_type": "code",
   "execution_count": null,
   "id": "e64718a6-5e6a-406d-ba4b-9a00644dfc21",
   "metadata": {},
   "outputs": [],
   "source": [
    "## not much better if you spread it out over multiple lines\n",
    "extract_name(\n",
    "    add_country_name(\n",
    "        extract_postcode(\n",
    "            extract_postcode_city(address_df)\n",
    "        ),\n",
    "        ' DE'\n",
    "    )\n",
    ")"
   ]
  },
  {
   "cell_type": "code",
   "execution_count": null,
   "id": "15a00d77-c091-483d-a128-26f5bcf2c5c1",
   "metadata": {},
   "outputs": [],
   "source": [
    "# much nicer to read with `pipe`\n",
    "(\n",
    "  address_df\n",
    "    .pipe(extract_postcode_city)\n",
    "    .pipe(extract_postcode)\n",
    "    .pipe(add_country_name, 'DE')\n",
    "    .pipe(extract_name)\n",
    ")"
   ]
  },
  {
   "cell_type": "markdown",
   "id": "f8c1fb8c-5ed9-4e3c-b4c5-adc30a2b7553",
   "metadata": {},
   "source": [
    "### apply\n",
    "- function argument is a series\n",
    "- function return is a pd.Series or a scalar\n",
    "  - if the function returns a Series, `apply` returns a DataFrame\n",
    "  - if the function returns a scalar, `apply` returns a Series\n",
    "- the function is applied to all rows or columns of the `DataFrame` by `apply`"
   ]
  },
  {
   "cell_type": "code",
   "execution_count": null,
   "id": "a9cfe3d9-4dfa-4a46-86a5-9b2101a8486f",
   "metadata": {},
   "outputs": [],
   "source": [
    "# example where the function returns a Series\n",
    "def scale_min_max(s: pd.Series) -> pd.Series:\n",
    "    return (s - s.min()) / (s.max() - s.min())"
   ]
  },
  {
   "cell_type": "code",
   "execution_count": null,
   "id": "d12af5dd-a0c0-42f9-bdea-ed6ed4d20171",
   "metadata": {},
   "outputs": [],
   "source": [
    "df = pd.DataFrame(np.random.randint(low=3, high=17, size=(5, 3)), columns=['col_1', 'col_2', 'col_3'])\n",
    "df"
   ]
  },
  {
   "cell_type": "code",
   "execution_count": null,
   "id": "9c91295a-7f53-4b15-adca-c27e93740b68",
   "metadata": {},
   "outputs": [],
   "source": [
    "# apply our min-max-scaler to each column separately\n",
    "df.apply(scale_min_max)"
   ]
  },
  {
   "cell_type": "code",
   "execution_count": null,
   "id": "43b10df3-d651-47ff-8b6c-094eb9321cee",
   "metadata": {},
   "outputs": [],
   "source": [
    "# or apply it to each row...\n",
    "df.apply(scale_min_max, axis=1)"
   ]
  },
  {
   "cell_type": "code",
   "execution_count": null,
   "id": "f5a870d1-c8a7-4e83-a462-9aded9cc2665",
   "metadata": {},
   "outputs": [],
   "source": [
    "def min_max_index_diff(s: pd.Series) -> int:\n",
    "    return s.idxmax() - s.idxmin()"
   ]
  },
  {
   "cell_type": "code",
   "execution_count": null,
   "id": "4a9e47de-8590-40ce-a30e-cff4989f0922",
   "metadata": {},
   "outputs": [],
   "source": [
    "df.apply(min_max_index_diff)"
   ]
  },
  {
   "cell_type": "markdown",
   "id": "e73377d6-3548-4d3e-b8f9-e4ea3fa943b2",
   "metadata": {},
   "source": [
    "### map\n",
    "- function argument is a scalar\n",
    "- return value is a scalar\n",
    "- return value of `map` is a `DataFrame`\n",
    "- the function is applied to all elements of the DataFrame by `map`"
   ]
  },
  {
   "cell_type": "code",
   "execution_count": null,
   "id": "61785be0-c150-4af2-8260-c6725eb47334",
   "metadata": {},
   "outputs": [],
   "source": [
    "df = pd.DataFrame(\n",
    "    {\n",
    "        'numeric': [1, 2, 3.1415, 4, 5],\n",
    "        'text': ['hello', 'world', 'aint', 'this', 'fun']\n",
    "    })\n",
    "df"
   ]
  },
  {
   "cell_type": "code",
   "execution_count": null,
   "id": "09b7cee3-b4aa-4d01-af81-d6e1727e4fb8",
   "metadata": {},
   "outputs": [],
   "source": [
    "df.map(lambda x: len(str(x)))"
   ]
  },
  {
   "cell_type": "markdown",
   "id": "2d100cd8-1564-48c9-a645-a633cff70a69",
   "metadata": {},
   "source": [
    "### transform\n",
    "- like `map`, but applying multiple functions, and getting a result for each\n",
    "- similar argument syntax to `aggregate`"
   ]
  },
  {
   "cell_type": "code",
   "execution_count": null,
   "id": "7c102699-9a8a-441e-955c-5bc5d0fbbb47",
   "metadata": {},
   "outputs": [],
   "source": [
    "df = pd.DataFrame(np.random.randint(low=3, high=17, size=(5, 3)), columns=['col_1', 'col_2', 'col_3'])\n",
    "df"
   ]
  },
  {
   "cell_type": "code",
   "execution_count": null,
   "id": "cade60ae-52ed-4191-a470-d73f3c7fe943",
   "metadata": {},
   "outputs": [],
   "source": [
    "# columns become a multi-index here, too...\n",
    "df.transform(['sqrt', lambda x: x+1])"
   ]
  },
  {
   "cell_type": "code",
   "execution_count": null,
   "id": "8c11e559-f272-4821-b9b9-b886cd672792",
   "metadata": {},
   "outputs": [],
   "source": [
    "df.transform({'col_1': lambda x: x+1, 'col_2': lambda x: x+2, 'col_3': [lambda x: x+3, 'sqrt']})"
   ]
  },
  {
   "cell_type": "code",
   "execution_count": null,
   "id": "64c421a4-3051-458b-b84b-9ddebcd15156",
   "metadata": {},
   "outputs": [],
   "source": [
    "# but this part of the `aggregate` syntax doesn't work for transform...\n",
    "df.transform(x=('col_1', 'sqrt'))"
   ]
  },
  {
   "cell_type": "markdown",
   "id": "53b5a24e-fc3e-4905-b274-451e50e87545",
   "metadata": {},
   "source": [
    "## cleaning data"
   ]
  },
  {
   "cell_type": "markdown",
   "id": "28d01bf8-b84b-4149-b073-360fa08b6b72",
   "metadata": {},
   "source": [
    "### dealing with NaNs"
   ]
  },
  {
   "cell_type": "code",
   "execution_count": null,
   "id": "46d44fe0-35a0-408c-9199-30a1826d0539",
   "metadata": {},
   "outputs": [],
   "source": [
    "df = pd.DataFrame(np.random.randint(2, 12, size=(3, 4)), columns=['col1', 'col2', 'col3', 'col4'])\n",
    "df.iloc[0, ::2] = np.NaN\n",
    "df.iloc[1, 1::2] = np.NaN\n",
    "df"
   ]
  },
  {
   "cell_type": "code",
   "execution_count": null,
   "id": "78986e5a-6837-4e52-8fd7-dab676708856",
   "metadata": {},
   "outputs": [],
   "source": [
    "# same shape DataFrame telling you for each element whether it as NA\n",
    "df.isna()"
   ]
  },
  {
   "cell_type": "code",
   "execution_count": null,
   "id": "01608175-c577-4ca3-ab23-02f259428631",
   "metadata": {},
   "outputs": [],
   "source": [
    "# opposite of the above...\n",
    "df.notna()"
   ]
  },
  {
   "cell_type": "code",
   "execution_count": null,
   "id": "0ae940e2-483a-4df3-bfe9-b23216707844",
   "metadata": {},
   "outputs": [],
   "source": [
    "# many of the aggregation functions ignore NAs by default\n",
    "df.mean()"
   ]
  },
  {
   "cell_type": "code",
   "execution_count": null,
   "id": "806ded4a-1464-448b-bb39-6f10b1e9fed3",
   "metadata": {},
   "outputs": [],
   "source": [
    "# you can replace NA values by something new\n",
    "df.fillna(-1)"
   ]
  },
  {
   "cell_type": "code",
   "execution_count": null,
   "id": "9ac3747a-b11b-4933-8ef8-71b2ec2a6ddc",
   "metadata": {},
   "outputs": [],
   "source": [
    "# but you can also impute e.g. mean (or any other value) per column\n",
    "df.fillna(df.mean())"
   ]
  },
  {
   "cell_type": "code",
   "execution_count": null,
   "id": "0d46ff70-033f-4888-81ca-6c9f27200820",
   "metadata": {},
   "outputs": [],
   "source": [
    "# reminder, this is what `df.mean()` looked like:\n",
    "df.mean()"
   ]
  },
  {
   "cell_type": "code",
   "execution_count": null,
   "id": "c21675ae-970c-4a87-80e7-bef89917d139",
   "metadata": {},
   "outputs": [],
   "source": [
    "# so this also works (unspecified columns are simply skipped):\n",
    "df.fillna(pd.Series({'col1': -5, 'col3': -7}))"
   ]
  },
  {
   "cell_type": "code",
   "execution_count": null,
   "id": "96860e8f-bcfc-4f0f-be48-e0ca1acf8d03",
   "metadata": {},
   "outputs": [],
   "source": [
    "# and you don't even need the series, just use a dict\n",
    "df.fillna({'col1': -5, 'col3': -7})"
   ]
  },
  {
   "cell_type": "markdown",
   "id": "a422b22d-3e0b-451c-968d-c5a68733de5f",
   "metadata": {},
   "source": [
    "### duplicate rows"
   ]
  },
  {
   "cell_type": "code",
   "execution_count": null,
   "id": "ed57999f-76ce-4d7b-a22b-0a808e7cc4f1",
   "metadata": {},
   "outputs": [],
   "source": [
    "df = pd.DataFrame({\n",
    "    'id': ['foo', 'bar', 'foo', 'bazz', 'bazz'],\n",
    "    'color': ['red', 'red', 'green', 'blue', 'blue'],\n",
    "    'length': [1, 2, 3, 2, 2]\n",
    "})\n",
    "df"
   ]
  },
  {
   "cell_type": "code",
   "execution_count": null,
   "id": "aaf47212-938c-422a-846d-3432932e661b",
   "metadata": {},
   "outputs": [],
   "source": [
    "# find rows that are all duplicates\n",
    "df.duplicated()"
   ]
  },
  {
   "cell_type": "code",
   "execution_count": null,
   "id": "b73c38b1-8446-47cd-9d9d-063c3520fef1",
   "metadata": {},
   "outputs": [],
   "source": [
    "# find rows where some columns are duplicated\n",
    "df.duplicated(['id'])"
   ]
  },
  {
   "cell_type": "code",
   "execution_count": null,
   "id": "ab6a0a94-a59b-4b63-8a0e-5321188d2fba",
   "metadata": {},
   "outputs": [],
   "source": [
    "# drop rows that are full duplicates\n",
    "df.drop_duplicates()"
   ]
  },
  {
   "cell_type": "code",
   "execution_count": null,
   "id": "302d5ff4-5300-414c-b7f3-46931d123b01",
   "metadata": {},
   "outputs": [],
   "source": [
    "# drop rows that are partial duplicates\n",
    "df.drop_duplicates(['id'])"
   ]
  },
  {
   "cell_type": "code",
   "execution_count": null,
   "id": "5b9996b3-f055-4729-90bd-447667dfb8ad",
   "metadata": {},
   "outputs": [],
   "source": [
    "# by default you keep the first row\n",
    "# of course you can change that\n",
    "df.drop_duplicates(['id'], keep='last')"
   ]
  },
  {
   "cell_type": "markdown",
   "id": "4d6440ca-974c-4473-9619-b29a2d200043",
   "metadata": {},
   "source": [
    "## group-by\n",
    "- group dataframe by value in one or multiple columns\n",
    "- and apply functions to the groups\n",
    "  - **aggregating** functions: calculate one value per group (and column), e.g. group means\n",
    "  - **transforming** functions: modify all group values with some group-specific function e.g. scaling by group\n",
    "  - **filter** functions: discard some groups based on group-specific criteria, e.g. discard small groups"
   ]
  },
  {
   "cell_type": "code",
   "execution_count": null,
   "id": "4252c873-4143-4a4a-a9c7-eeba7ee01fcd",
   "metadata": {},
   "outputs": [],
   "source": [
    "df = pd.read_csv('../data/iris.csv')\n",
    "df.head(3)"
   ]
  },
  {
   "cell_type": "code",
   "execution_count": null,
   "id": "f1a7809b-f961-4f03-bbec-fe86dd25e67d",
   "metadata": {},
   "outputs": [],
   "source": [
    "# groupby returns a `DataFrameGroupBy` object -- not very helpful\n",
    "df.groupby('variety')"
   ]
  },
  {
   "cell_type": "code",
   "execution_count": null,
   "id": "813c5e53-84b7-4fa2-b031-41390561ed6a",
   "metadata": {},
   "outputs": [],
   "source": [
    "# you can get information on the identified groups, and which rows belong to a group\n",
    "df.groupby('variety').groups"
   ]
  },
  {
   "cell_type": "code",
   "execution_count": null,
   "id": "0a378f32-9384-456d-9003-d52328b5b7bd",
   "metadata": {},
   "outputs": [],
   "source": [
    "# and you can pull out a single group\n",
    "df.groupby('variety').get_group('Setosa').head(3)"
   ]
  },
  {
   "cell_type": "markdown",
   "id": "bef2308d-10b0-4889-b640-9992311cbf18",
   "metadata": {},
   "source": [
    "#### aggregation over groups"
   ]
  },
  {
   "cell_type": "code",
   "execution_count": null,
   "id": "296df953-8392-4673-be59-79a0a9ef1c6c",
   "metadata": {},
   "outputs": [],
   "source": [
    "# but mostly, you just call functions on the `GroupBy` object itself; that looks very useful :)\n",
    "# the value of the group-by column becomes the index of the new DataFrame!\n",
    "# (change that behaviour with the `as_index` parameter to `groupby`\n",
    "df.groupby('variety').mean()"
   ]
  },
  {
   "cell_type": "code",
   "execution_count": null,
   "id": "01ab15e3-a05c-4668-9f0a-a2b18b011a62",
   "metadata": {},
   "outputs": [],
   "source": [
    "# you can also group by multiple columns, and get a result for each possible combination\n",
    "\n",
    "df['is_odd'] = np.arange(df.shape[0]) % 2\n",
    "df.groupby(['variety', 'is_odd']).max()"
   ]
  },
  {
   "cell_type": "code",
   "execution_count": null,
   "id": "d513c5ec-698c-411c-85c3-4fd987e07b44",
   "metadata": {},
   "outputs": [],
   "source": [
    "del df['is_odd']"
   ]
  },
  {
   "cell_type": "code",
   "execution_count": null,
   "id": "9a2845f7-a477-46ec-a249-4c6b298cb548",
   "metadata": {},
   "outputs": [],
   "source": [
    "# you can use `aggregate`, just like we saw for the `DataFrame` itself\n",
    "# everything we saw above for aggregate should work here as well\n",
    "df.groupby('variety').aggregate(['min', 'max'])"
   ]
  },
  {
   "cell_type": "markdown",
   "id": "351eb695-89dc-40fa-a41a-985e515c1d31",
   "metadata": {},
   "source": [
    "#### transformation of groups"
   ]
  },
  {
   "cell_type": "code",
   "execution_count": null,
   "id": "30186da5-1dd9-48a3-863e-076f711f83e6",
   "metadata": {},
   "outputs": [],
   "source": [
    "# transformations don't return the group label...\n",
    "df.groupby('variety').cumsum()"
   ]
  },
  {
   "cell_type": "code",
   "execution_count": null,
   "id": "e3122d76-5084-4aee-843e-0d6c388f2336",
   "metadata": {},
   "outputs": [],
   "source": [
    "# usually the transformation result is combined back with the original dataframe\n",
    "combined = pd.concat(\n",
    "    [\n",
    "        df,\n",
    "        df.groupby('variety').cumsum().rename(columns=lambda x: x + '_cumsum')\n",
    "    ],\n",
    "    axis=1\n",
    ")\n",
    "combined[-50:-45]"
   ]
  },
  {
   "cell_type": "code",
   "execution_count": null,
   "id": "e52cee08-b48b-43be-a308-7f4dd97f0f3c",
   "metadata": {},
   "outputs": [],
   "source": [
    "# you can of course still use your own transformation functions\n",
    "# your function is applied to each column in the group separately, so it still accepts a Series\n",
    "def scale_min_max(s: pd.Series) -> pd.Series:\n",
    "    return (s - s.min()) / (s.max() - s.min())\n",
    "\n",
    "df.groupby('variety').transform(scale_min_max)"
   ]
  },
  {
   "cell_type": "markdown",
   "id": "37d30386-3ec4-4a48-8494-d0cd195b8900",
   "metadata": {},
   "source": [
    "#### Filtration\n",
    "- filter, i.e. return some of the rows in each group, specific to the group"
   ]
  },
  {
   "cell_type": "code",
   "execution_count": null,
   "id": "7f1270c3-c01a-49c4-98f4-6d4cc8d0364d",
   "metadata": {},
   "outputs": [],
   "source": [
    "# for example, the two rows for each group with the smalles (thanks to sorting first) values in some column\n",
    "df.sort_values('sepal_length').groupby('variety').head(2)"
   ]
  },
  {
   "cell_type": "code",
   "execution_count": null,
   "id": "ea11b144-15a6-41da-b451-c1f29ad783fd",
   "metadata": {
    "scrolled": true
   },
   "outputs": [],
   "source": [
    "df.groupby('variety').filter(lambda df: df['sepal_width'].mean() > df['petal_length'].mean())"
   ]
  },
  {
   "cell_type": "markdown",
   "id": "07622b66-248f-4b6e-9e2c-d7b836d3a545",
   "metadata": {},
   "source": [
    "## concatenation and joins\n",
    "- you can stack `DataFrame`s on top, or next to each other igoring indices/columns using `concat`\n",
    "- just like in SQL you can also join tables, i.e. combine them along one axis while choosing how to treat the other index\n",
    "  - `merge` is typically used for joins based on column values\n",
    "  - `join` is typically used for joins based on index values"
   ]
  },
  {
   "cell_type": "markdown",
   "id": "c10f7de5-c671-414a-bcb3-f826bb94a367",
   "metadata": {},
   "source": [
    "### concatenation"
   ]
  },
  {
   "cell_type": "code",
   "execution_count": null,
   "id": "c6ea6494-6a9e-434d-9148-43eb3cd7e108",
   "metadata": {},
   "outputs": [],
   "source": [
    "left = pd.DataFrame(\n",
    "    {\n",
    "        \"key1\": [\"K0\", \"K1\", \"K2\", \"K3\"],\n",
    "        \"A\": [\"A0\", \"A1\", \"A2\", \"A3\"],\n",
    "        \"B\": [\"B0\", \"B1\", \"B2\", \"B3\"],\n",
    "    }\n",
    ")\n",
    "\n",
    "right = pd.DataFrame(\n",
    "    {\n",
    "        \"key1\": [\"K5\", \"K6\", \"K7\", \"K8\"],\n",
    "        \"A\": [\"C0\", \"C1\", \"C2\", \"C3\"],\n",
    "        \"B\": [\"D0\", \"D1\", \"D2\", \"D3\"],\n",
    "    }\n",
    ")\n"
   ]
  },
  {
   "cell_type": "code",
   "execution_count": null,
   "id": "15e0bd85-2936-4d91-a70c-46ab367072e0",
   "metadata": {},
   "outputs": [],
   "source": [
    "left"
   ]
  },
  {
   "cell_type": "code",
   "execution_count": null,
   "id": "83041fa4-7911-435c-b8e0-b77e995071bd",
   "metadata": {},
   "outputs": [],
   "source": [
    "right"
   ]
  },
  {
   "cell_type": "code",
   "execution_count": null,
   "id": "80478621-06d3-4f1c-aa72-37fff7547f53",
   "metadata": {},
   "outputs": [],
   "source": [
    "# stack one below the other\n",
    "pd.concat([left, right])"
   ]
  },
  {
   "cell_type": "code",
   "execution_count": null,
   "id": "29211c47-c4f9-4007-9268-a28dfc447f5c",
   "metadata": {},
   "outputs": [],
   "source": [
    "# stack one to the right of the other\n",
    "pd.concat([left, right], axis=1)"
   ]
  },
  {
   "cell_type": "code",
   "execution_count": null,
   "id": "0cbec927-3c22-4bca-a1d9-488600c9a3aa",
   "metadata": {},
   "outputs": [],
   "source": [
    "# same but when the columns/index have different names\n",
    "left = pd.DataFrame(\n",
    "    {\n",
    "        \"key1\": [\"K0\", \"K1\", \"K2\", \"K3\"],\n",
    "        \"A\": [\"A0\", \"A1\", \"A2\", \"A3\"],\n",
    "        \"B\": [\"B0\", \"B1\", \"B2\", \"B3\"],\n",
    "    }\n",
    ")\n",
    "\n",
    "right = pd.DataFrame(\n",
    "    {\n",
    "        \"key2\": [\"K5\", \"K6\", \"K7\", \"K8\"],\n",
    "        \"C\": [\"C0\", \"C1\", \"C2\", \"C3\"],\n",
    "        \"D\": [\"D0\", \"D1\", \"D2\", \"D3\"],\n",
    "    }, index=['a', 'b', 'c', 'd']\n",
    ")\n"
   ]
  },
  {
   "cell_type": "code",
   "execution_count": null,
   "id": "0c6725ac-9cc9-4c89-944b-562b02dfa460",
   "metadata": {},
   "outputs": [],
   "source": [
    "# content irrelevant, but labels preserved\n",
    "pd.concat([left, right])"
   ]
  },
  {
   "cell_type": "code",
   "execution_count": null,
   "id": "1ba09985-0961-40e3-a380-9de6c4f7f1bc",
   "metadata": {},
   "outputs": [],
   "source": [
    "pd.concat([left, right], axis=1)"
   ]
  },
  {
   "cell_type": "code",
   "execution_count": null,
   "id": "7d9c5b74-6599-4507-b196-c1b588182765",
   "metadata": {},
   "outputs": [],
   "source": [
    "# you can e.g. reset the index to come to a more 'common' representations\n",
    "pd.concat([left.reset_index(), right.reset_index()], axis=1)"
   ]
  },
  {
   "cell_type": "markdown",
   "id": "66432669-b9c0-447a-951d-7802fecf8731",
   "metadata": {},
   "source": [
    "### merging dataframes -- joins based on columns"
   ]
  },
  {
   "cell_type": "code",
   "execution_count": null,
   "id": "1474fe10-dc38-492b-9ba7-1fc2eadf2b20",
   "metadata": {},
   "outputs": [],
   "source": [
    "left = pd.DataFrame(\n",
    "    {\n",
    "        \"key1\": [\"K0\", \"K1\", \"K2\", \"K3\"],\n",
    "        \"A\": [\"A0\", \"A1\", \"A2\", \"A3\"],\n",
    "        \"B\": [\"B0\", \"B1\", \"B2\", \"B3\"],\n",
    "    }\n",
    ")\n",
    "\n",
    "right = pd.DataFrame(\n",
    "    {\n",
    "        \n",
    "        \"key1\": [\"K0\", \"K1\", \"K2\", \"K3\"],\n",
    "        \"C\": [\"C0\", \"C1\", \"C2\", \"C3\"],\n",
    "        \"D\": [\"D0\", \"D1\", \"D2\", \"D3\"],\n",
    "    }\n",
    ")"
   ]
  },
  {
   "cell_type": "code",
   "execution_count": null,
   "id": "4a8f86f3-165c-44aa-b54d-14d15ebd0c67",
   "metadata": {},
   "outputs": [],
   "source": [
    "# join two dataframes on the same key\n",
    "pd.merge(left, right, on='key1')"
   ]
  },
  {
   "cell_type": "code",
   "execution_count": null,
   "id": "d1fd0df9-05a2-4927-a796-10beb05f1850",
   "metadata": {},
   "outputs": [],
   "source": [
    "# let's drop a row\n",
    "smaller_right = right.drop(1)\n",
    "smaller_right"
   ]
  },
  {
   "cell_type": "code",
   "execution_count": null,
   "id": "f516ef3c-7c4a-4dc4-a4c8-94ec36a18955",
   "metadata": {},
   "outputs": [],
   "source": [
    "# by default this is an inner join, i.e. only if the index is present in both will it show up in the result\n",
    "pd.merge(left, smaller_right, on='key1')"
   ]
  },
  {
   "cell_type": "code",
   "execution_count": null,
   "id": "72d03104-e147-4f13-a123-96cbea53521c",
   "metadata": {},
   "outputs": [],
   "source": [
    "# you can specify the join type (left/right/inner/outer) through the `how` variable\n",
    "pd.merge(left, smaller_right, how='right')"
   ]
  },
  {
   "cell_type": "code",
   "execution_count": null,
   "id": "335adb07-1f0e-48c7-9434-40d1e27d4a0e",
   "metadata": {},
   "outputs": [],
   "source": [
    "# there can be multiple columns to join on\n",
    "left = pd.DataFrame(\n",
    "    {\n",
    "        \"key1\": [\"K0\", \"K0\", \"K1\", \"K2\"],\n",
    "        \"key2\": [\"K0\", \"K1\", \"K0\", \"K1\"],\n",
    "        \"A\": [\"A0\", \"A1\", \"A2\", \"A3\"],\n",
    "        \"B\": [\"B0\", \"B1\", \"B2\", \"B3\"],\n",
    "    }\n",
    ")\n",
    "\n",
    "right = pd.DataFrame(\n",
    "    {\n",
    "        \"key1\": [\"K0\", \"K1\", \"K1\", \"K2\"],\n",
    "        \"key2\": [\"K0\", \"K0\", \"K0\", \"K0\"],\n",
    "        \"C\": [\"C0\", \"C1\", \"C2\", \"C3\"],\n",
    "        \"D\": [\"D0\", \"D1\", \"D2\", \"D3\"],\n",
    "    }\n",
    ")"
   ]
  },
  {
   "cell_type": "code",
   "execution_count": null,
   "id": "8da4f5f5-8795-4e52-bc03-30eb10c6a013",
   "metadata": {},
   "outputs": [],
   "source": [
    "pd.merge(left, right, on=['key1', 'key2'], how='outer')"
   ]
  },
  {
   "cell_type": "markdown",
   "id": "55d46826-9433-444f-8e40-503265e24952",
   "metadata": {},
   "source": [
    "### join based on indices"
   ]
  },
  {
   "cell_type": "code",
   "execution_count": null,
   "id": "1e3b9ecf-18e7-4762-9d5e-894247617312",
   "metadata": {},
   "outputs": [],
   "source": [
    "# same as before, but now the old `key` columns become the index\n",
    "\n",
    "left = pd.DataFrame(\n",
    "    {\n",
    "        \"A\": [\"A0\", \"A1\", \"A2\", \"A3\"],\n",
    "        \"B\": [\"B0\", \"B1\", \"B2\", \"B3\"],\n",
    "    }, index=[\"K0\", \"K1\", \"K2\", \"K3\"],\n",
    ")\n",
    "\n",
    "right = pd.DataFrame(\n",
    "    {\n",
    "        \"C\": [\"C0\", \"C1\", \"C2\", \"C3\"],\n",
    "        \"D\": [\"D0\", \"D1\", \"D2\", \"D3\"],\n",
    "    }, index=[\"K0\", \"K1\", \"K2\", \"K3\"],\n",
    ")"
   ]
  },
  {
   "cell_type": "code",
   "execution_count": null,
   "id": "2e406c40-d719-4349-ad6a-5a5752a466ef",
   "metadata": {},
   "outputs": [],
   "source": [
    "left"
   ]
  },
  {
   "cell_type": "code",
   "execution_count": null,
   "id": "212c5404-4793-408b-bfd1-8be6a4d7f7ac",
   "metadata": {},
   "outputs": [],
   "source": [
    "right"
   ]
  },
  {
   "cell_type": "code",
   "execution_count": null,
   "id": "fe9e47d5-6b7e-4031-bf61-b73043e99c6b",
   "metadata": {},
   "outputs": [],
   "source": [
    "# join automatically uses the index as join column\n",
    "left.join(right)"
   ]
  },
  {
   "cell_type": "code",
   "execution_count": null,
   "id": "92ec23df-4938-42b0-8e57-b8be0302ef57",
   "metadata": {},
   "outputs": [],
   "source": [
    "small_right = right.drop('K1')"
   ]
  },
  {
   "cell_type": "code",
   "execution_count": null,
   "id": "c6ab3b1f-7229-4364-aad2-27bb4423d695",
   "metadata": {},
   "outputs": [],
   "source": [
    "# default `how` is 'left' this time around\n",
    "left.join(small_right)"
   ]
  },
  {
   "cell_type": "code",
   "execution_count": null,
   "id": "beb093da-fd97-4818-938b-79bc19d88f3e",
   "metadata": {},
   "outputs": [],
   "source": [
    "# but you can pick whichever you like\n",
    "left.join(small_right, how='right')"
   ]
  },
  {
   "cell_type": "code",
   "execution_count": null,
   "id": "a8615045-ac18-4e91-9a8d-c014f1b6347f",
   "metadata": {},
   "outputs": [],
   "source": [
    "# you can do the same thing with `merge` if you like, so `join` is just a convenient shorthand\n",
    "pd.merge(left, small_right, left_index=True, right_index=True)"
   ]
  },
  {
   "cell_type": "markdown",
   "id": "a4b5ca25-195d-40db-8f33-55267ec70aa6",
   "metadata": {},
   "source": [
    "## Timeseries"
   ]
  },
  {
   "cell_type": "code",
   "execution_count": null,
   "id": "619ed907-6dcd-4cb6-adc7-6ee015aa5649",
   "metadata": {},
   "outputs": [],
   "source": [
    "df = pd.DataFrame({\n",
    "    'value_1': np.random.randint(3, 12, size=(4,)),\n",
    "    'value_2': np.random.randint(3, 12, size=(4,))\n",
    "}, index=[pd.Timestamp('2023-11-01'), pd.Timestamp('2023-11-02'), pd.Timestamp('2023-11-04'), pd.Timestamp('2023-11-05')])\n",
    "df"
   ]
  },
  {
   "cell_type": "code",
   "execution_count": null,
   "id": "57445067-84ca-4eea-8523-b9c0c90376c6",
   "metadata": {},
   "outputs": [],
   "source": [
    "# fill in gaps in a timeseries\n",
    "daily_df = df.reindex(pd.date_range('2023-11-01', '2023-11-05', freq='D'))\n",
    "daily_df"
   ]
  },
  {
   "cell_type": "code",
   "execution_count": null,
   "id": "af091b83-f6ca-4752-8ddb-e095e5ad20a6",
   "metadata": {},
   "outputs": [],
   "source": [
    "hourly_df = df.reindex(pd.date_range('2023-11-01', '2023-11-05', freq='H'))\n",
    "hourly_df.head()"
   ]
  },
  {
   "cell_type": "code",
   "execution_count": null,
   "id": "c8d28aa8-6b7e-4314-86fd-e0159c8f526e",
   "metadata": {},
   "outputs": [],
   "source": [
    "# indexing timestamps is 'fuzzy' if you use a string as index\n",
    "hourly_df.loc['2023-11-01'].head()"
   ]
  },
  {
   "cell_type": "code",
   "execution_count": null,
   "id": "75af0b7b-7a2c-4631-9b97-0ef1706e7b4b",
   "metadata": {},
   "outputs": [],
   "source": [
    "# funky slicing\n",
    "hourly_df.loc['2023-11-01 05:00:00':'2023-11-01 08:00:00'].head()"
   ]
  },
  {
   "cell_type": "code",
   "execution_count": null,
   "id": "d9d79da8-063a-4d4b-950b-ee5d680f417e",
   "metadata": {},
   "outputs": [],
   "source": [
    "# using a Timestamp as index is precise, though\n",
    "hourly_df.loc[pd.Timestamp('2023-11-01')]"
   ]
  },
  {
   "cell_type": "code",
   "execution_count": null,
   "id": "75698e80-13ae-444b-a2d6-787de97382dc",
   "metadata": {},
   "outputs": [],
   "source": [
    "# fill NaNs with older values\n",
    "daily_df.ffill()"
   ]
  },
  {
   "cell_type": "code",
   "execution_count": null,
   "id": "2be23d9d-cd95-4240-be1f-4b3359bb41f0",
   "metadata": {},
   "outputs": [],
   "source": [
    "# you can also use `asfreq` to convert to a particular frequency, and fill missing values in one go\n",
    "df.asfreq(pd.offsets.BDay(), method=\"ffill\")"
   ]
  },
  {
   "cell_type": "code",
   "execution_count": null,
   "id": "1b05b0f3-605e-4835-8bf1-233c3f228c45",
   "metadata": {},
   "outputs": [],
   "source": [
    "# just a reminder what `df` looks like\n",
    "df"
   ]
  },
  {
   "cell_type": "code",
   "execution_count": null,
   "id": "d1c89233-2a33-4dc3-9c0a-7b0cfc5f9628",
   "metadata": {},
   "outputs": [],
   "source": [
    "# shifting data\n",
    "pd.concat([df, df.shift(1)], axis=1)"
   ]
  },
  {
   "cell_type": "code",
   "execution_count": null,
   "id": "ad41bdbd-2ec9-4ef6-b84e-d8cf1106562d",
   "metadata": {},
   "outputs": [],
   "source": [
    "# better specify a frequency!\n",
    "pd.concat([df, df.shift(1, freq='D')], axis=1)"
   ]
  },
  {
   "cell_type": "code",
   "execution_count": null,
   "id": "de6d5be6-ee5b-4e53-8db4-7c38fd4ddfab",
   "metadata": {},
   "outputs": [],
   "source": [
    "# windowing functions\n",
    "df.rolling(2).mean()"
   ]
  },
  {
   "cell_type": "markdown",
   "id": "37259a8d-1525-4512-8d7c-c4678e23b68e",
   "metadata": {},
   "source": [
    "# matplotlib\n",
    "- the basic library for visualizing/plotting data\n",
    "- plays very well with numpy"
   ]
  },
  {
   "cell_type": "markdown",
   "id": "32426949-e920-4404-a67e-90a67fc51321",
   "metadata": {},
   "source": [
    "## Installation and Import"
   ]
  },
  {
   "cell_type": "code",
   "execution_count": null,
   "id": "55d1a485-db53-41f0-8607-33cf180161f8",
   "metadata": {},
   "outputs": [],
   "source": [
    "!/home/atreju/.conda/envs/dhbw/bin/pip install matplotlib"
   ]
  },
  {
   "cell_type": "code",
   "execution_count": null,
   "id": "caad8440-f6de-46a8-8512-77eda649b046",
   "metadata": {},
   "outputs": [],
   "source": [
    "# importing matplotlib is a bit special for common convenient use:\n",
    "from matplotlib import pyplot as plt  # pyplot provided a 'nice' API for matplotlib functionality. `plt` is just convention again\n",
    "%matplotlib inline\n",
    "# ^ helpful in jupyter to show figures directly in the notebook"
   ]
  },
  {
   "cell_type": "markdown",
   "id": "0eebc094-54d2-4457-8a79-46c92b1a0964",
   "metadata": {},
   "source": [
    "## basic usage"
   ]
  },
  {
   "cell_type": "code",
   "execution_count": null,
   "id": "1a7d1820-8b9a-41af-9d0a-99aa7ba08d18",
   "metadata": {},
   "outputs": [],
   "source": [
    "import numpy as np"
   ]
  },
  {
   "cell_type": "code",
   "execution_count": null,
   "id": "00f54602-083a-4015-9c1d-41b8bc36e65f",
   "metadata": {},
   "outputs": [],
   "source": [
    "x = np.linspace(0, 2 * np.pi, 200)\n",
    "y = np.sin(x)\n",
    "plt.plot(x, y);  # two variables for x and y position of points, by default draws lines between points and no markers at points"
   ]
  },
  {
   "cell_type": "code",
   "execution_count": null,
   "id": "93d204d9-d33a-4bd4-9870-638bdf4f84f0",
   "metadata": {},
   "outputs": [],
   "source": [
    "x = np.linspace(0, 2 * np.pi, 20)\n",
    "y = np.sin(x)\n",
    "\n",
    "plt.plot(x, y, 'cd-.');\n",
    "# format strings: [marker][line][color] ([color][marker][line] is also understood (and common in examples) but may be ambiguous)\n",
    "# markers: one of .,ov^<>12348spP*hH+xXDd|_\n",
    "# line: one of - -- -. :\n",
    "# color: one of rgbcmykw"
   ]
  },
  {
   "cell_type": "code",
   "execution_count": null,
   "id": "ba8b603c-5089-41eb-86cb-be85dbea7a11",
   "metadata": {},
   "outputs": [],
   "source": [
    "# you can also specify these (and more) parameters as keywords\n",
    "plt.plot(x, y, color='c', marker='>', linestyle='--', linewidth=2, markersize=10, alpha=0.5, fillstyle='none');"
   ]
  },
  {
   "cell_type": "code",
   "execution_count": null,
   "id": "8d302853-9ba3-4098-a8e6-d6912defa104",
   "metadata": {},
   "outputs": [],
   "source": [
    "# points are connected in sequence, not by x-value:\n",
    "indices = np.random.permutation(20)\n",
    "plt.plot(x[indices], y[indices], 'cd-');"
   ]
  },
  {
   "cell_type": "markdown",
   "id": "c7011c6c-bc91-43fa-89ec-8013c7f569c5",
   "metadata": {},
   "source": [
    "## two API flavours"
   ]
  },
  {
   "cell_type": "markdown",
   "id": "51aa4882-7d8b-4429-bb08-0935447874ec",
   "metadata": {},
   "source": [
    "### Explicit axes objects"
   ]
  },
  {
   "cell_type": "code",
   "execution_count": null,
   "id": "640f98de-1776-41b1-a31f-93c4a172d0de",
   "metadata": {},
   "outputs": [],
   "source": [
    "x = np.linspace(0, 2, 100)  # Sample data.\n",
    "\n",
    "fig, ax = plt.subplots(figsize=(5, 2.7), layout='constrained')\n",
    "ax.plot(x, x, label='linear')  # Plot some data on the axes.\n",
    "ax.plot(x, x**2, label='quadratic')  # Plot more data on the axes...\n",
    "ax.plot(x, x**3, label='cubic')  # ... and some more.\n",
    "ax.set_xlabel('x label')  # Add an x-label to the axes.\n",
    "ax.set_ylabel('y label')  # Add a y-label to the axes.\n",
    "ax.set_title(\"Simple Plot\")  # Add a title to the axes.\n",
    "ax.legend();  # Add a legend."
   ]
  },
  {
   "cell_type": "code",
   "execution_count": null,
   "id": "147015fa-dd6c-44ff-978e-52a031ffcb76",
   "metadata": {},
   "outputs": [],
   "source": [
    "# let matplotlib figure it out (pyplot-style)\n",
    "x = np.linspace(0, 2, 100)  # Sample data.\n",
    "\n",
    "plt.figure(figsize=(5, 2.7), layout='constrained')\n",
    "plt.plot(x, x, label='linear')  # Plot some data on the (implicit) axes.\n",
    "plt.plot(x, x**2, label='quadratic')  # etc.\n",
    "plt.plot(x, x**3, label='cubic')\n",
    "plt.xlabel('x label')\n",
    "plt.ylabel('y label')\n",
    "plt.title(\"Simple Plot\")\n",
    "plt.legend();"
   ]
  },
  {
   "cell_type": "markdown",
   "id": "f102cc2d-89b5-4626-828b-54cf2c4b1f49",
   "metadata": {},
   "source": [
    "<div class=\"alert alert-block alert-info\">\n",
    "<b>API Choice:</b> <br>\n",
    "<a>\n",
    "    For complex plots or longer-lived code prefer the axes-object-style.<br>\n",
    "    For quick (interactive) visualizations pyplot-style is often more convenient.\n",
    "</a>\n",
    "</div>"
   ]
  },
  {
   "cell_type": "markdown",
   "id": "50bf08d2-87b9-4c2e-895a-a6306176b755",
   "metadata": {},
   "source": [
    "## Plot Types"
   ]
  },
  {
   "cell_type": "markdown",
   "id": "0a0cbe82-7179-4ade-9723-719cdcfb0e7b",
   "metadata": {},
   "source": [
    "### scatter plot\n",
    "- 2D, no connecting lines\n",
    "- each point can have a separate style (eg size, color)"
   ]
  },
  {
   "cell_type": "code",
   "execution_count": null,
   "id": "90efb1a3-4afb-468b-aa29-27d68ae1babc",
   "metadata": {},
   "outputs": [],
   "source": [
    "# also shows of the 'data' argument\n",
    "# come back to that with pandas\n",
    "data = {'x': np.arange(50),\n",
    "        'c': np.random.randint(0, 50, 50),\n",
    "        's': np.random.standard_normal(50)}\n",
    "data['y'] = data['x'] + 10 * np.random.standard_normal(50)\n",
    "data['s'] = np.abs(data['s']) * 100\n",
    "\n",
    "plt.scatter('x', 'y', c='c', s='s', data=data);"
   ]
  },
  {
   "cell_type": "markdown",
   "id": "253e7b06-c985-4efc-8f22-eaf12c40fe98",
   "metadata": {},
   "source": [
    "### bar plot (like)"
   ]
  },
  {
   "cell_type": "code",
   "execution_count": null,
   "id": "317ea434-0f4b-4f8f-9187-9f2707c04159",
   "metadata": {},
   "outputs": [],
   "source": [
    "x = 0.5 + np.arange(8)  # to make the bars centered in integer intervals -- there's also an 'align' parameter\n",
    "y = [4.8, 5.5, 3.5, 4.6, 6.5, 6.6, 2.6, 3.0]\n",
    "plt.bar(x, y, width=1, edgecolor='white');"
   ]
  },
  {
   "cell_type": "code",
   "execution_count": null,
   "id": "294864f9-1fef-40e7-96c4-b74218442f23",
   "metadata": {},
   "outputs": [],
   "source": [
    "plt.stem(x, y, bottom=5);"
   ]
  },
  {
   "cell_type": "markdown",
   "id": "fa612e8d-74c0-498a-add3-db79343acdec",
   "metadata": {},
   "source": [
    "### statistics - single distributions"
   ]
  },
  {
   "cell_type": "code",
   "execution_count": null,
   "id": "3a5f3d9f-59ba-4741-b808-5eda8f8d8ef7",
   "metadata": {},
   "outputs": [],
   "source": [
    "x = np.random.normal(20, 5, 100000)\n",
    "plt.hist(x, bins=100);"
   ]
  },
  {
   "cell_type": "code",
   "execution_count": null,
   "id": "914eda6f-901b-4952-be23-c07d23a38166",
   "metadata": {},
   "outputs": [],
   "source": [
    "y = 1.2 * x + np.random.normal(5, 3, 100000)\n",
    "plt.hist2d(x, y, bins=(np.linspace(0, 40, 200), np.linspace(0, 60, 100)));"
   ]
  },
  {
   "cell_type": "markdown",
   "id": "ce491816-3503-4bcc-814c-26b3b312a159",
   "metadata": {},
   "source": [
    "### statistics -- multiple distributions"
   ]
  },
  {
   "cell_type": "code",
   "execution_count": null,
   "id": "406e900a-9b3e-4c0d-be9e-7d9748c26ccd",
   "metadata": {},
   "outputs": [],
   "source": [
    "data = np.random.normal((3, 5, 4), (1.25, 1.00, 1.25), (400, 3))\n",
    "plt.hist(data);"
   ]
  },
  {
   "cell_type": "code",
   "execution_count": null,
   "id": "a2ba73a7-1262-46ef-904c-c8bbc0a207cc",
   "metadata": {},
   "outputs": [],
   "source": [
    "plt.boxplot(data);\n",
    "# median, 1st and 3rd quartile, quartile +/- 1.5IQR, outliers"
   ]
  },
  {
   "cell_type": "code",
   "execution_count": null,
   "id": "56d05dd0-bb8b-407b-bad1-b0804703f9c0",
   "metadata": {},
   "outputs": [],
   "source": [
    "plt.violinplot(data, showmedians=True);"
   ]
  },
  {
   "cell_type": "markdown",
   "id": "da60a90e-1746-470e-be72-698169e0b8f4",
   "metadata": {},
   "source": [
    "### plotting 2D data"
   ]
  },
  {
   "cell_type": "code",
   "execution_count": null,
   "id": "dd41f820-6d00-40f6-80b6-e3ef26454b2e",
   "metadata": {},
   "outputs": [],
   "source": [
    "arr = np.zeros((8, 8))\n",
    "arr[::2, ::2] = 1\n",
    "arr[1::2, 1::2] = 1\n",
    "plt.imshow(arr)"
   ]
  },
  {
   "cell_type": "code",
   "execution_count": null,
   "id": "37cabc66-b409-4848-90c9-db27f8d01f04",
   "metadata": {},
   "outputs": [],
   "source": [
    "X, Y = np.meshgrid(np.linspace(-3, 3, 256), np.linspace(-3, 3, 256))\n",
    "Z = (1 - X/2 + X**5 + Y**3) * np.exp(-X**2 - Y**2)"
   ]
  },
  {
   "cell_type": "code",
   "execution_count": null,
   "id": "a80c4b0b-1719-41bb-b932-d4dae4276932",
   "metadata": {},
   "outputs": [],
   "source": [
    "plt.imshow(np.flipud(Z))"
   ]
  },
  {
   "cell_type": "code",
   "execution_count": null,
   "id": "12385dba-50d4-4a12-bb87-41a41240ca66",
   "metadata": {},
   "outputs": [],
   "source": [
    "plt.pcolormesh(X, Y, Z);\n",
    "plt.gca().set_aspect('equal')"
   ]
  },
  {
   "cell_type": "code",
   "execution_count": null,
   "id": "df637d06-5ba3-433a-8c98-1401eecad94a",
   "metadata": {},
   "outputs": [],
   "source": [
    "plt.contour(X, Y, Z);\n",
    "plt.gca().set_aspect('equal')"
   ]
  },
  {
   "cell_type": "markdown",
   "id": "521ff73b-b87f-4241-8258-7c8c529d95cd",
   "metadata": {},
   "source": [
    "### plotting 3D data"
   ]
  },
  {
   "cell_type": "code",
   "execution_count": null,
   "id": "619f6098-5bd1-4ad8-904f-e2aba5653bec",
   "metadata": {},
   "outputs": [],
   "source": [
    "data = {'x': np.arange(50),\n",
    "        'c': np.random.randint(0, 50, 50),\n",
    "        's': np.random.standard_normal(50)}\n",
    "data['y'] = data['x'] + 10 * np.random.standard_normal(50)\n",
    "data['z'] = data['y'] = 10 * np.random.standard_normal(50)\n",
    "data['s'] = np.abs(data['s']) * 100\n",
    "\n",
    "fig, ax = plt.subplots(subplot_kw={\"projection\": \"3d\"})\n",
    "ax.scatter('x', 'y', 'z', c='c', s='s', data=data);\n"
   ]
  },
  {
   "cell_type": "code",
   "execution_count": null,
   "id": "d77d1127-5cb5-45e8-ba35-dd3185f0b61d",
   "metadata": {},
   "outputs": [],
   "source": [
    "X, Y = np.meshgrid(np.arange(-5, 5, 0.25), np.arange(-5, 5, 0.25))\n",
    "Z = np.sin(np.sqrt(X**2 + Y**2))\n",
    "\n",
    "# Plot the surface\n",
    "fig, ax = plt.subplots(subplot_kw={\"projection\": \"3d\"})\n",
    "ax.plot_surface(X, Y, Z);"
   ]
  },
  {
   "cell_type": "code",
   "execution_count": null,
   "id": "c2f134ff-1621-4df5-b607-dbd578185f5b",
   "metadata": {},
   "outputs": [],
   "source": [
    "fig, ax = plt.subplots(subplot_kw={\"projection\": \"3d\"})\n",
    "ax.plot_wireframe(X, Y, Z);"
   ]
  },
  {
   "cell_type": "markdown",
   "id": "bb8b69cd-a81a-4dfe-9ef2-00cb3c712293",
   "metadata": {},
   "source": [
    "## Multiple figure in one plot"
   ]
  },
  {
   "cell_type": "code",
   "execution_count": null,
   "id": "048be7ac-8b2f-4e18-b92c-5b793e7c9c83",
   "metadata": {},
   "outputs": [],
   "source": [
    "import matplotlib\n",
    "\n",
    "X, Y = np.meshgrid(np.linspace(-3, 3, 128), np.linspace(-3, 3, 128))\n",
    "Z = (1 - X/2 + X**5 + Y**3) * np.exp(-X**2 - Y**2)\n",
    "\n",
    "fig, axs = plt.subplots(2, 2, layout='constrained')\n",
    "axs[0, 0].pcolormesh(X, Y, Z, vmin=-1, vmax=1, cmap='RdBu_r')\n",
    "axs[0, 0].set_title('pcolormesh()')\n",
    "axs[0, 0].set_aspect('equal')\n",
    "\n",
    "axs[0, 1].contour(X, Y, Z, levels=np.linspace(-1.25, 1.25, 11))\n",
    "axs[0, 1].set_title('contourf()')\n",
    "axs[0, 1].set_aspect('equal')\n",
    "\n",
    "axs[1, 0].imshow(np.flipud(Z), vmin=-.5, vmax=.8)\n",
    "axs[1, 0].set_title('imshow()')\n",
    "\n",
    "axs[1, 1].imshow(np.flipud(Z**2), norm=matplotlib.colors.LogNorm(vmin=0.01, vmax=1))\n",
    "axs[1, 1].set_title('imshow(Z**2) with LogNorm()');"
   ]
  },
  {
   "cell_type": "markdown",
   "id": "9e5a177c-de54-42e5-9a6c-4bb51bc3a0a0",
   "metadata": {},
   "source": [
    "# plotnine\n",
    "- alternative API for plotting\n",
    "- built on top of matplotlib\n",
    "- works great with pandas\n",
    "- not used so much in python\n",
    "- but similar to a **very** popular R library, `ggplot2`\n",
    "- based on concepts from [A grammar of graphics](https://www.cs.uic.edu/~wilkinson/TheGrammarOfGraphics/GOG.html)"
   ]
  },
  {
   "cell_type": "markdown",
   "id": "2f189c87-ddc1-46cb-b6b6-6655186066d1",
   "metadata": {},
   "source": [
    "## Installation and Import    "
   ]
  },
  {
   "cell_type": "code",
   "execution_count": null,
   "id": "05c12842-14e2-47d6-a4de-2b33afa3d1ec",
   "metadata": {},
   "outputs": [],
   "source": [
    "!/home/atreju/.conda/envs/dhbw/bin/pip install plotnine"
   ]
  },
  {
   "cell_type": "code",
   "execution_count": null,
   "id": "b5eb0139-eac0-44e1-8a2c-ecdd4a105f7a",
   "metadata": {},
   "outputs": [],
   "source": [
    "import plotnine as p9  # convention, as usual"
   ]
  },
  {
   "cell_type": "markdown",
   "id": "6cbb771a-777e-4954-b048-387416f44a01",
   "metadata": {},
   "source": [
    "## Basic Example"
   ]
  },
  {
   "cell_type": "code",
   "execution_count": null,
   "id": "e6a1e28f-4e35-46ba-a557-cba48f9996e4",
   "metadata": {},
   "outputs": [],
   "source": [
    "df = pd.read_csv('../data/iris.csv')"
   ]
  },
  {
   "cell_type": "code",
   "execution_count": null,
   "id": "9edea434-054c-4377-a490-1f7ca6b277ad",
   "metadata": {},
   "outputs": [],
   "source": [
    "(\n",
    "    p9.ggplot(df, p9.aes(x='sepal_length', y='sepal_width', colour='variety', group='variety'))\n",
    "      + p9.geom_point()\n",
    "      + p9.geom_smooth(method='lm')\n",
    ")"
   ]
  },
  {
   "cell_type": "code",
   "execution_count": null,
   "id": "4715e5a0-0e7e-4df0-90a0-b35ccfd63fee",
   "metadata": {},
   "outputs": [],
   "source": [
    "(\n",
    "  p9.ggplot(df, p9.aes(x='variety', y='sepal_width', fill='variety')) \n",
    "      + p9.geom_violin(draw_quantiles=0.5, trim=False)\n",
    "      + p9.scale_fill_brewer(type='qual')\n",
    ")"
   ]
  },
  {
   "cell_type": "markdown",
   "id": "65b431a6-096f-4bd7-930c-ccd446f93197",
   "metadata": {},
   "source": [
    "# Seaborn\n",
    "- another library for plotting & visualization\n",
    "- specific focus on statistics\n",
    "- with very high-level API"
   ]
  },
  {
   "cell_type": "markdown",
   "id": "adeb85aa-97d4-465e-b4b4-eea5ce666ed4",
   "metadata": {},
   "source": [
    "## Installation and Import"
   ]
  },
  {
   "cell_type": "code",
   "execution_count": null,
   "id": "1ac96054-5731-4605-8276-2a870b56bd0a",
   "metadata": {},
   "outputs": [],
   "source": [
    "!/home/atreju/.conda/envs/dhbw/bin/pip install seaborn"
   ]
  },
  {
   "cell_type": "code",
   "execution_count": null,
   "id": "44ec11e5-ee48-4d99-8bbb-d5170bb9d93d",
   "metadata": {},
   "outputs": [],
   "source": [
    "import seaborn as sns  # guess what: convention\n",
    "%matplotlib inline"
   ]
  },
  {
   "cell_type": "code",
   "execution_count": null,
   "id": "60721aeb-8971-4ba0-b574-afd8891e3565",
   "metadata": {},
   "outputs": [],
   "source": [
    "tips = sns.load_dataset('tips')\n",
    "tips"
   ]
  },
  {
   "cell_type": "markdown",
   "id": "0c37f9af-82bd-43a0-8cfe-f9e108cfaf7e",
   "metadata": {},
   "source": [
    "## Examples"
   ]
  },
  {
   "cell_type": "code",
   "execution_count": null,
   "id": "65b4f2fe-d1fc-4e3c-88e2-c6a8bbfbcbe2",
   "metadata": {},
   "outputs": [],
   "source": [
    "# plot statistical relationship between multiple variables\n",
    "sns.relplot(\n",
    "    data=tips,\n",
    "    x=\"total_bill\", y=\"tip\", col=\"time\",\n",
    "    hue=\"smoker\", style=\"smoker\", size=\"size\",\n",
    ");"
   ]
  },
  {
   "cell_type": "code",
   "execution_count": null,
   "id": "c3df3f98-3613-44bd-906a-289627bb3957",
   "metadata": {},
   "outputs": [],
   "source": [
    "# or for distributions\n",
    "sns.displot(data=tips, x=\"total_bill\", col=\"time\", kde=True);"
   ]
  },
  {
   "cell_type": "code",
   "execution_count": null,
   "id": "d0835588-4c1d-4c2b-88e6-b6b33d07482a",
   "metadata": {},
   "outputs": [],
   "source": [
    "# or more violins\n",
    "# here called `catplot`(categorical, not the animal :) because we're using many categorical variables\n",
    "# (day, smoker)\n",
    "sns.catplot(data=tips, kind=\"violin\", x=\"day\", y=\"total_bill\", hue=\"smoker\", split=True)"
   ]
  },
  {
   "cell_type": "code",
   "execution_count": null,
   "id": "b7b08132-5231-4498-ad73-87d7a9550d53",
   "metadata": {},
   "outputs": [],
   "source": [
    "# plot correlations between many variables in one go, and color by group\n",
    "df = pd.read_csv('../data/iris.csv')\n",
    "sns.pairplot(data=df, hue=\"variety\");"
   ]
  },
  {
   "cell_type": "markdown",
   "id": "7df09319-5645-4f37-a8ad-544f43be10b3",
   "metadata": {},
   "source": [
    "# scipy"
   ]
  },
  {
   "cell_type": "markdown",
   "id": "ed65d90e-3e32-41ba-ac30-e329aade4e49",
   "metadata": {},
   "source": [
    "## Installation and Import"
   ]
  },
  {
   "cell_type": "code",
   "execution_count": null,
   "id": "1bf06cb5-561f-47f3-9034-21fdbcee869f",
   "metadata": {},
   "outputs": [],
   "source": [
    "!/home/atreju/.conda/envs/dhbw/bin/pip install scipy"
   ]
  },
  {
   "cell_type": "code",
   "execution_count": null,
   "id": "1b4d9d74-4465-4e95-aaf8-22ee70e68252",
   "metadata": {},
   "outputs": [],
   "source": [
    "# typically import parts of scipy, e.g.\n",
    "from scipy import linalg"
   ]
  },
  {
   "cell_type": "markdown",
   "id": "0133365b-8ec3-44ce-b574-d340030f7da3",
   "metadata": {},
   "source": [
    "## linear algebra\n",
    "- everything in the world needs linear algebra, all the time\n",
    "- and for ML students/practitioners everything needs an extra dose of linear algebra\n",
    "- so if you learn linear algebra somewhere, pay attention :)"
   ]
  },
  {
   "cell_type": "code",
   "execution_count": null,
   "id": "0e361dbe-b5cf-4f3d-9f5c-1e90d2d88eaa",
   "metadata": {},
   "outputs": [],
   "source": [
    "from scipy import linalg"
   ]
  },
  {
   "cell_type": "markdown",
   "id": "4f5ee6e7-04c0-4f3b-bd0b-5b5bfc8208d6",
   "metadata": {},
   "source": [
    "#### linear algebra -- basic operations"
   ]
  },
  {
   "cell_type": "code",
   "execution_count": null,
   "id": "557b42d3-cff9-40d3-bf30-30ae65c0c7d8",
   "metadata": {},
   "outputs": [],
   "source": [
    "# we're doing math, so we're using mathy language...\n",
    "matrix = np.array([[1, 2, 3], [3, 2, 1], [1, 0, -1]])\n",
    "matrix = np.arange(9).reshape(3, 3)\n",
    "matrix"
   ]
  },
  {
   "cell_type": "code",
   "execution_count": null,
   "id": "854a6cb7-190c-44fe-b063-b54b42b026e2",
   "metadata": {},
   "outputs": [],
   "source": [
    "vector1 = np.array([1, 0, 0])\n",
    "vector2 = np.array([0, 1, 0])\n",
    "vector3 = np.array([1, 1, 0])"
   ]
  },
  {
   "cell_type": "code",
   "execution_count": null,
   "id": "82082c44-51a8-4510-aa53-a4fe414bb79c",
   "metadata": {},
   "outputs": [],
   "source": [
    "# transpose an array (mirror along diagonal)\n",
    "matrix.T"
   ]
  },
  {
   "cell_type": "code",
   "execution_count": null,
   "id": "61d1a037-d8cb-4dcf-9a9b-8b5f92eae4cd",
   "metadata": {},
   "outputs": [],
   "source": [
    "# calculate inner products between vectors\n",
    "# some things still needed from numpy here"
   ]
  },
  {
   "cell_type": "code",
   "execution_count": null,
   "id": "07f909a3-3d75-41dc-835c-0067a72553ab",
   "metadata": {},
   "outputs": [],
   "source": [
    "np.dot(vector1, vector2)"
   ]
  },
  {
   "cell_type": "code",
   "execution_count": null,
   "id": "4168155a-0700-42ca-ac1a-0fe47b54ef7e",
   "metadata": {},
   "outputs": [],
   "source": [
    "np.dot(vector1, vector3)"
   ]
  },
  {
   "cell_type": "code",
   "execution_count": null,
   "id": "45470395-5e7c-4205-8724-b1a1fb843402",
   "metadata": {},
   "outputs": [],
   "source": [
    "# shortcut using `@`-operator for matrix multiplication"
   ]
  },
  {
   "cell_type": "code",
   "execution_count": null,
   "id": "d208cad2-12f3-4692-9334-a4595f384178",
   "metadata": {},
   "outputs": [],
   "source": [
    "vector1 @ vector3"
   ]
  },
  {
   "cell_type": "code",
   "execution_count": null,
   "id": "51b173f3-0816-4f29-a182-0203bf8c699c",
   "metadata": {},
   "outputs": [],
   "source": [
    "# you can also multiply vectors and matrices\n",
    "np.dot(matrix, vector1)"
   ]
  },
  {
   "cell_type": "code",
   "execution_count": null,
   "id": "1f1a2651-f811-4be0-a5ab-9f1aaf3dfbdd",
   "metadata": {},
   "outputs": [],
   "source": [
    "# and you can multiply matrices together"
   ]
  },
  {
   "cell_type": "code",
   "execution_count": null,
   "id": "a06cc6c8-e725-4766-a38a-f0b1ac0a86df",
   "metadata": {},
   "outputs": [],
   "source": [
    "np.dot(matrix, matrix)"
   ]
  },
  {
   "cell_type": "code",
   "execution_count": null,
   "id": "b9c1838c-80b1-42d5-aac5-5aa723125e13",
   "metadata": {},
   "outputs": [],
   "source": [
    "# and outer products :)\n",
    "np.outer(matrix, matrix)"
   ]
  },
  {
   "cell_type": "code",
   "execution_count": null,
   "id": "656a26f6-6521-4647-8170-107f55abea78",
   "metadata": {},
   "outputs": [],
   "source": [
    "# you can calculate the determinant of a matrix\n",
    "linalg.det(matrix)"
   ]
  },
  {
   "cell_type": "code",
   "execution_count": null,
   "id": "fa868c4f-36d8-4c7a-8dc1-1b323ef99bbc",
   "metadata": {},
   "outputs": [],
   "source": [
    "# you can calculate the inverse of a matrix\n",
    "invertible_matrix = np.array([[1, 2], [3, 4]])\n",
    "linalg.inv(invertible_matrix)"
   ]
  },
  {
   "cell_type": "code",
   "execution_count": null,
   "id": "25196a3d-2e5f-487d-85f7-1782440e5aec",
   "metadata": {},
   "outputs": [],
   "source": [
    "# or pseudo-inverse\n",
    "linalg.pinv(invertible_matrix)"
   ]
  },
  {
   "cell_type": "code",
   "execution_count": null,
   "id": "03b6686d-e570-44ba-90ef-17bf6381441d",
   "metadata": {},
   "outputs": [],
   "source": [
    "invertible_matrix @ np.linalg.inv(invertible_matrix)"
   ]
  },
  {
   "cell_type": "code",
   "execution_count": null,
   "id": "edd4cc4c-20fd-4ab9-8da0-1961c313f660",
   "metadata": {},
   "outputs": [],
   "source": [
    "# you can calculate eigenvalues and eigenvectors of a matrix\n",
    "values, vectors = np.linalg.eig(matrix)"
   ]
  },
  {
   "cell_type": "code",
   "execution_count": null,
   "id": "76c71963-61bf-4b09-be23-703dc3ce2654",
   "metadata": {},
   "outputs": [],
   "source": [
    "values"
   ]
  },
  {
   "cell_type": "code",
   "execution_count": null,
   "id": "455175ca-8039-4dca-b026-e187e06f7f45",
   "metadata": {},
   "outputs": [],
   "source": [
    "vectors"
   ]
  },
  {
   "cell_type": "code",
   "execution_count": null,
   "id": "ec08fdcc-cd68-4566-a9c1-a06b33853cb0",
   "metadata": {},
   "outputs": [],
   "source": [
    "np.dot(matrix, vectors[:, 0]) - values[0]*vectors[:, 0]"
   ]
  },
  {
   "cell_type": "markdown",
   "id": "0716c0d3-2f4e-4a8b-b52b-41ad5d5cb6a1",
   "metadata": {},
   "source": [
    "#### and what do we do all this for?"
   ]
  },
  {
   "cell_type": "code",
   "execution_count": null,
   "id": "3e049bbc-e568-4775-a177-86ca68374cc2",
   "metadata": {},
   "outputs": [],
   "source": [
    "# mostly for solving systems of linear equations\n",
    "#   x + 3y + 5z = 10\n",
    "#  2x + 5y +  z = 8\n",
    "#  2x + 3y + 8z = 3"
   ]
  },
  {
   "cell_type": "markdown",
   "id": "4cb4c2fe-dfe1-4c13-96f9-026900223f1e",
   "metadata": {},
   "source": [
    "we can express that problem as a matrix multiplication\n",
    "  ⌈1  3  5⌉     ⌈x⌉   ⌈10⌉ \n",
    "  |2  5  1|  x  |y| = | 8|\n",
    "  ⌊2  3  8⌋     ⌊z⌋   ⌊ 3⌋\n"
   ]
  },
  {
   "cell_type": "code",
   "execution_count": null,
   "id": "896efdd6-ab7f-450f-b15d-7ad52e66ade2",
   "metadata": {},
   "outputs": [],
   "source": [
    "matrix = np.array([\n",
    "    [1, 3, 5],\n",
    "    [2, 5, 1],\n",
    "    [2, 3, 8]\n",
    "])"
   ]
  },
  {
   "cell_type": "code",
   "execution_count": null,
   "id": "62627043-d609-42d7-bd0d-9f44b3492da8",
   "metadata": {},
   "outputs": [],
   "source": [
    "solution = linalg.inv(matrix).dot(np.array([10, 8, 3]))\n",
    "solution"
   ]
  },
  {
   "cell_type": "code",
   "execution_count": null,
   "id": "6932cab8-cbf6-4590-85aa-3b610ffd1af8",
   "metadata": {},
   "outputs": [],
   "source": [
    "# put that in for your x, y and z and the equation becomes true...\n",
    "matrix.dot(solution)"
   ]
  },
  {
   "cell_type": "markdown",
   "id": "d98fea1d-df1a-4a03-b506-d91ebe107926",
   "metadata": {},
   "source": [
    "**and lots more**\n",
    "- linear least squares and pseudo-inverses (fitting curves to data)\n",
    "- matrix decomposition (cholesky, singular value, LU, ...)\n",
    "- matrix powers/logarithms/trigonometric functions\n",
    "- some special matrices\n",
    "- ..."
   ]
  },
  {
   "cell_type": "markdown",
   "id": "ce3fe46e-c548-4e3d-ad82-5892b41847a2",
   "metadata": {},
   "source": [
    "## statistics\n",
    "- random distributions are almost as important as linear algebra :)\n",
    "- obviously closely related to generating random numbers in the first place...\n",
    "- there's lots of them :)"
   ]
  },
  {
   "cell_type": "markdown",
   "id": "4d46512c-513e-4f10-a110-fdbce00436cd",
   "metadata": {},
   "source": [
    "common to all distributions:\n",
    "- rvs: random variates\n",
    "- pdf: probability density (continuous)\n",
    "- pmf: probability mass (discrete)\n",
    "- cdf: cumulative distribution function\n",
    "- stats: mean, variance, ...\n",
    "- ..."
   ]
  },
  {
   "cell_type": "code",
   "execution_count": null,
   "id": "2ba46911-0e11-412a-9abd-d5ab8aca06b3",
   "metadata": {},
   "outputs": [],
   "source": [
    "from scipy import stats"
   ]
  },
  {
   "cell_type": "markdown",
   "id": "823ffac3-1e42-4bc9-90b6-cf30991f261a",
   "metadata": {},
   "source": [
    "### intro example"
   ]
  },
  {
   "cell_type": "code",
   "execution_count": null,
   "id": "c4a1398b-1cfa-45b4-ba2b-fca26107dc72",
   "metadata": {},
   "outputs": [],
   "source": [
    "import numpy as np\n",
    "from scipy import stats\n",
    "from matplotlib import pyplot as plt\n",
    "%matplotlib inline"
   ]
  },
  {
   "cell_type": "code",
   "execution_count": null,
   "id": "8b71923c-6be5-40e1-8828-c012e2d54cd5",
   "metadata": {},
   "outputs": [],
   "source": [
    "x = np.linspace(-3, 3, 601)\n",
    "plt.plot(x, stats.norm.pdf(x))"
   ]
  },
  {
   "cell_type": "code",
   "execution_count": null,
   "id": "8edf8987-ca5f-4c1f-9ee6-f30e58369b71",
   "metadata": {},
   "outputs": [],
   "source": [
    "plt.plot(x, stats.norm.cdf(x))"
   ]
  },
  {
   "cell_type": "code",
   "execution_count": null,
   "id": "7eafd909-1ed6-4b9e-8029-4919fd0331fd",
   "metadata": {},
   "outputs": [],
   "source": [
    "# get mean and variance\n",
    "stats.norm.stats()"
   ]
  },
  {
   "cell_type": "code",
   "execution_count": null,
   "id": "6213e432-a68f-42ab-8a16-f655ce42f7fd",
   "metadata": {},
   "outputs": [],
   "source": [
    "# get random samples\n",
    "stats.norm.rvs(size=10)"
   ]
  },
  {
   "cell_type": "code",
   "execution_count": null,
   "id": "379fb21e-9433-4c6a-9a59-6ff70140904e",
   "metadata": {},
   "outputs": [],
   "source": [
    "# can specify mean and variance\n",
    "plt.plot(x, stats.norm.pdf(x, loc=1, scale=2))"
   ]
  },
  {
   "cell_type": "markdown",
   "id": "27199374-8799-49ec-bd19-88253dc8f127",
   "metadata": {},
   "source": [
    "### better random numbers"
   ]
  },
  {
   "cell_type": "code",
   "execution_count": null,
   "id": "969a5c98-4c6a-4979-964d-23ed91059abb",
   "metadata": {},
   "outputs": [],
   "source": [
    "# scipy uses a random number generator from numpy\n",
    "from numpy.random import default_rng\n",
    "rng = default_rng(seed=None)  # allows to set a seed\n",
    "stats.norm.rvs(size=5, random_state=rng)"
   ]
  },
  {
   "cell_type": "markdown",
   "id": "7137faf6-d6e3-439b-b094-aadb0eed3e49",
   "metadata": {},
   "source": [
    "### more distributions: discrete -- three examples\n",
    "- there's 19 different ones in scipy...\n",
    "- I won't discuss them all..."
   ]
  },
  {
   "cell_type": "code",
   "execution_count": null,
   "id": "8de80f5d-23ad-4a54-ab68-e72ecc7cea1f",
   "metadata": {},
   "outputs": [],
   "source": [
    "# discrete: binomial (# successes in fixed number of trials (coin flip)\n",
    "stats.binom.stats(n=5, p=0.5)"
   ]
  },
  {
   "cell_type": "code",
   "execution_count": null,
   "id": "2ab18f7b-1724-4e0f-93f5-c22c11db5a60",
   "metadata": {},
   "outputs": [],
   "source": [
    "x = np.linspace(-.5, 5.5, 601)\n",
    "plt.plot(x, stats.binom.pmf(x, n=5, p=0.5))"
   ]
  },
  {
   "cell_type": "code",
   "execution_count": null,
   "id": "3a116da2-0523-44b5-97ba-cad0cbd46e8c",
   "metadata": {},
   "outputs": [],
   "source": [
    "# discrete: poisson (# independent events in fixed interval)\n",
    "stats.poisson.stats(mu=10)"
   ]
  },
  {
   "cell_type": "code",
   "execution_count": null,
   "id": "ccca57e4-bfb2-4e4d-a26e-c1a94212b3b7",
   "metadata": {},
   "outputs": [],
   "source": [
    "x = np.linspace(0, 20, 2001)\n",
    "plt.plot(x, stats.poisson.pmf(x, mu=10))"
   ]
  },
  {
   "cell_type": "code",
   "execution_count": null,
   "id": "a72ed227-af54-41b1-ba9d-a6dee53fd7e8",
   "metadata": {},
   "outputs": [],
   "source": [
    "# discrete: uniform\n",
    "stats.randint.stats(low=5, high=10)  # high is (as usual) exclusive"
   ]
  },
  {
   "cell_type": "code",
   "execution_count": null,
   "id": "5c59fdbf-e362-4dc1-b3fd-5ce77c260d85",
   "metadata": {},
   "outputs": [],
   "source": [
    "x = np.linspace(5, 10, 501)\n",
    "plt.plot(x, stats.randint.pmf(x, low=5, high=10))"
   ]
  },
  {
   "cell_type": "markdown",
   "id": "69aee784-52b5-43a1-957f-75c6e94ce010",
   "metadata": {},
   "source": [
    "### more distributions: continuous -- three examples\n",
    "- there's more than **90** different ones in scipy...\n",
    "- I won't discuss them all...\n",
    "- top place should go to the normal distribution, but we had that already above"
   ]
  },
  {
   "cell_type": "code",
   "execution_count": null,
   "id": "b473e388-4117-41be-9cd8-07445289ce81",
   "metadata": {},
   "outputs": [],
   "source": [
    "# exponential: time between events in poisson\n",
    "stats.expon.stats()"
   ]
  },
  {
   "cell_type": "code",
   "execution_count": null,
   "id": "4360b8c3-9e0b-49f4-b851-4d06c77585d7",
   "metadata": {},
   "outputs": [],
   "source": [
    "x = np.linspace(0, 5, 501)\n",
    "plt.plot(x, stats.expon.pdf(x))"
   ]
  },
  {
   "cell_type": "code",
   "execution_count": null,
   "id": "c01804c8-34d4-44e8-a5c8-ca0583dd1481",
   "metadata": {},
   "outputs": [],
   "source": [
    "# uniform: continous version of discrete `\n",
    "stats.uniform.stats(loc=5)"
   ]
  },
  {
   "cell_type": "code",
   "execution_count": null,
   "id": "3be7787d-ad75-4c0e-b5d1-24345de042e0",
   "metadata": {},
   "outputs": [],
   "source": [
    "x = np.linspace(-1, 2, 301)\n",
    "plt.plot(x, stats.uniform.pdf(x))"
   ]
  },
  {
   "cell_type": "code",
   "execution_count": null,
   "id": "82742c96-d4a1-45e0-a671-5cd936aadb56",
   "metadata": {},
   "outputs": [],
   "source": [
    "# beta: common in bayesian statistics\n",
    "stats.beta.stats(a=2, b=5)"
   ]
  },
  {
   "cell_type": "code",
   "execution_count": null,
   "id": "44094888-f9d0-4afa-80c8-525adb0d2e87",
   "metadata": {},
   "outputs": [],
   "source": [
    "plt.plot(x, stats.beta.pdf(x, a=2, b=5))"
   ]
  },
  {
   "cell_type": "markdown",
   "id": "a4fb594c-a1a8-4263-902a-a83c9d96420f",
   "metadata": {},
   "source": [
    "## interpolation\n",
    "- 'guess' function values between measured points"
   ]
  },
  {
   "cell_type": "code",
   "execution_count": null,
   "id": "a867d01e-88a5-40be-8756-bcfe97a760ef",
   "metadata": {},
   "outputs": [],
   "source": [
    "from scipy import interpolate"
   ]
  },
  {
   "cell_type": "code",
   "execution_count": null,
   "id": "7ff733cb-e0ab-404c-ac25-766544f2b317",
   "metadata": {},
   "outputs": [],
   "source": [
    "import numpy as np\n",
    "x = np.linspace(0, 10, num=11)\n",
    "y = np.cos(-x**2 / 9)"
   ]
  },
  {
   "cell_type": "code",
   "execution_count": null,
   "id": "1142d342-00dd-42e0-a0cf-42da9b84e557",
   "metadata": {},
   "outputs": [],
   "source": [
    "xnew = np.linspace(0, 10, num=1001)\n",
    "ynew = np.interp(xnew, x, y)"
   ]
  },
  {
   "cell_type": "code",
   "execution_count": null,
   "id": "74591d81-a007-4dd2-a09b-03ff2cf45c60",
   "metadata": {},
   "outputs": [],
   "source": [
    "xtrue = np.linspace(0, 10, num=1001)\n",
    "ytrue = np.cos(-xtrue**2 / 9)"
   ]
  },
  {
   "cell_type": "code",
   "execution_count": null,
   "id": "a52b874f-1fad-4443-bb64-76843fb4bc76",
   "metadata": {},
   "outputs": [],
   "source": [
    "plt.plot(xnew, ynew, '-', label='linear interp')\n",
    "plt.plot(x, y, 'o', label='data')\n",
    "plt.plot(xtrue, ytrue, '--', label='true function')\n",
    "plt.legend(loc='best')\n",
    "plt.show()"
   ]
  },
  {
   "cell_type": "code",
   "execution_count": null,
   "id": "ab9a5287-045d-460b-afd1-1c993ed31a0c",
   "metadata": {},
   "outputs": [],
   "source": [
    "spline_interpolator = interpolate.make_interp_spline(x, y)\n",
    "ynew = spline_interpolator(xnew)"
   ]
  },
  {
   "cell_type": "code",
   "execution_count": null,
   "id": "dbbabd9a-ff69-4e91-8711-870e57972eef",
   "metadata": {},
   "outputs": [],
   "source": [
    "plt.plot(xnew, ynew, '-', label='linear interp')\n",
    "plt.plot(x, y, 'o', label='data')\n",
    "plt.plot(xtrue, ytrue, '--', label='true function')\n",
    "plt.legend(loc='best')\n",
    "plt.show()"
   ]
  },
  {
   "cell_type": "markdown",
   "id": "c968287e-db60-4d19-8358-ddd1e62d3356",
   "metadata": {},
   "source": [
    "## integration\n",
    "- numerical integration of functions"
   ]
  },
  {
   "cell_type": "code",
   "execution_count": null,
   "id": "1e9ce624-914c-4ba4-bfea-4ddde788b17b",
   "metadata": {},
   "outputs": [],
   "source": [
    "from scipy import integrate\n",
    "import numpy as np"
   ]
  },
  {
   "cell_type": "code",
   "execution_count": null,
   "id": "b5585e90-6016-46f5-830a-f509e96c0efe",
   "metadata": {},
   "outputs": [],
   "source": [
    "def integrand(t, n, x):\n",
    "    return np.exp(-x*t) / t**n"
   ]
  },
  {
   "cell_type": "code",
   "execution_count": null,
   "id": "bb88fc3e-51d9-4dce-ba72-a2aaf2cd41e3",
   "metadata": {},
   "outputs": [],
   "source": [
    "def integral(n, x):\n",
    "    return integrate.quad(integrand, 1, np.inf, args=(n, x))[0]"
   ]
  },
  {
   "cell_type": "code",
   "execution_count": null,
   "id": "e15d721e-67c7-4c50-b2f1-0fc12029ed04",
   "metadata": {},
   "outputs": [],
   "source": [
    "vectorized_integral = np.vectorize(integral)"
   ]
  },
  {
   "cell_type": "code",
   "execution_count": null,
   "id": "c3bba287-a905-45ff-b5bb-012e5db748ba",
   "metadata": {},
   "outputs": [],
   "source": [
    "x = np.linspace(1, 5, 401)\n",
    "plt.plot(x, vectorized_integral(0, x))\n",
    "plt.plot(x, vectorized_integral(1, x))\n",
    "plt.plot(x, vectorized_integral(2, x))\n",
    "plt.plot(x, vectorized_integral(3, x))"
   ]
  },
  {
   "cell_type": "markdown",
   "id": "f0ea0636-cafc-481a-a246-107b171b9814",
   "metadata": {},
   "source": [
    "## fft\n",
    "- get frequency components of signals\n",
    "- very important in analyzing signals"
   ]
  },
  {
   "cell_type": "code",
   "execution_count": null,
   "id": "01842b4f-02a1-4b61-8e0f-4768d8a4eb03",
   "metadata": {},
   "outputs": [],
   "source": [
    "from scipy import fft"
   ]
  },
  {
   "cell_type": "code",
   "execution_count": null,
   "id": "a1f5458c-f25a-474a-9c29-27625e4c1312",
   "metadata": {},
   "outputs": [],
   "source": [
    "x = np.linspace(0, 10*2*np.pi, 10001)\n",
    "y = (np.sin(x*np.pi) + np.sin(2*x*np.pi) + np.cos(3*np.pi*x)) "
   ]
  },
  {
   "cell_type": "code",
   "execution_count": null,
   "id": "2aa20051-c7cb-4539-a083-120fca6b571b",
   "metadata": {},
   "outputs": [],
   "source": [
    "plt.plot(x, y, '-')\n",
    "plt.gca().set_xlim((0, 4*np.pi))"
   ]
  },
  {
   "cell_type": "code",
   "execution_count": null,
   "id": "a0651bb0-c350-42c6-82b2-a6262a1a101b",
   "metadata": {},
   "outputs": [],
   "source": [
    "yf = fft.fft(y)\n",
    "xf = fft.fftfreq(10001, 10*2*np.pi/10000)\n",
    "plt.plot(xf, np.abs(yf))\n",
    "plt.gca().set_xlim((-2, 2));"
   ]
  },
  {
   "cell_type": "markdown",
   "id": "931b1f7d-f589-403e-992c-46b0aca09e73",
   "metadata": {},
   "source": [
    "## optimization\n",
    "- numerically find extrema of functions"
   ]
  },
  {
   "cell_type": "code",
   "execution_count": null,
   "id": "618556e6-8394-4d61-b7b2-d01face45f53",
   "metadata": {},
   "outputs": [],
   "source": [
    "from scipy import optimize"
   ]
  },
  {
   "cell_type": "code",
   "execution_count": null,
   "id": "39012fb5-7af1-4ec7-aa9b-597e1e735d65",
   "metadata": {},
   "outputs": [],
   "source": [
    "X, Y = np.meshgrid(np.linspace(-3, 3, 256), np.linspace(-3, 3, 256))\n",
    "Z = (1 - X/2 + X**5 + Y**3) * np.exp(-X**2 - Y**2)"
   ]
  },
  {
   "cell_type": "code",
   "execution_count": null,
   "id": "fbc0844c-d6c5-4f69-9cea-fa060302183d",
   "metadata": {},
   "outputs": [],
   "source": [
    "plt.pcolormesh(X, Y, Z)\n",
    "plt.gca().set_aspect('equal')"
   ]
  },
  {
   "cell_type": "code",
   "execution_count": null,
   "id": "f841936f-3c78-456c-b3c8-4a1af3709ce5",
   "metadata": {},
   "outputs": [],
   "source": [
    "def f(params):\n",
    "    x, y = params\n",
    "    return -(1 - x/2 + x**5 + y**3) * np.exp(-x**2 - y**2)"
   ]
  },
  {
   "cell_type": "code",
   "execution_count": null,
   "id": "a4b63015-3059-4986-88ce-99a72511b11e",
   "metadata": {},
   "outputs": [],
   "source": [
    "res1 = optimize.minimize(f, (0, 0), bounds=((-3, 3), (-3, 3)))"
   ]
  },
  {
   "cell_type": "code",
   "execution_count": null,
   "id": "a2de7a6e-8078-4e33-8f3c-b0c1a98c6496",
   "metadata": {},
   "outputs": [],
   "source": [
    "res2 = optimize.minimize(f, (3, 0), bounds=((-3, 3), (-3, 3)))"
   ]
  },
  {
   "cell_type": "code",
   "execution_count": null,
   "id": "21a5d4d1-8496-4017-a5c3-59d48b262167",
   "metadata": {},
   "outputs": [],
   "source": [
    "plt.pcolormesh(X, Y, Z)\n",
    "plt.contour(X, Y, Z)\n",
    "plt.gca().set_aspect('equal')\n",
    "plt.plot(*res1.x, 'o')\n",
    "plt.plot(*res2.x, 'x')"
   ]
  },
  {
   "cell_type": "markdown",
   "id": "3a29b0d1-524f-4d1c-9f05-990150e1cc44",
   "metadata": {},
   "source": [
    "## and more...\n",
    "- sparse arrays\n",
    "- signal processing\n",
    "- special functions\n",
    "- spatial data structures"
   ]
  }
 ],
 "metadata": {
  "kernelspec": {
   "display_name": "dhbw",
   "language": "python",
   "name": "dhbw"
  },
  "language_info": {
   "codemirror_mode": {
    "name": "ipython",
    "version": 3
   },
   "file_extension": ".py",
   "mimetype": "text/x-python",
   "name": "python",
   "nbconvert_exporter": "python",
   "pygments_lexer": "ipython3",
   "version": "3.11.0"
  }
 },
 "nbformat": 4,
 "nbformat_minor": 5
}
